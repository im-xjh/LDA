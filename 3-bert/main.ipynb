{
 "cells": [
  {
   "cell_type": "markdown",
   "metadata": {},
   "source": [
    "# 0. 导入必要的库"
   ]
  },
  {
   "cell_type": "code",
   "execution_count": null,
   "metadata": {},
   "outputs": [],
   "source": [
    "import json\n",
    "import numpy as np\n",
    "from bertopic import BERTopic\n",
    "from transformers.pipelines import pipeline\n",
    "from umap import UMAP\n",
    "from hdbscan import HDBSCAN\n",
    "from sklearn.feature_extraction.text import CountVectorizer\n",
    "from sklearn.metrics.pairwise import cosine_similarity\n",
    "import os\n",
    "import pandas as pd\n",
    "from sklearn.metrics import silhouette_score # 移到这里，因为它在模型配置部分被使用"
   ]
  },
  {
   "cell_type": "markdown",
   "metadata": {},
   "source": [
    "# 1. 数据导入与预处理"
   ]
  },
  {
   "cell_type": "code",
   "execution_count": 10,
   "metadata": {},
   "outputs": [
    {
     "name": "stdout",
     "output_type": "stream",
     "text": [
      "文本总数: 2150\n",
      "预览第一条分词结果: 黑神话 年度 游戏 舆论 机器 上映 异形 唯一 一位 华裔女性 莫名其妙 抱脸虫 袭击 产下 异形 黄祸论 变种 确实 肯定 喷惨\n",
      "预览第一条原始文本: 黑神话不可能拿年度游戏的，不管做的多好。这些舆论机器就是用来搞我们的，看看刚上映的异形，唯一一位华裔女性莫名其妙就被抱脸虫袭击产下异形，这不就是黄祸论的新变种吗！有一说一 确实是 肯定会被喷惨 ​​ ...\n",
      "加载完成的向量形状: (2150, 768)\n"
     ]
    }
   ],
   "source": [
    "# （1）指定文件路径\n",
    "tokenized_jsonl_path = \"/Users/jhx/Documents/Code/黑神话女性数据/0数据/antifeminism_tokenized.jsonl\"  # 修改为实际路径\n",
    "embeddings_path = \"/Users/jhx/Documents/Code/黑神话女性数据/0数据/antifeminism_emb.npy\"           # 修改为实际路径\n",
    "stopwords_path = \"/Users/jhx/Documents/Code/stopword.txt\"                                    # 修改为实际路径\n",
    "\n",
    "# （2）加载分词文本及原始文本\n",
    "docs_tokens = []\n",
    "docs_text = []\n",
    "with open(tokenized_jsonl_path, \"r\", encoding=\"utf-8\") as f:\n",
    "    for line in f:\n",
    "        line = line.strip()\n",
    "        if not line:\n",
    "            continue\n",
    "        record = json.loads(line)\n",
    "        tokens = record.get(\"tokens\", [])\n",
    "        docs_tokens.append(\" \".join(tokens))\n",
    "        docs_text.append(record[\"text\"])\n",
    "\n",
    "print(\"文本总数:\", len(docs_tokens))\n",
    "if docs_tokens:\n",
    "    print(\"预览第一条分词结果:\", docs_tokens[0])\n",
    "    print(\"预览第一条原始文本:\", docs_text[0][:100], \"...\")\n",
    "\n",
    "# （3）加载预生成的向量\n",
    "embeddings = np.load(embeddings_path)\n",
    "print(\"加载完成的向量形状:\", embeddings.shape)\n",
    "\n",
    "# （4）加载停用词表\n",
    "with open(stopwords_path, 'r', encoding='utf-8') as f:\n",
    "    stop_words_list = f.read().splitlines()\n"
   ]
  },
  {
   "cell_type": "markdown",
   "metadata": {},
   "source": [
    "# 2. 模型配置与训练"
   ]
  },
  {
   "cell_type": "code",
   "execution_count": 18,
   "metadata": {},
   "outputs": [
    {
     "name": "stderr",
     "output_type": "stream",
     "text": [
      "Device set to use mps:0\n"
     ]
    },
    {
     "name": "stdout",
     "output_type": "stream",
     "text": [
      "UMAP参数: {'n_neighbors': 15, 'n_components': 5, 'min_dist': 0.0, 'metric': 'cosine', 'random_state': 42}, HDBSCAN参数: {'min_cluster_size': 20, 'min_samples': 5, 'metric': 'euclidean'}, Silhouette Score: 0.30487388372421265\n",
      "最佳参数：UMAP: {'n_neighbors': 15, 'n_components': 5, 'min_dist': 0.0, 'metric': 'cosine', 'random_state': 42}, HDBSCAN: {'min_cluster_size': 20, 'min_samples': 5, 'metric': 'euclidean'}, Silhouette Score: 0.30487388372421265\n",
      "已自动合并相似主题。\n"
     ]
    }
   ],
   "source": [
    "from sklearn.metrics import silhouette_score\n",
    "# （1）词向量模型（此处为占位，可根据需求替换）\n",
    "embedding_model = pipeline(\"feature-extraction\", model=\"bert-base-chinese\")\n",
    "\n",
    "# （2）构造 CountVectorizer 向量器\n",
    "vectorizer_model = CountVectorizer(\n",
    "    stop_words=stop_words_list,\n",
    "    ngram_range=(1, 1),\n",
    "    max_df=0.999,\n",
    "    min_df=5\n",
    ")\n",
    "\n",
    "# （3）设置可修改的参数组合，探索不同 UMAP 和 HDBSCAN 参数\n",
    "umap_params_list = [\n",
    "    {\"n_neighbors\": 15, \"n_components\": 5, \"min_dist\": 0.0, \"metric\": \"cosine\", \"random_state\": 42}\n",
    "    #{\"n_neighbors\": 10, \"n_components\": 5, \"min_dist\": 0.1, \"metric\": \"cosine\", \"random_state\": 42}\n",
    "]\n",
    "hdbscan_params_list = [\n",
    "    {\"min_cluster_size\": 20, \"min_samples\": 5, \"metric\": \"euclidean\"}\n",
    "    #{\"min_cluster_size\": 15, \"min_samples\": 3, \"metric\": \"euclidean\"}\n",
    "]\n",
    "\n",
    "best_silhouette = -1\n",
    "best_topic_model = None\n",
    "best_topics = None\n",
    "best_probs = None\n",
    "best_umap_params = None\n",
    "best_hdbscan_params = None\n",
    "\n",
    "# 遍历参数组合，训练模型并计算聚类指标（silhouette score）\n",
    "for up in umap_params_list:\n",
    "    for hp in hdbscan_params_list:\n",
    "        current_umap_model = UMAP(**up)\n",
    "        current_hdbscan_model = HDBSCAN(**hp)\n",
    "        current_topic_model = BERTopic(\n",
    "            embedding_model=embedding_model,\n",
    "            vectorizer_model=vectorizer_model,\n",
    "            umap_model=current_umap_model,\n",
    "            hdbscan_model=current_hdbscan_model,\n",
    "            top_n_words=10\n",
    "        )\n",
    "        current_topics, current_probs = current_topic_model.fit_transform(docs_tokens, embeddings=embeddings)\n",
    "        # 计算轮廓系数（忽略噪声：主题编号为 -1 的文档）\n",
    "        valid_idx = [i for i, t in enumerate(current_topics) if t != -1]\n",
    "        if len(valid_idx) > 1:\n",
    "            valid_embeddings = embeddings[valid_idx]\n",
    "            valid_labels = [current_topics[i] for i in valid_idx]\n",
    "            score = silhouette_score(valid_embeddings, valid_labels, metric=\"cosine\")\n",
    "        else:\n",
    "            score = -1\n",
    "        print(f\"UMAP参数: {up}, HDBSCAN参数: {hp}, Silhouette Score: {score}\")\n",
    "        if score > best_silhouette:\n",
    "            best_silhouette = score\n",
    "            best_topic_model = current_topic_model\n",
    "            best_topics = current_topics\n",
    "            best_probs = current_probs\n",
    "            best_umap_params = up\n",
    "            best_hdbscan_params = hp\n",
    "\n",
    "print(f\"最佳参数：UMAP: {best_umap_params}, HDBSCAN: {best_hdbscan_params}, Silhouette Score: {best_silhouette}\")\n",
    "\n",
    "# （4）自动合并相似主题：调用 reduce_topics 设置为 \"auto\"\n",
    "best_topic_model.reduce_topics(docs_tokens, nr_topics=\"auto\")\n",
    "print(\"已自动合并相似主题。\")"
   ]
  },
  {
   "cell_type": "markdown",
   "metadata": {},
   "source": [
    "# 3. 聚类结果输出与保存"
   ]
  },
  {
   "cell_type": "code",
   "execution_count": 19,
   "metadata": {},
   "outputs": [
    {
     "name": "stdout",
     "output_type": "stream",
     "text": [
      "自动聚类后的文档主题信息已保存至 topic_document_info_auto_antifeminism3.23-1.csv\n",
      "自动聚类后的主题汇总信息已保存至 topic_summary_auto_antifeminism3.23-1.csv\n",
      "自动聚类后的主题词得分表已保存为 topic_word_scores_auto_antifeminism3.23-1.csv\n"
     ]
    }
   ],
   "source": [
    "# （0）设置自定义后缀：在实际使用中，可手动修改 suffix 来区别不同任务或实验\n",
    "suffix = \"antifeminism3.23-1\"  # 根据实际需要更改\n",
    "\n",
    "# （1）输出文档级结果：主题编号、概率等，并替换回原始文本\n",
    "doc_info_df = best_topic_model.get_document_info(docs_tokens)\n",
    "doc_info_df[\"Document\"] = docs_text\n",
    "doc_info_filename = f\"topic_document_info_auto_{suffix}.csv\"\n",
    "doc_info_df.to_csv(doc_info_filename, index=False, encoding=\"utf-8-sig\")\n",
    "print(f\"自动聚类后的文档主题信息已保存至 {doc_info_filename}\")\n",
    "\n",
    "# （2）输出主题汇总表：主题编号、主题名称、主题词、代表文档及文档数量\n",
    "topic_info_df = best_topic_model.get_topic_info()\n",
    "if \"Count\" in topic_info_df.columns:\n",
    "    topic_info_df.rename(columns={\"Count\": \"Number of Documents\"}, inplace=True)\n",
    "\n",
    "rep_docs_dict = best_topic_model.get_representative_docs(docs_tokens)\n",
    "rep_docs_original = {}\n",
    "for topic, rep_docs in rep_docs_dict.items():\n",
    "    new_rep = []\n",
    "    for rep_doc in rep_docs:\n",
    "        try:\n",
    "            idx = docs_tokens.index(rep_doc)\n",
    "        except ValueError:\n",
    "            idx = None\n",
    "        if idx is not None:\n",
    "            new_rep.append(docs_text[idx])\n",
    "        else:\n",
    "            new_rep.append(rep_doc)\n",
    "    rep_docs_original[topic] = new_rep\n",
    "\n",
    "topic_info_df[\"Representative_Docs\"] = topic_info_df[\"Topic\"].apply(lambda t: rep_docs_original.get(t, []))\n",
    "if \"Top_n_words\" not in topic_info_df.columns:\n",
    "    topic_info_df[\"Top_n_words\"] = topic_info_df[\"Representation\"]\n",
    "\n",
    "topic_info_df = topic_info_df.sort_values(by=\"Topic\")\n",
    "topic_info_df = topic_info_df[[\"Topic\", \"Name\", \"Representation\", \"Representative_Docs\", \"Top_n_words\", \"Number of Documents\"]]\n",
    "\n",
    "topic_summary_filename = f\"topic_summary_auto_{suffix}.csv\"\n",
    "topic_info_df.to_csv(topic_summary_filename, index=False, encoding=\"utf-8-sig\")\n",
    "print(f\"自动聚类后的主题汇总信息已保存至 {topic_summary_filename}\")\n",
    "\n",
    "# （3）输出主题词与得分\n",
    "topics_dict = best_topic_model.get_topics()  # {topic_id: [(word, score), ...], ...}\n",
    "data_rows = []\n",
    "for t_id, word_score_list in topics_dict.items():\n",
    "    for (word, score) in word_score_list:\n",
    "        data_rows.append({\"Topic\": t_id, \"Word\": word, \"Score\": score})\n",
    "topic_word_scores_df = pd.DataFrame(data_rows)\n",
    "topic_word_filename = f\"topic_word_scores_auto_{suffix}.csv\"\n",
    "topic_word_scores_df.to_csv(topic_word_filename, index=False, encoding=\"utf-8-sig\")\n",
    "print(f\"自动聚类后的主题词得分表已保存为 {topic_word_filename}\")"
   ]
  },
  {
   "cell_type": "markdown",
   "metadata": {},
   "source": [
    "# 4. 结果可视化"
   ]
  },
  {
   "cell_type": "markdown",
   "metadata": {},
   "source": [
    "## 4-1主题条形图 Topic Bar Chart"
   ]
  },
  {
   "cell_type": "code",
   "execution_count": 20,
   "metadata": {},
   "outputs": [
    {
     "name": "stdout",
     "output_type": "stream",
     "text": [
      "自动聚类后的主题条形图已保存为 topic_barchart_auto_antifeminism3.23-1.html\n"
     ]
    },
    {
     "data": {
      "application/vnd.plotly.v1+json": {
       "config": {
        "plotlyServerURL": "https://plot.ly"
       },
       "data": [
        {
         "marker": {
          "color": "#D55E00"
         },
         "orientation": "h",
         "type": "bar",
         "x": [
          0.03284435623396992,
          0.03327505899874339,
          0.0355081450827976,
          0.03971678437574965,
          0.0401372608754528
         ],
         "xaxis": "x",
         "y": [
          "玩游戏  ",
          "赚钱  ",
          "星鸣特攻  ",
          "策划  ",
          "特别  "
         ],
         "yaxis": "y"
        },
        {
         "marker": {
          "color": "#0072B2"
         },
         "orientation": "h",
         "type": "bar",
         "x": [
          0.11765992535913836,
          0.14259096854586858,
          0.14429933915197637,
          0.15170141641712542,
          0.216898377860139
         ],
         "xaxis": "x2",
         "y": [
          "美女  ",
          "展开  ",
          "steam  ",
          "长得  ",
          "女人  "
         ],
         "yaxis": "y2"
        },
        {
         "marker": {
          "color": "#CC79A7"
         },
         "orientation": "h",
         "type": "bar",
         "x": [
          0.10140503307228335,
          0.10298966260775633,
          0.10396652113195361,
          0.10643719038280783,
          0.24136065849857016
         ],
         "xaxis": "x3",
         "y": [
          "互联网  ",
          "不想  ",
          "迎合  ",
          "权益  ",
          "女权  "
         ],
         "yaxis": "y3"
        },
        {
         "marker": {
          "color": "#E69F00"
         },
         "orientation": "h",
         "type": "bar",
         "x": [
          0.10321906025358371,
          0.10540829104489273,
          0.11365255780466121,
          0.12126162596355862,
          0.13584208481017448
         ],
         "xaxis": "x4",
         "y": [
          "网上  ",
          "中国  ",
          "媒体  ",
          "发布  ",
          "性别歧视  "
         ],
         "yaxis": "y4"
        },
        {
         "marker": {
          "color": "#56B4E9"
         },
         "orientation": "h",
         "type": "bar",
         "x": [
          0.12474591675663539,
          0.12612797509852822,
          0.12984788993968652,
          0.14205045715000453,
          0.16566962796498624
         ],
         "xaxis": "x5",
         "y": [
          "符合  ",
          "真人  ",
          "男性  ",
          "美女  ",
          "网友  "
         ],
         "yaxis": "y5"
        },
        {
         "marker": {
          "color": "#009E73"
         },
         "orientation": "h",
         "type": "bar",
         "x": [
          0.13093674695477545,
          0.13389485879943483,
          0.14738287332094338,
          0.16716874085749467,
          0.18127330735194122
         ],
         "xaxis": "x6",
         "y": [
          "宣传  ",
          "游戏科学  ",
          "冯骥  ",
          "报道  ",
          "观点  "
         ],
         "yaxis": "y6"
        },
        {
         "marker": {
          "color": "#F0E442"
         },
         "orientation": "h",
         "type": "bar",
         "x": [
          0.03259231432787403,
          0.13877352550618524,
          0.40752393895968414,
          0.4875384018650384,
          0.5277506187557109
         ],
         "xaxis": "x7",
         "y": [
          "哈哈哈哈  ",
          "黑神话悟空  ",
          "四处  ",
          "女拳  ",
          "豆瓣  "
         ],
         "yaxis": "y7"
        },
        {
         "marker": {
          "color": "#D55E00"
         },
         "orientation": "h",
         "type": "bar",
         "x": [
          0.10963949264453472,
          0.11257965357722294,
          0.11257965357722294,
          0.11355518881041095,
          0.1180408093656611
         ],
         "xaxis": "x8",
         "y": [
          "关系  ",
          "脸模  ",
          "恶心  ",
          "水平  ",
          "猴子  "
         ],
         "yaxis": "y8"
        },
        {
         "marker": {
          "color": "#0072B2"
         },
         "orientation": "h",
         "type": "bar",
         "x": [
          0.052721655752623754,
          0.05740039838152359,
          0.05806599516233697,
          0.06183516501500791,
          0.08711666448388858
         ],
         "xaxis": "x9",
         "y": [
          "女籍  ",
          "不配  ",
          "黑猴  ",
          "屁股  ",
          "黑神话  "
         ],
         "yaxis": "y9"
        },
        {
         "marker": {
          "color": "#CC79A7"
         },
         "orientation": "h",
         "type": "bar",
         "x": [
          0.054858502427576124,
          0.05621409956481452,
          0.05642163455948866,
          0.094332347937126,
          0.21970499168557278
         ],
         "xaxis": "x10",
         "y": [
          "特别  ",
          "星鸣特攻  ",
          "策划  ",
          "指责  ",
          "ign  "
         ],
         "yaxis": "y10"
        }
       ],
       "layout": {
        "annotations": [
         {
          "font": {
           "size": 16
          },
          "showarrow": false,
          "text": "Topic 0",
          "x": 0.0875,
          "xanchor": "center",
          "xref": "paper",
          "y": 1,
          "yanchor": "bottom",
          "yref": "paper"
         },
         {
          "font": {
           "size": 16
          },
          "showarrow": false,
          "text": "Topic 1",
          "x": 0.36250000000000004,
          "xanchor": "center",
          "xref": "paper",
          "y": 1,
          "yanchor": "bottom",
          "yref": "paper"
         },
         {
          "font": {
           "size": 16
          },
          "showarrow": false,
          "text": "Topic 2",
          "x": 0.6375000000000001,
          "xanchor": "center",
          "xref": "paper",
          "y": 1,
          "yanchor": "bottom",
          "yref": "paper"
         },
         {
          "font": {
           "size": 16
          },
          "showarrow": false,
          "text": "Topic 3",
          "x": 0.9125,
          "xanchor": "center",
          "xref": "paper",
          "y": 1,
          "yanchor": "bottom",
          "yref": "paper"
         },
         {
          "font": {
           "size": 16
          },
          "showarrow": false,
          "text": "Topic 4",
          "x": 0.0875,
          "xanchor": "center",
          "xref": "paper",
          "y": 0.6222222222222222,
          "yanchor": "bottom",
          "yref": "paper"
         },
         {
          "font": {
           "size": 16
          },
          "showarrow": false,
          "text": "Topic 5",
          "x": 0.36250000000000004,
          "xanchor": "center",
          "xref": "paper",
          "y": 0.6222222222222222,
          "yanchor": "bottom",
          "yref": "paper"
         },
         {
          "font": {
           "size": 16
          },
          "showarrow": false,
          "text": "Topic 6",
          "x": 0.6375000000000001,
          "xanchor": "center",
          "xref": "paper",
          "y": 0.6222222222222222,
          "yanchor": "bottom",
          "yref": "paper"
         },
         {
          "font": {
           "size": 16
          },
          "showarrow": false,
          "text": "Topic 7",
          "x": 0.9125,
          "xanchor": "center",
          "xref": "paper",
          "y": 0.6222222222222222,
          "yanchor": "bottom",
          "yref": "paper"
         },
         {
          "font": {
           "size": 16
          },
          "showarrow": false,
          "text": "Topic 8",
          "x": 0.0875,
          "xanchor": "center",
          "xref": "paper",
          "y": 0.24444444444444446,
          "yanchor": "bottom",
          "yref": "paper"
         },
         {
          "font": {
           "size": 16
          },
          "showarrow": false,
          "text": "Topic 9",
          "x": 0.36250000000000004,
          "xanchor": "center",
          "xref": "paper",
          "y": 0.24444444444444446,
          "yanchor": "bottom",
          "yref": "paper"
         }
        ],
        "height": 750,
        "hoverlabel": {
         "bgcolor": "white",
         "font": {
          "family": "Rockwell",
          "size": 16
         }
        },
        "showlegend": false,
        "template": {
         "data": {
          "bar": [
           {
            "error_x": {
             "color": "#2a3f5f"
            },
            "error_y": {
             "color": "#2a3f5f"
            },
            "marker": {
             "line": {
              "color": "white",
              "width": 0.5
             },
             "pattern": {
              "fillmode": "overlay",
              "size": 10,
              "solidity": 0.2
             }
            },
            "type": "bar"
           }
          ],
          "barpolar": [
           {
            "marker": {
             "line": {
              "color": "white",
              "width": 0.5
             },
             "pattern": {
              "fillmode": "overlay",
              "size": 10,
              "solidity": 0.2
             }
            },
            "type": "barpolar"
           }
          ],
          "carpet": [
           {
            "aaxis": {
             "endlinecolor": "#2a3f5f",
             "gridcolor": "#C8D4E3",
             "linecolor": "#C8D4E3",
             "minorgridcolor": "#C8D4E3",
             "startlinecolor": "#2a3f5f"
            },
            "baxis": {
             "endlinecolor": "#2a3f5f",
             "gridcolor": "#C8D4E3",
             "linecolor": "#C8D4E3",
             "minorgridcolor": "#C8D4E3",
             "startlinecolor": "#2a3f5f"
            },
            "type": "carpet"
           }
          ],
          "choropleth": [
           {
            "colorbar": {
             "outlinewidth": 0,
             "ticks": ""
            },
            "type": "choropleth"
           }
          ],
          "contour": [
           {
            "colorbar": {
             "outlinewidth": 0,
             "ticks": ""
            },
            "colorscale": [
             [
              0,
              "#0d0887"
             ],
             [
              0.1111111111111111,
              "#46039f"
             ],
             [
              0.2222222222222222,
              "#7201a8"
             ],
             [
              0.3333333333333333,
              "#9c179e"
             ],
             [
              0.4444444444444444,
              "#bd3786"
             ],
             [
              0.5555555555555556,
              "#d8576b"
             ],
             [
              0.6666666666666666,
              "#ed7953"
             ],
             [
              0.7777777777777778,
              "#fb9f3a"
             ],
             [
              0.8888888888888888,
              "#fdca26"
             ],
             [
              1,
              "#f0f921"
             ]
            ],
            "type": "contour"
           }
          ],
          "contourcarpet": [
           {
            "colorbar": {
             "outlinewidth": 0,
             "ticks": ""
            },
            "type": "contourcarpet"
           }
          ],
          "heatmap": [
           {
            "colorbar": {
             "outlinewidth": 0,
             "ticks": ""
            },
            "colorscale": [
             [
              0,
              "#0d0887"
             ],
             [
              0.1111111111111111,
              "#46039f"
             ],
             [
              0.2222222222222222,
              "#7201a8"
             ],
             [
              0.3333333333333333,
              "#9c179e"
             ],
             [
              0.4444444444444444,
              "#bd3786"
             ],
             [
              0.5555555555555556,
              "#d8576b"
             ],
             [
              0.6666666666666666,
              "#ed7953"
             ],
             [
              0.7777777777777778,
              "#fb9f3a"
             ],
             [
              0.8888888888888888,
              "#fdca26"
             ],
             [
              1,
              "#f0f921"
             ]
            ],
            "type": "heatmap"
           }
          ],
          "heatmapgl": [
           {
            "colorbar": {
             "outlinewidth": 0,
             "ticks": ""
            },
            "colorscale": [
             [
              0,
              "#0d0887"
             ],
             [
              0.1111111111111111,
              "#46039f"
             ],
             [
              0.2222222222222222,
              "#7201a8"
             ],
             [
              0.3333333333333333,
              "#9c179e"
             ],
             [
              0.4444444444444444,
              "#bd3786"
             ],
             [
              0.5555555555555556,
              "#d8576b"
             ],
             [
              0.6666666666666666,
              "#ed7953"
             ],
             [
              0.7777777777777778,
              "#fb9f3a"
             ],
             [
              0.8888888888888888,
              "#fdca26"
             ],
             [
              1,
              "#f0f921"
             ]
            ],
            "type": "heatmapgl"
           }
          ],
          "histogram": [
           {
            "marker": {
             "pattern": {
              "fillmode": "overlay",
              "size": 10,
              "solidity": 0.2
             }
            },
            "type": "histogram"
           }
          ],
          "histogram2d": [
           {
            "colorbar": {
             "outlinewidth": 0,
             "ticks": ""
            },
            "colorscale": [
             [
              0,
              "#0d0887"
             ],
             [
              0.1111111111111111,
              "#46039f"
             ],
             [
              0.2222222222222222,
              "#7201a8"
             ],
             [
              0.3333333333333333,
              "#9c179e"
             ],
             [
              0.4444444444444444,
              "#bd3786"
             ],
             [
              0.5555555555555556,
              "#d8576b"
             ],
             [
              0.6666666666666666,
              "#ed7953"
             ],
             [
              0.7777777777777778,
              "#fb9f3a"
             ],
             [
              0.8888888888888888,
              "#fdca26"
             ],
             [
              1,
              "#f0f921"
             ]
            ],
            "type": "histogram2d"
           }
          ],
          "histogram2dcontour": [
           {
            "colorbar": {
             "outlinewidth": 0,
             "ticks": ""
            },
            "colorscale": [
             [
              0,
              "#0d0887"
             ],
             [
              0.1111111111111111,
              "#46039f"
             ],
             [
              0.2222222222222222,
              "#7201a8"
             ],
             [
              0.3333333333333333,
              "#9c179e"
             ],
             [
              0.4444444444444444,
              "#bd3786"
             ],
             [
              0.5555555555555556,
              "#d8576b"
             ],
             [
              0.6666666666666666,
              "#ed7953"
             ],
             [
              0.7777777777777778,
              "#fb9f3a"
             ],
             [
              0.8888888888888888,
              "#fdca26"
             ],
             [
              1,
              "#f0f921"
             ]
            ],
            "type": "histogram2dcontour"
           }
          ],
          "mesh3d": [
           {
            "colorbar": {
             "outlinewidth": 0,
             "ticks": ""
            },
            "type": "mesh3d"
           }
          ],
          "parcoords": [
           {
            "line": {
             "colorbar": {
              "outlinewidth": 0,
              "ticks": ""
             }
            },
            "type": "parcoords"
           }
          ],
          "pie": [
           {
            "automargin": true,
            "type": "pie"
           }
          ],
          "scatter": [
           {
            "fillpattern": {
             "fillmode": "overlay",
             "size": 10,
             "solidity": 0.2
            },
            "type": "scatter"
           }
          ],
          "scatter3d": [
           {
            "line": {
             "colorbar": {
              "outlinewidth": 0,
              "ticks": ""
             }
            },
            "marker": {
             "colorbar": {
              "outlinewidth": 0,
              "ticks": ""
             }
            },
            "type": "scatter3d"
           }
          ],
          "scattercarpet": [
           {
            "marker": {
             "colorbar": {
              "outlinewidth": 0,
              "ticks": ""
             }
            },
            "type": "scattercarpet"
           }
          ],
          "scattergeo": [
           {
            "marker": {
             "colorbar": {
              "outlinewidth": 0,
              "ticks": ""
             }
            },
            "type": "scattergeo"
           }
          ],
          "scattergl": [
           {
            "marker": {
             "colorbar": {
              "outlinewidth": 0,
              "ticks": ""
             }
            },
            "type": "scattergl"
           }
          ],
          "scattermapbox": [
           {
            "marker": {
             "colorbar": {
              "outlinewidth": 0,
              "ticks": ""
             }
            },
            "type": "scattermapbox"
           }
          ],
          "scatterpolar": [
           {
            "marker": {
             "colorbar": {
              "outlinewidth": 0,
              "ticks": ""
             }
            },
            "type": "scatterpolar"
           }
          ],
          "scatterpolargl": [
           {
            "marker": {
             "colorbar": {
              "outlinewidth": 0,
              "ticks": ""
             }
            },
            "type": "scatterpolargl"
           }
          ],
          "scatterternary": [
           {
            "marker": {
             "colorbar": {
              "outlinewidth": 0,
              "ticks": ""
             }
            },
            "type": "scatterternary"
           }
          ],
          "surface": [
           {
            "colorbar": {
             "outlinewidth": 0,
             "ticks": ""
            },
            "colorscale": [
             [
              0,
              "#0d0887"
             ],
             [
              0.1111111111111111,
              "#46039f"
             ],
             [
              0.2222222222222222,
              "#7201a8"
             ],
             [
              0.3333333333333333,
              "#9c179e"
             ],
             [
              0.4444444444444444,
              "#bd3786"
             ],
             [
              0.5555555555555556,
              "#d8576b"
             ],
             [
              0.6666666666666666,
              "#ed7953"
             ],
             [
              0.7777777777777778,
              "#fb9f3a"
             ],
             [
              0.8888888888888888,
              "#fdca26"
             ],
             [
              1,
              "#f0f921"
             ]
            ],
            "type": "surface"
           }
          ],
          "table": [
           {
            "cells": {
             "fill": {
              "color": "#EBF0F8"
             },
             "line": {
              "color": "white"
             }
            },
            "header": {
             "fill": {
              "color": "#C8D4E3"
             },
             "line": {
              "color": "white"
             }
            },
            "type": "table"
           }
          ]
         },
         "layout": {
          "annotationdefaults": {
           "arrowcolor": "#2a3f5f",
           "arrowhead": 0,
           "arrowwidth": 1
          },
          "autotypenumbers": "strict",
          "coloraxis": {
           "colorbar": {
            "outlinewidth": 0,
            "ticks": ""
           }
          },
          "colorscale": {
           "diverging": [
            [
             0,
             "#8e0152"
            ],
            [
             0.1,
             "#c51b7d"
            ],
            [
             0.2,
             "#de77ae"
            ],
            [
             0.3,
             "#f1b6da"
            ],
            [
             0.4,
             "#fde0ef"
            ],
            [
             0.5,
             "#f7f7f7"
            ],
            [
             0.6,
             "#e6f5d0"
            ],
            [
             0.7,
             "#b8e186"
            ],
            [
             0.8,
             "#7fbc41"
            ],
            [
             0.9,
             "#4d9221"
            ],
            [
             1,
             "#276419"
            ]
           ],
           "sequential": [
            [
             0,
             "#0d0887"
            ],
            [
             0.1111111111111111,
             "#46039f"
            ],
            [
             0.2222222222222222,
             "#7201a8"
            ],
            [
             0.3333333333333333,
             "#9c179e"
            ],
            [
             0.4444444444444444,
             "#bd3786"
            ],
            [
             0.5555555555555556,
             "#d8576b"
            ],
            [
             0.6666666666666666,
             "#ed7953"
            ],
            [
             0.7777777777777778,
             "#fb9f3a"
            ],
            [
             0.8888888888888888,
             "#fdca26"
            ],
            [
             1,
             "#f0f921"
            ]
           ],
           "sequentialminus": [
            [
             0,
             "#0d0887"
            ],
            [
             0.1111111111111111,
             "#46039f"
            ],
            [
             0.2222222222222222,
             "#7201a8"
            ],
            [
             0.3333333333333333,
             "#9c179e"
            ],
            [
             0.4444444444444444,
             "#bd3786"
            ],
            [
             0.5555555555555556,
             "#d8576b"
            ],
            [
             0.6666666666666666,
             "#ed7953"
            ],
            [
             0.7777777777777778,
             "#fb9f3a"
            ],
            [
             0.8888888888888888,
             "#fdca26"
            ],
            [
             1,
             "#f0f921"
            ]
           ]
          },
          "colorway": [
           "#636efa",
           "#EF553B",
           "#00cc96",
           "#ab63fa",
           "#FFA15A",
           "#19d3f3",
           "#FF6692",
           "#B6E880",
           "#FF97FF",
           "#FECB52"
          ],
          "font": {
           "color": "#2a3f5f"
          },
          "geo": {
           "bgcolor": "white",
           "lakecolor": "white",
           "landcolor": "white",
           "showlakes": true,
           "showland": true,
           "subunitcolor": "#C8D4E3"
          },
          "hoverlabel": {
           "align": "left"
          },
          "hovermode": "closest",
          "mapbox": {
           "style": "light"
          },
          "paper_bgcolor": "white",
          "plot_bgcolor": "white",
          "polar": {
           "angularaxis": {
            "gridcolor": "#EBF0F8",
            "linecolor": "#EBF0F8",
            "ticks": ""
           },
           "bgcolor": "white",
           "radialaxis": {
            "gridcolor": "#EBF0F8",
            "linecolor": "#EBF0F8",
            "ticks": ""
           }
          },
          "scene": {
           "xaxis": {
            "backgroundcolor": "white",
            "gridcolor": "#DFE8F3",
            "gridwidth": 2,
            "linecolor": "#EBF0F8",
            "showbackground": true,
            "ticks": "",
            "zerolinecolor": "#EBF0F8"
           },
           "yaxis": {
            "backgroundcolor": "white",
            "gridcolor": "#DFE8F3",
            "gridwidth": 2,
            "linecolor": "#EBF0F8",
            "showbackground": true,
            "ticks": "",
            "zerolinecolor": "#EBF0F8"
           },
           "zaxis": {
            "backgroundcolor": "white",
            "gridcolor": "#DFE8F3",
            "gridwidth": 2,
            "linecolor": "#EBF0F8",
            "showbackground": true,
            "ticks": "",
            "zerolinecolor": "#EBF0F8"
           }
          },
          "shapedefaults": {
           "line": {
            "color": "#2a3f5f"
           }
          },
          "ternary": {
           "aaxis": {
            "gridcolor": "#DFE8F3",
            "linecolor": "#A2B1C6",
            "ticks": ""
           },
           "baxis": {
            "gridcolor": "#DFE8F3",
            "linecolor": "#A2B1C6",
            "ticks": ""
           },
           "bgcolor": "white",
           "caxis": {
            "gridcolor": "#DFE8F3",
            "linecolor": "#A2B1C6",
            "ticks": ""
           }
          },
          "title": {
           "x": 0.05
          },
          "xaxis": {
           "automargin": true,
           "gridcolor": "#EBF0F8",
           "linecolor": "#EBF0F8",
           "ticks": "",
           "title": {
            "standoff": 15
           },
           "zerolinecolor": "#EBF0F8",
           "zerolinewidth": 2
          },
          "yaxis": {
           "automargin": true,
           "gridcolor": "#EBF0F8",
           "linecolor": "#EBF0F8",
           "ticks": "",
           "title": {
            "standoff": 15
           },
           "zerolinecolor": "#EBF0F8",
           "zerolinewidth": 2
          }
         }
        },
        "title": {
         "font": {
          "color": "Black",
          "size": 22
         },
         "text": "Topic Word Scores",
         "x": 0.5,
         "xanchor": "center",
         "yanchor": "top"
        },
        "width": 1000,
        "xaxis": {
         "anchor": "y",
         "domain": [
          0,
          0.175
         ],
         "showgrid": true
        },
        "xaxis10": {
         "anchor": "y10",
         "domain": [
          0.275,
          0.45
         ],
         "showgrid": true
        },
        "xaxis11": {
         "anchor": "y11",
         "domain": [
          0.55,
          0.7250000000000001
         ],
         "showgrid": true
        },
        "xaxis12": {
         "anchor": "y12",
         "domain": [
          0.825,
          1
         ],
         "showgrid": true
        },
        "xaxis2": {
         "anchor": "y2",
         "domain": [
          0.275,
          0.45
         ],
         "showgrid": true
        },
        "xaxis3": {
         "anchor": "y3",
         "domain": [
          0.55,
          0.7250000000000001
         ],
         "showgrid": true
        },
        "xaxis4": {
         "anchor": "y4",
         "domain": [
          0.825,
          1
         ],
         "showgrid": true
        },
        "xaxis5": {
         "anchor": "y5",
         "domain": [
          0,
          0.175
         ],
         "showgrid": true
        },
        "xaxis6": {
         "anchor": "y6",
         "domain": [
          0.275,
          0.45
         ],
         "showgrid": true
        },
        "xaxis7": {
         "anchor": "y7",
         "domain": [
          0.55,
          0.7250000000000001
         ],
         "showgrid": true
        },
        "xaxis8": {
         "anchor": "y8",
         "domain": [
          0.825,
          1
         ],
         "showgrid": true
        },
        "xaxis9": {
         "anchor": "y9",
         "domain": [
          0,
          0.175
         ],
         "showgrid": true
        },
        "yaxis": {
         "anchor": "x",
         "domain": [
          0.7555555555555555,
          1
         ],
         "showgrid": true
        },
        "yaxis10": {
         "anchor": "x10",
         "domain": [
          0,
          0.24444444444444446
         ],
         "showgrid": true
        },
        "yaxis11": {
         "anchor": "x11",
         "domain": [
          0,
          0.24444444444444446
         ],
         "showgrid": true
        },
        "yaxis12": {
         "anchor": "x12",
         "domain": [
          0,
          0.24444444444444446
         ],
         "showgrid": true
        },
        "yaxis2": {
         "anchor": "x2",
         "domain": [
          0.7555555555555555,
          1
         ],
         "showgrid": true
        },
        "yaxis3": {
         "anchor": "x3",
         "domain": [
          0.7555555555555555,
          1
         ],
         "showgrid": true
        },
        "yaxis4": {
         "anchor": "x4",
         "domain": [
          0.7555555555555555,
          1
         ],
         "showgrid": true
        },
        "yaxis5": {
         "anchor": "x5",
         "domain": [
          0.37777777777777777,
          0.6222222222222222
         ],
         "showgrid": true
        },
        "yaxis6": {
         "anchor": "x6",
         "domain": [
          0.37777777777777777,
          0.6222222222222222
         ],
         "showgrid": true
        },
        "yaxis7": {
         "anchor": "x7",
         "domain": [
          0.37777777777777777,
          0.6222222222222222
         ],
         "showgrid": true
        },
        "yaxis8": {
         "anchor": "x8",
         "domain": [
          0.37777777777777777,
          0.6222222222222222
         ],
         "showgrid": true
        },
        "yaxis9": {
         "anchor": "x9",
         "domain": [
          0,
          0.24444444444444446
         ],
         "showgrid": true
        }
       }
      }
     },
     "metadata": {},
     "output_type": "display_data"
    }
   ],
   "source": [
    "fig_bar = best_topic_model.visualize_barchart(top_n_topics=10)\n",
    "fig_bar_filename = f\"topic_barchart_auto_{suffix}.html\"\n",
    "fig_bar.write_html(fig_bar_filename)\n",
    "print(f\"自动聚类后的主题条形图已保存为 {fig_bar_filename}\")\n",
    "fig_bar.show()"
   ]
  },
  {
   "cell_type": "markdown",
   "metadata": {},
   "source": [
    "## 4-2 主题关系图 Intertopic Distance Map"
   ]
  },
  {
   "cell_type": "code",
   "execution_count": 21,
   "metadata": {},
   "outputs": [
    {
     "name": "stdout",
     "output_type": "stream",
     "text": [
      "自动聚类后的主题关系图已保存为 topic_relationship_auto_antifeminism3.23-1.html\n"
     ]
    },
    {
     "data": {
      "application/vnd.plotly.v1+json": {
       "config": {
        "plotlyServerURL": "https://plot.ly"
       },
       "data": [
        {
         "customdata": [
          [
           0,
           "特别 | 策划 | 星鸣特攻 | 赚钱 | 玩游戏",
           616
          ],
          [
           1,
           "女人 | 长得 | steam | 展开 | 美女",
           145
          ],
          [
           2,
           "女权 | 权益 | 迎合 | 不想 | 互联网",
           65
          ],
          [
           3,
           "性别歧视 | 发布 | 媒体 | 中国 | 网上",
           63
          ],
          [
           4,
           "网友 | 美女 | 男性 | 真人 | 符合",
           56
          ],
          [
           5,
           "观点 | 报道 | 冯骥 | 游戏科学 | 宣传",
           55
          ],
          [
           6,
           "豆瓣 | 女拳 | 四处 | 黑神话悟空 | 哈哈哈哈",
           49
          ],
          [
           7,
           "猴子 | 水平 | 恶心 | 脸模 | 关系",
           48
          ],
          [
           8,
           "黑神话 | 屁股 | 黑猴 | 不配 | 女籍",
           48
          ],
          [
           9,
           "ign | 指责 | 策划 | 星鸣特攻 | 特别",
           45
          ],
          [
           10,
           "爱国 | 为啥 | 营销 | 大部分 | 真的",
           45
          ],
          [
           11,
           "态度 | 联动 | 抵制 | 真的 | 造谣",
           43
          ],
          [
           12,
           "记者 | 报道 | 目的 | 国内 | 想要",
           41
          ],
          [
           13,
           "四妹 | 有个 | 兄弟 | 地方 | 作用",
           37
          ],
          [
           14,
           "全女 | 评论 | 说话 | 工作室 | 十年",
           36
          ],
          [
           15,
           "四妹 | 兄弟 | 全是 | 地方 | 有个",
           35
          ],
          [
           16,
           "眯眯眼 | 外国 | 是因为 | 意识 | 颜值",
           35
          ],
          [
           17,
           "原型 | 建模 | 美丽 | 例子 | 提到",
           35
          ],
          [
           18,
           "悟空 | 女性角色 | 组织 | ign | 审美",
           32
          ],
          [
           19,
           "讨论 | 照片 | 导致 | 政治 | 世界",
           32
          ],
          [
           20,
           "瑞幸 | 抵制 | 侮辱 | 几年 | 黑神话",
           31
          ],
          [
           21,
           "正确 | 多元化 | 不到 | 成功 | 刻板",
           30
          ],
          [
           22,
           "增加 | 相关 | 外媒 | 几年 | 未来",
           26
          ],
          [
           23,
           "韩国 | 视频 | 一条 | 外国 | 西方",
           25
          ],
          [
           24,
           "四妹 | 仙人 | 孩子 | 剧情 | 故事",
           24
          ],
          [
           25,
           "大作 | 女玩家 | 微博 | 选择 | 发动",
           24
          ],
          [
           26,
           "影响 | 言论 | 工作室 | 代表 | 意识",
           24
          ],
          [
           27,
           "印度 | 希望 | 团队 | 国外 | 讨论",
           23
          ],
          [
           28,
           "西游记 | 多元 | 成立 | 神话 | 玩家",
           23
          ],
          [
           29,
           "小时候 | 评论 | 终于 | 十年 | 作者",
           22
          ],
          [
           30,
           "乙游 | 算是 | 原神 | 玩乙游 | 乙女游戏",
           22
          ],
          [
           31,
           "民族 | 例子 | 审美 | 提到 | 情况",
           21
          ],
          [
           32,
           "乙游 | 一句 | 官方 | 玩游戏 | 男生",
           21
          ]
         ],
         "hovertemplate": "<b>Topic %{customdata[0]}</b><br>%{customdata[1]}<br>Size: %{customdata[2]}",
         "legendgroup": "",
         "marker": {
          "color": "#B0BEC5",
          "line": {
           "color": "DarkSlateGrey",
           "width": 2
          },
          "size": [
           616,
           145,
           65,
           63,
           56,
           55,
           49,
           48,
           48,
           45,
           45,
           43,
           41,
           37,
           36,
           35,
           35,
           35,
           32,
           32,
           31,
           30,
           26,
           25,
           24,
           24,
           24,
           23,
           23,
           22,
           22,
           21,
           21
          ],
          "sizemode": "area",
          "sizeref": 0.385,
          "symbol": "circle"
         },
         "mode": "markers",
         "name": "",
         "orientation": "v",
         "showlegend": false,
         "type": "scatter",
         "x": [
          9.377527,
          8.32897,
          -4.6295915,
          6.491783,
          9.69899,
          6.251721,
          -4.932478,
          -4.8827066,
          -4.501074,
          9.121363,
          -4.6941476,
          -5.4402094,
          8.994284,
          19.042109,
          8.923545,
          19.1275,
          10.279053,
          -10.939355,
          -3.934324,
          10.297497,
          -4.956313,
          9.214163,
          8.530353,
          9.615343,
          -3.9661407,
          9.292854,
          9.954552,
          -4.8075047,
          -3.7289577,
          8.660363,
          -4.0607877,
          -10.994963,
          -4.1793346
         ],
         "xaxis": "x",
         "y": [
          5.1817136,
          5.858533,
          0.76635146,
          9.649371,
          5.636286,
          9.918987,
          7.0353594,
          6.7429113,
          6.965825,
          4.789842,
          0.7006049,
          6.8779507,
          5.227216,
          3.580701,
          6.6041007,
          3.4952812,
          5.7078614,
          2.2217708,
          6.895037,
          5.927076,
          7.4804306,
          5.4565477,
          5.0997972,
          4.8840938,
          6.9751844,
          5.8965654,
          5.3037696,
          6.5514607,
          7.1185746,
          6.9118967,
          5.577099,
          2.1661441,
          5.7850604
         ],
         "yaxis": "y"
        }
       ],
       "layout": {
        "annotations": [
         {
          "showarrow": false,
          "text": "D1",
          "x": -12.644207096099853,
          "y": 6.001174771785736,
          "yshift": 10
         },
         {
          "showarrow": false,
          "text": "D2",
          "x": 4.676209259033203,
          "xshift": 10,
          "y": 11.40683536529541
         }
        ],
        "height": 650,
        "hoverlabel": {
         "bgcolor": "white",
         "font": {
          "family": "Rockwell",
          "size": 16
         }
        },
        "legend": {
         "itemsizing": "constant",
         "tracegroupgap": 0
        },
        "margin": {
         "t": 60
        },
        "shapes": [
         {
          "line": {
           "color": "#CFD8DC",
           "width": 2
          },
          "type": "line",
          "x0": 4.676209259033203,
          "x1": 4.676209259033203,
          "y0": 0.595514178276062,
          "y1": 11.40683536529541
         },
         {
          "line": {
           "color": "#9E9E9E",
           "width": 2
          },
          "type": "line",
          "x0": -12.644207096099853,
          "x1": 21.99662561416626,
          "y0": 6.001174771785736,
          "y1": 6.001174771785736
         }
        ],
        "sliders": [
         {
          "active": 0,
          "pad": {
           "t": 50
          },
          "steps": [
           {
            "args": [
             {
              "marker.color": [
               [
                "red",
                "#B0BEC5",
                "#B0BEC5",
                "#B0BEC5",
                "#B0BEC5",
                "#B0BEC5",
                "#B0BEC5",
                "#B0BEC5",
                "#B0BEC5",
                "#B0BEC5",
                "#B0BEC5",
                "#B0BEC5",
                "#B0BEC5",
                "#B0BEC5",
                "#B0BEC5",
                "#B0BEC5",
                "#B0BEC5",
                "#B0BEC5",
                "#B0BEC5",
                "#B0BEC5",
                "#B0BEC5",
                "#B0BEC5",
                "#B0BEC5",
                "#B0BEC5",
                "#B0BEC5",
                "#B0BEC5",
                "#B0BEC5",
                "#B0BEC5",
                "#B0BEC5",
                "#B0BEC5",
                "#B0BEC5",
                "#B0BEC5",
                "#B0BEC5"
               ]
              ]
             }
            ],
            "label": "Topic 0",
            "method": "update"
           },
           {
            "args": [
             {
              "marker.color": [
               [
                "#B0BEC5",
                "red",
                "#B0BEC5",
                "#B0BEC5",
                "#B0BEC5",
                "#B0BEC5",
                "#B0BEC5",
                "#B0BEC5",
                "#B0BEC5",
                "#B0BEC5",
                "#B0BEC5",
                "#B0BEC5",
                "#B0BEC5",
                "#B0BEC5",
                "#B0BEC5",
                "#B0BEC5",
                "#B0BEC5",
                "#B0BEC5",
                "#B0BEC5",
                "#B0BEC5",
                "#B0BEC5",
                "#B0BEC5",
                "#B0BEC5",
                "#B0BEC5",
                "#B0BEC5",
                "#B0BEC5",
                "#B0BEC5",
                "#B0BEC5",
                "#B0BEC5",
                "#B0BEC5",
                "#B0BEC5",
                "#B0BEC5",
                "#B0BEC5"
               ]
              ]
             }
            ],
            "label": "Topic 1",
            "method": "update"
           },
           {
            "args": [
             {
              "marker.color": [
               [
                "#B0BEC5",
                "#B0BEC5",
                "red",
                "#B0BEC5",
                "#B0BEC5",
                "#B0BEC5",
                "#B0BEC5",
                "#B0BEC5",
                "#B0BEC5",
                "#B0BEC5",
                "#B0BEC5",
                "#B0BEC5",
                "#B0BEC5",
                "#B0BEC5",
                "#B0BEC5",
                "#B0BEC5",
                "#B0BEC5",
                "#B0BEC5",
                "#B0BEC5",
                "#B0BEC5",
                "#B0BEC5",
                "#B0BEC5",
                "#B0BEC5",
                "#B0BEC5",
                "#B0BEC5",
                "#B0BEC5",
                "#B0BEC5",
                "#B0BEC5",
                "#B0BEC5",
                "#B0BEC5",
                "#B0BEC5",
                "#B0BEC5",
                "#B0BEC5"
               ]
              ]
             }
            ],
            "label": "Topic 2",
            "method": "update"
           },
           {
            "args": [
             {
              "marker.color": [
               [
                "#B0BEC5",
                "#B0BEC5",
                "#B0BEC5",
                "red",
                "#B0BEC5",
                "#B0BEC5",
                "#B0BEC5",
                "#B0BEC5",
                "#B0BEC5",
                "#B0BEC5",
                "#B0BEC5",
                "#B0BEC5",
                "#B0BEC5",
                "#B0BEC5",
                "#B0BEC5",
                "#B0BEC5",
                "#B0BEC5",
                "#B0BEC5",
                "#B0BEC5",
                "#B0BEC5",
                "#B0BEC5",
                "#B0BEC5",
                "#B0BEC5",
                "#B0BEC5",
                "#B0BEC5",
                "#B0BEC5",
                "#B0BEC5",
                "#B0BEC5",
                "#B0BEC5",
                "#B0BEC5",
                "#B0BEC5",
                "#B0BEC5",
                "#B0BEC5"
               ]
              ]
             }
            ],
            "label": "Topic 3",
            "method": "update"
           },
           {
            "args": [
             {
              "marker.color": [
               [
                "#B0BEC5",
                "#B0BEC5",
                "#B0BEC5",
                "#B0BEC5",
                "red",
                "#B0BEC5",
                "#B0BEC5",
                "#B0BEC5",
                "#B0BEC5",
                "#B0BEC5",
                "#B0BEC5",
                "#B0BEC5",
                "#B0BEC5",
                "#B0BEC5",
                "#B0BEC5",
                "#B0BEC5",
                "#B0BEC5",
                "#B0BEC5",
                "#B0BEC5",
                "#B0BEC5",
                "#B0BEC5",
                "#B0BEC5",
                "#B0BEC5",
                "#B0BEC5",
                "#B0BEC5",
                "#B0BEC5",
                "#B0BEC5",
                "#B0BEC5",
                "#B0BEC5",
                "#B0BEC5",
                "#B0BEC5",
                "#B0BEC5",
                "#B0BEC5"
               ]
              ]
             }
            ],
            "label": "Topic 4",
            "method": "update"
           },
           {
            "args": [
             {
              "marker.color": [
               [
                "#B0BEC5",
                "#B0BEC5",
                "#B0BEC5",
                "#B0BEC5",
                "#B0BEC5",
                "red",
                "#B0BEC5",
                "#B0BEC5",
                "#B0BEC5",
                "#B0BEC5",
                "#B0BEC5",
                "#B0BEC5",
                "#B0BEC5",
                "#B0BEC5",
                "#B0BEC5",
                "#B0BEC5",
                "#B0BEC5",
                "#B0BEC5",
                "#B0BEC5",
                "#B0BEC5",
                "#B0BEC5",
                "#B0BEC5",
                "#B0BEC5",
                "#B0BEC5",
                "#B0BEC5",
                "#B0BEC5",
                "#B0BEC5",
                "#B0BEC5",
                "#B0BEC5",
                "#B0BEC5",
                "#B0BEC5",
                "#B0BEC5",
                "#B0BEC5"
               ]
              ]
             }
            ],
            "label": "Topic 5",
            "method": "update"
           },
           {
            "args": [
             {
              "marker.color": [
               [
                "#B0BEC5",
                "#B0BEC5",
                "#B0BEC5",
                "#B0BEC5",
                "#B0BEC5",
                "#B0BEC5",
                "red",
                "#B0BEC5",
                "#B0BEC5",
                "#B0BEC5",
                "#B0BEC5",
                "#B0BEC5",
                "#B0BEC5",
                "#B0BEC5",
                "#B0BEC5",
                "#B0BEC5",
                "#B0BEC5",
                "#B0BEC5",
                "#B0BEC5",
                "#B0BEC5",
                "#B0BEC5",
                "#B0BEC5",
                "#B0BEC5",
                "#B0BEC5",
                "#B0BEC5",
                "#B0BEC5",
                "#B0BEC5",
                "#B0BEC5",
                "#B0BEC5",
                "#B0BEC5",
                "#B0BEC5",
                "#B0BEC5",
                "#B0BEC5"
               ]
              ]
             }
            ],
            "label": "Topic 6",
            "method": "update"
           },
           {
            "args": [
             {
              "marker.color": [
               [
                "#B0BEC5",
                "#B0BEC5",
                "#B0BEC5",
                "#B0BEC5",
                "#B0BEC5",
                "#B0BEC5",
                "#B0BEC5",
                "red",
                "#B0BEC5",
                "#B0BEC5",
                "#B0BEC5",
                "#B0BEC5",
                "#B0BEC5",
                "#B0BEC5",
                "#B0BEC5",
                "#B0BEC5",
                "#B0BEC5",
                "#B0BEC5",
                "#B0BEC5",
                "#B0BEC5",
                "#B0BEC5",
                "#B0BEC5",
                "#B0BEC5",
                "#B0BEC5",
                "#B0BEC5",
                "#B0BEC5",
                "#B0BEC5",
                "#B0BEC5",
                "#B0BEC5",
                "#B0BEC5",
                "#B0BEC5",
                "#B0BEC5",
                "#B0BEC5"
               ]
              ]
             }
            ],
            "label": "Topic 7",
            "method": "update"
           },
           {
            "args": [
             {
              "marker.color": [
               [
                "#B0BEC5",
                "#B0BEC5",
                "#B0BEC5",
                "#B0BEC5",
                "#B0BEC5",
                "#B0BEC5",
                "#B0BEC5",
                "#B0BEC5",
                "red",
                "#B0BEC5",
                "#B0BEC5",
                "#B0BEC5",
                "#B0BEC5",
                "#B0BEC5",
                "#B0BEC5",
                "#B0BEC5",
                "#B0BEC5",
                "#B0BEC5",
                "#B0BEC5",
                "#B0BEC5",
                "#B0BEC5",
                "#B0BEC5",
                "#B0BEC5",
                "#B0BEC5",
                "#B0BEC5",
                "#B0BEC5",
                "#B0BEC5",
                "#B0BEC5",
                "#B0BEC5",
                "#B0BEC5",
                "#B0BEC5",
                "#B0BEC5",
                "#B0BEC5"
               ]
              ]
             }
            ],
            "label": "Topic 8",
            "method": "update"
           },
           {
            "args": [
             {
              "marker.color": [
               [
                "#B0BEC5",
                "#B0BEC5",
                "#B0BEC5",
                "#B0BEC5",
                "#B0BEC5",
                "#B0BEC5",
                "#B0BEC5",
                "#B0BEC5",
                "#B0BEC5",
                "red",
                "#B0BEC5",
                "#B0BEC5",
                "#B0BEC5",
                "#B0BEC5",
                "#B0BEC5",
                "#B0BEC5",
                "#B0BEC5",
                "#B0BEC5",
                "#B0BEC5",
                "#B0BEC5",
                "#B0BEC5",
                "#B0BEC5",
                "#B0BEC5",
                "#B0BEC5",
                "#B0BEC5",
                "#B0BEC5",
                "#B0BEC5",
                "#B0BEC5",
                "#B0BEC5",
                "#B0BEC5",
                "#B0BEC5",
                "#B0BEC5",
                "#B0BEC5"
               ]
              ]
             }
            ],
            "label": "Topic 9",
            "method": "update"
           },
           {
            "args": [
             {
              "marker.color": [
               [
                "#B0BEC5",
                "#B0BEC5",
                "#B0BEC5",
                "#B0BEC5",
                "#B0BEC5",
                "#B0BEC5",
                "#B0BEC5",
                "#B0BEC5",
                "#B0BEC5",
                "#B0BEC5",
                "red",
                "#B0BEC5",
                "#B0BEC5",
                "#B0BEC5",
                "#B0BEC5",
                "#B0BEC5",
                "#B0BEC5",
                "#B0BEC5",
                "#B0BEC5",
                "#B0BEC5",
                "#B0BEC5",
                "#B0BEC5",
                "#B0BEC5",
                "#B0BEC5",
                "#B0BEC5",
                "#B0BEC5",
                "#B0BEC5",
                "#B0BEC5",
                "#B0BEC5",
                "#B0BEC5",
                "#B0BEC5",
                "#B0BEC5",
                "#B0BEC5"
               ]
              ]
             }
            ],
            "label": "Topic 10",
            "method": "update"
           },
           {
            "args": [
             {
              "marker.color": [
               [
                "#B0BEC5",
                "#B0BEC5",
                "#B0BEC5",
                "#B0BEC5",
                "#B0BEC5",
                "#B0BEC5",
                "#B0BEC5",
                "#B0BEC5",
                "#B0BEC5",
                "#B0BEC5",
                "#B0BEC5",
                "red",
                "#B0BEC5",
                "#B0BEC5",
                "#B0BEC5",
                "#B0BEC5",
                "#B0BEC5",
                "#B0BEC5",
                "#B0BEC5",
                "#B0BEC5",
                "#B0BEC5",
                "#B0BEC5",
                "#B0BEC5",
                "#B0BEC5",
                "#B0BEC5",
                "#B0BEC5",
                "#B0BEC5",
                "#B0BEC5",
                "#B0BEC5",
                "#B0BEC5",
                "#B0BEC5",
                "#B0BEC5",
                "#B0BEC5"
               ]
              ]
             }
            ],
            "label": "Topic 11",
            "method": "update"
           },
           {
            "args": [
             {
              "marker.color": [
               [
                "#B0BEC5",
                "#B0BEC5",
                "#B0BEC5",
                "#B0BEC5",
                "#B0BEC5",
                "#B0BEC5",
                "#B0BEC5",
                "#B0BEC5",
                "#B0BEC5",
                "#B0BEC5",
                "#B0BEC5",
                "#B0BEC5",
                "red",
                "#B0BEC5",
                "#B0BEC5",
                "#B0BEC5",
                "#B0BEC5",
                "#B0BEC5",
                "#B0BEC5",
                "#B0BEC5",
                "#B0BEC5",
                "#B0BEC5",
                "#B0BEC5",
                "#B0BEC5",
                "#B0BEC5",
                "#B0BEC5",
                "#B0BEC5",
                "#B0BEC5",
                "#B0BEC5",
                "#B0BEC5",
                "#B0BEC5",
                "#B0BEC5",
                "#B0BEC5"
               ]
              ]
             }
            ],
            "label": "Topic 12",
            "method": "update"
           },
           {
            "args": [
             {
              "marker.color": [
               [
                "#B0BEC5",
                "#B0BEC5",
                "#B0BEC5",
                "#B0BEC5",
                "#B0BEC5",
                "#B0BEC5",
                "#B0BEC5",
                "#B0BEC5",
                "#B0BEC5",
                "#B0BEC5",
                "#B0BEC5",
                "#B0BEC5",
                "#B0BEC5",
                "red",
                "#B0BEC5",
                "#B0BEC5",
                "#B0BEC5",
                "#B0BEC5",
                "#B0BEC5",
                "#B0BEC5",
                "#B0BEC5",
                "#B0BEC5",
                "#B0BEC5",
                "#B0BEC5",
                "#B0BEC5",
                "#B0BEC5",
                "#B0BEC5",
                "#B0BEC5",
                "#B0BEC5",
                "#B0BEC5",
                "#B0BEC5",
                "#B0BEC5",
                "#B0BEC5"
               ]
              ]
             }
            ],
            "label": "Topic 13",
            "method": "update"
           },
           {
            "args": [
             {
              "marker.color": [
               [
                "#B0BEC5",
                "#B0BEC5",
                "#B0BEC5",
                "#B0BEC5",
                "#B0BEC5",
                "#B0BEC5",
                "#B0BEC5",
                "#B0BEC5",
                "#B0BEC5",
                "#B0BEC5",
                "#B0BEC5",
                "#B0BEC5",
                "#B0BEC5",
                "#B0BEC5",
                "red",
                "#B0BEC5",
                "#B0BEC5",
                "#B0BEC5",
                "#B0BEC5",
                "#B0BEC5",
                "#B0BEC5",
                "#B0BEC5",
                "#B0BEC5",
                "#B0BEC5",
                "#B0BEC5",
                "#B0BEC5",
                "#B0BEC5",
                "#B0BEC5",
                "#B0BEC5",
                "#B0BEC5",
                "#B0BEC5",
                "#B0BEC5",
                "#B0BEC5"
               ]
              ]
             }
            ],
            "label": "Topic 14",
            "method": "update"
           },
           {
            "args": [
             {
              "marker.color": [
               [
                "#B0BEC5",
                "#B0BEC5",
                "#B0BEC5",
                "#B0BEC5",
                "#B0BEC5",
                "#B0BEC5",
                "#B0BEC5",
                "#B0BEC5",
                "#B0BEC5",
                "#B0BEC5",
                "#B0BEC5",
                "#B0BEC5",
                "#B0BEC5",
                "#B0BEC5",
                "#B0BEC5",
                "red",
                "#B0BEC5",
                "#B0BEC5",
                "#B0BEC5",
                "#B0BEC5",
                "#B0BEC5",
                "#B0BEC5",
                "#B0BEC5",
                "#B0BEC5",
                "#B0BEC5",
                "#B0BEC5",
                "#B0BEC5",
                "#B0BEC5",
                "#B0BEC5",
                "#B0BEC5",
                "#B0BEC5",
                "#B0BEC5",
                "#B0BEC5"
               ]
              ]
             }
            ],
            "label": "Topic 15",
            "method": "update"
           },
           {
            "args": [
             {
              "marker.color": [
               [
                "#B0BEC5",
                "#B0BEC5",
                "#B0BEC5",
                "#B0BEC5",
                "#B0BEC5",
                "#B0BEC5",
                "#B0BEC5",
                "#B0BEC5",
                "#B0BEC5",
                "#B0BEC5",
                "#B0BEC5",
                "#B0BEC5",
                "#B0BEC5",
                "#B0BEC5",
                "#B0BEC5",
                "#B0BEC5",
                "red",
                "#B0BEC5",
                "#B0BEC5",
                "#B0BEC5",
                "#B0BEC5",
                "#B0BEC5",
                "#B0BEC5",
                "#B0BEC5",
                "#B0BEC5",
                "#B0BEC5",
                "#B0BEC5",
                "#B0BEC5",
                "#B0BEC5",
                "#B0BEC5",
                "#B0BEC5",
                "#B0BEC5",
                "#B0BEC5"
               ]
              ]
             }
            ],
            "label": "Topic 16",
            "method": "update"
           },
           {
            "args": [
             {
              "marker.color": [
               [
                "#B0BEC5",
                "#B0BEC5",
                "#B0BEC5",
                "#B0BEC5",
                "#B0BEC5",
                "#B0BEC5",
                "#B0BEC5",
                "#B0BEC5",
                "#B0BEC5",
                "#B0BEC5",
                "#B0BEC5",
                "#B0BEC5",
                "#B0BEC5",
                "#B0BEC5",
                "#B0BEC5",
                "#B0BEC5",
                "#B0BEC5",
                "red",
                "#B0BEC5",
                "#B0BEC5",
                "#B0BEC5",
                "#B0BEC5",
                "#B0BEC5",
                "#B0BEC5",
                "#B0BEC5",
                "#B0BEC5",
                "#B0BEC5",
                "#B0BEC5",
                "#B0BEC5",
                "#B0BEC5",
                "#B0BEC5",
                "#B0BEC5",
                "#B0BEC5"
               ]
              ]
             }
            ],
            "label": "Topic 17",
            "method": "update"
           },
           {
            "args": [
             {
              "marker.color": [
               [
                "#B0BEC5",
                "#B0BEC5",
                "#B0BEC5",
                "#B0BEC5",
                "#B0BEC5",
                "#B0BEC5",
                "#B0BEC5",
                "#B0BEC5",
                "#B0BEC5",
                "#B0BEC5",
                "#B0BEC5",
                "#B0BEC5",
                "#B0BEC5",
                "#B0BEC5",
                "#B0BEC5",
                "#B0BEC5",
                "#B0BEC5",
                "#B0BEC5",
                "red",
                "#B0BEC5",
                "#B0BEC5",
                "#B0BEC5",
                "#B0BEC5",
                "#B0BEC5",
                "#B0BEC5",
                "#B0BEC5",
                "#B0BEC5",
                "#B0BEC5",
                "#B0BEC5",
                "#B0BEC5",
                "#B0BEC5",
                "#B0BEC5",
                "#B0BEC5"
               ]
              ]
             }
            ],
            "label": "Topic 18",
            "method": "update"
           },
           {
            "args": [
             {
              "marker.color": [
               [
                "#B0BEC5",
                "#B0BEC5",
                "#B0BEC5",
                "#B0BEC5",
                "#B0BEC5",
                "#B0BEC5",
                "#B0BEC5",
                "#B0BEC5",
                "#B0BEC5",
                "#B0BEC5",
                "#B0BEC5",
                "#B0BEC5",
                "#B0BEC5",
                "#B0BEC5",
                "#B0BEC5",
                "#B0BEC5",
                "#B0BEC5",
                "#B0BEC5",
                "#B0BEC5",
                "red",
                "#B0BEC5",
                "#B0BEC5",
                "#B0BEC5",
                "#B0BEC5",
                "#B0BEC5",
                "#B0BEC5",
                "#B0BEC5",
                "#B0BEC5",
                "#B0BEC5",
                "#B0BEC5",
                "#B0BEC5",
                "#B0BEC5",
                "#B0BEC5"
               ]
              ]
             }
            ],
            "label": "Topic 19",
            "method": "update"
           },
           {
            "args": [
             {
              "marker.color": [
               [
                "#B0BEC5",
                "#B0BEC5",
                "#B0BEC5",
                "#B0BEC5",
                "#B0BEC5",
                "#B0BEC5",
                "#B0BEC5",
                "#B0BEC5",
                "#B0BEC5",
                "#B0BEC5",
                "#B0BEC5",
                "#B0BEC5",
                "#B0BEC5",
                "#B0BEC5",
                "#B0BEC5",
                "#B0BEC5",
                "#B0BEC5",
                "#B0BEC5",
                "#B0BEC5",
                "#B0BEC5",
                "red",
                "#B0BEC5",
                "#B0BEC5",
                "#B0BEC5",
                "#B0BEC5",
                "#B0BEC5",
                "#B0BEC5",
                "#B0BEC5",
                "#B0BEC5",
                "#B0BEC5",
                "#B0BEC5",
                "#B0BEC5",
                "#B0BEC5"
               ]
              ]
             }
            ],
            "label": "Topic 20",
            "method": "update"
           },
           {
            "args": [
             {
              "marker.color": [
               [
                "#B0BEC5",
                "#B0BEC5",
                "#B0BEC5",
                "#B0BEC5",
                "#B0BEC5",
                "#B0BEC5",
                "#B0BEC5",
                "#B0BEC5",
                "#B0BEC5",
                "#B0BEC5",
                "#B0BEC5",
                "#B0BEC5",
                "#B0BEC5",
                "#B0BEC5",
                "#B0BEC5",
                "#B0BEC5",
                "#B0BEC5",
                "#B0BEC5",
                "#B0BEC5",
                "#B0BEC5",
                "#B0BEC5",
                "red",
                "#B0BEC5",
                "#B0BEC5",
                "#B0BEC5",
                "#B0BEC5",
                "#B0BEC5",
                "#B0BEC5",
                "#B0BEC5",
                "#B0BEC5",
                "#B0BEC5",
                "#B0BEC5",
                "#B0BEC5"
               ]
              ]
             }
            ],
            "label": "Topic 21",
            "method": "update"
           },
           {
            "args": [
             {
              "marker.color": [
               [
                "#B0BEC5",
                "#B0BEC5",
                "#B0BEC5",
                "#B0BEC5",
                "#B0BEC5",
                "#B0BEC5",
                "#B0BEC5",
                "#B0BEC5",
                "#B0BEC5",
                "#B0BEC5",
                "#B0BEC5",
                "#B0BEC5",
                "#B0BEC5",
                "#B0BEC5",
                "#B0BEC5",
                "#B0BEC5",
                "#B0BEC5",
                "#B0BEC5",
                "#B0BEC5",
                "#B0BEC5",
                "#B0BEC5",
                "#B0BEC5",
                "red",
                "#B0BEC5",
                "#B0BEC5",
                "#B0BEC5",
                "#B0BEC5",
                "#B0BEC5",
                "#B0BEC5",
                "#B0BEC5",
                "#B0BEC5",
                "#B0BEC5",
                "#B0BEC5"
               ]
              ]
             }
            ],
            "label": "Topic 22",
            "method": "update"
           },
           {
            "args": [
             {
              "marker.color": [
               [
                "#B0BEC5",
                "#B0BEC5",
                "#B0BEC5",
                "#B0BEC5",
                "#B0BEC5",
                "#B0BEC5",
                "#B0BEC5",
                "#B0BEC5",
                "#B0BEC5",
                "#B0BEC5",
                "#B0BEC5",
                "#B0BEC5",
                "#B0BEC5",
                "#B0BEC5",
                "#B0BEC5",
                "#B0BEC5",
                "#B0BEC5",
                "#B0BEC5",
                "#B0BEC5",
                "#B0BEC5",
                "#B0BEC5",
                "#B0BEC5",
                "#B0BEC5",
                "red",
                "#B0BEC5",
                "#B0BEC5",
                "#B0BEC5",
                "#B0BEC5",
                "#B0BEC5",
                "#B0BEC5",
                "#B0BEC5",
                "#B0BEC5",
                "#B0BEC5"
               ]
              ]
             }
            ],
            "label": "Topic 23",
            "method": "update"
           },
           {
            "args": [
             {
              "marker.color": [
               [
                "#B0BEC5",
                "#B0BEC5",
                "#B0BEC5",
                "#B0BEC5",
                "#B0BEC5",
                "#B0BEC5",
                "#B0BEC5",
                "#B0BEC5",
                "#B0BEC5",
                "#B0BEC5",
                "#B0BEC5",
                "#B0BEC5",
                "#B0BEC5",
                "#B0BEC5",
                "#B0BEC5",
                "#B0BEC5",
                "#B0BEC5",
                "#B0BEC5",
                "#B0BEC5",
                "#B0BEC5",
                "#B0BEC5",
                "#B0BEC5",
                "#B0BEC5",
                "#B0BEC5",
                "red",
                "#B0BEC5",
                "#B0BEC5",
                "#B0BEC5",
                "#B0BEC5",
                "#B0BEC5",
                "#B0BEC5",
                "#B0BEC5",
                "#B0BEC5"
               ]
              ]
             }
            ],
            "label": "Topic 24",
            "method": "update"
           },
           {
            "args": [
             {
              "marker.color": [
               [
                "#B0BEC5",
                "#B0BEC5",
                "#B0BEC5",
                "#B0BEC5",
                "#B0BEC5",
                "#B0BEC5",
                "#B0BEC5",
                "#B0BEC5",
                "#B0BEC5",
                "#B0BEC5",
                "#B0BEC5",
                "#B0BEC5",
                "#B0BEC5",
                "#B0BEC5",
                "#B0BEC5",
                "#B0BEC5",
                "#B0BEC5",
                "#B0BEC5",
                "#B0BEC5",
                "#B0BEC5",
                "#B0BEC5",
                "#B0BEC5",
                "#B0BEC5",
                "#B0BEC5",
                "#B0BEC5",
                "red",
                "#B0BEC5",
                "#B0BEC5",
                "#B0BEC5",
                "#B0BEC5",
                "#B0BEC5",
                "#B0BEC5",
                "#B0BEC5"
               ]
              ]
             }
            ],
            "label": "Topic 25",
            "method": "update"
           },
           {
            "args": [
             {
              "marker.color": [
               [
                "#B0BEC5",
                "#B0BEC5",
                "#B0BEC5",
                "#B0BEC5",
                "#B0BEC5",
                "#B0BEC5",
                "#B0BEC5",
                "#B0BEC5",
                "#B0BEC5",
                "#B0BEC5",
                "#B0BEC5",
                "#B0BEC5",
                "#B0BEC5",
                "#B0BEC5",
                "#B0BEC5",
                "#B0BEC5",
                "#B0BEC5",
                "#B0BEC5",
                "#B0BEC5",
                "#B0BEC5",
                "#B0BEC5",
                "#B0BEC5",
                "#B0BEC5",
                "#B0BEC5",
                "#B0BEC5",
                "#B0BEC5",
                "red",
                "#B0BEC5",
                "#B0BEC5",
                "#B0BEC5",
                "#B0BEC5",
                "#B0BEC5",
                "#B0BEC5"
               ]
              ]
             }
            ],
            "label": "Topic 26",
            "method": "update"
           },
           {
            "args": [
             {
              "marker.color": [
               [
                "#B0BEC5",
                "#B0BEC5",
                "#B0BEC5",
                "#B0BEC5",
                "#B0BEC5",
                "#B0BEC5",
                "#B0BEC5",
                "#B0BEC5",
                "#B0BEC5",
                "#B0BEC5",
                "#B0BEC5",
                "#B0BEC5",
                "#B0BEC5",
                "#B0BEC5",
                "#B0BEC5",
                "#B0BEC5",
                "#B0BEC5",
                "#B0BEC5",
                "#B0BEC5",
                "#B0BEC5",
                "#B0BEC5",
                "#B0BEC5",
                "#B0BEC5",
                "#B0BEC5",
                "#B0BEC5",
                "#B0BEC5",
                "#B0BEC5",
                "red",
                "#B0BEC5",
                "#B0BEC5",
                "#B0BEC5",
                "#B0BEC5",
                "#B0BEC5"
               ]
              ]
             }
            ],
            "label": "Topic 27",
            "method": "update"
           },
           {
            "args": [
             {
              "marker.color": [
               [
                "#B0BEC5",
                "#B0BEC5",
                "#B0BEC5",
                "#B0BEC5",
                "#B0BEC5",
                "#B0BEC5",
                "#B0BEC5",
                "#B0BEC5",
                "#B0BEC5",
                "#B0BEC5",
                "#B0BEC5",
                "#B0BEC5",
                "#B0BEC5",
                "#B0BEC5",
                "#B0BEC5",
                "#B0BEC5",
                "#B0BEC5",
                "#B0BEC5",
                "#B0BEC5",
                "#B0BEC5",
                "#B0BEC5",
                "#B0BEC5",
                "#B0BEC5",
                "#B0BEC5",
                "#B0BEC5",
                "#B0BEC5",
                "#B0BEC5",
                "#B0BEC5",
                "red",
                "#B0BEC5",
                "#B0BEC5",
                "#B0BEC5",
                "#B0BEC5"
               ]
              ]
             }
            ],
            "label": "Topic 28",
            "method": "update"
           },
           {
            "args": [
             {
              "marker.color": [
               [
                "#B0BEC5",
                "#B0BEC5",
                "#B0BEC5",
                "#B0BEC5",
                "#B0BEC5",
                "#B0BEC5",
                "#B0BEC5",
                "#B0BEC5",
                "#B0BEC5",
                "#B0BEC5",
                "#B0BEC5",
                "#B0BEC5",
                "#B0BEC5",
                "#B0BEC5",
                "#B0BEC5",
                "#B0BEC5",
                "#B0BEC5",
                "#B0BEC5",
                "#B0BEC5",
                "#B0BEC5",
                "#B0BEC5",
                "#B0BEC5",
                "#B0BEC5",
                "#B0BEC5",
                "#B0BEC5",
                "#B0BEC5",
                "#B0BEC5",
                "#B0BEC5",
                "#B0BEC5",
                "red",
                "#B0BEC5",
                "#B0BEC5",
                "#B0BEC5"
               ]
              ]
             }
            ],
            "label": "Topic 29",
            "method": "update"
           },
           {
            "args": [
             {
              "marker.color": [
               [
                "#B0BEC5",
                "#B0BEC5",
                "#B0BEC5",
                "#B0BEC5",
                "#B0BEC5",
                "#B0BEC5",
                "#B0BEC5",
                "#B0BEC5",
                "#B0BEC5",
                "#B0BEC5",
                "#B0BEC5",
                "#B0BEC5",
                "#B0BEC5",
                "#B0BEC5",
                "#B0BEC5",
                "#B0BEC5",
                "#B0BEC5",
                "#B0BEC5",
                "#B0BEC5",
                "#B0BEC5",
                "#B0BEC5",
                "#B0BEC5",
                "#B0BEC5",
                "#B0BEC5",
                "#B0BEC5",
                "#B0BEC5",
                "#B0BEC5",
                "#B0BEC5",
                "#B0BEC5",
                "#B0BEC5",
                "red",
                "#B0BEC5",
                "#B0BEC5"
               ]
              ]
             }
            ],
            "label": "Topic 30",
            "method": "update"
           },
           {
            "args": [
             {
              "marker.color": [
               [
                "#B0BEC5",
                "#B0BEC5",
                "#B0BEC5",
                "#B0BEC5",
                "#B0BEC5",
                "#B0BEC5",
                "#B0BEC5",
                "#B0BEC5",
                "#B0BEC5",
                "#B0BEC5",
                "#B0BEC5",
                "#B0BEC5",
                "#B0BEC5",
                "#B0BEC5",
                "#B0BEC5",
                "#B0BEC5",
                "#B0BEC5",
                "#B0BEC5",
                "#B0BEC5",
                "#B0BEC5",
                "#B0BEC5",
                "#B0BEC5",
                "#B0BEC5",
                "#B0BEC5",
                "#B0BEC5",
                "#B0BEC5",
                "#B0BEC5",
                "#B0BEC5",
                "#B0BEC5",
                "#B0BEC5",
                "#B0BEC5",
                "red",
                "#B0BEC5"
               ]
              ]
             }
            ],
            "label": "Topic 31",
            "method": "update"
           },
           {
            "args": [
             {
              "marker.color": [
               [
                "#B0BEC5",
                "#B0BEC5",
                "#B0BEC5",
                "#B0BEC5",
                "#B0BEC5",
                "#B0BEC5",
                "#B0BEC5",
                "#B0BEC5",
                "#B0BEC5",
                "#B0BEC5",
                "#B0BEC5",
                "#B0BEC5",
                "#B0BEC5",
                "#B0BEC5",
                "#B0BEC5",
                "#B0BEC5",
                "#B0BEC5",
                "#B0BEC5",
                "#B0BEC5",
                "#B0BEC5",
                "#B0BEC5",
                "#B0BEC5",
                "#B0BEC5",
                "#B0BEC5",
                "#B0BEC5",
                "#B0BEC5",
                "#B0BEC5",
                "#B0BEC5",
                "#B0BEC5",
                "#B0BEC5",
                "#B0BEC5",
                "#B0BEC5",
                "red"
               ]
              ]
             }
            ],
            "label": "Topic 32",
            "method": "update"
           }
          ]
         }
        ],
        "template": {
         "data": {
          "bar": [
           {
            "error_x": {
             "color": "rgb(36,36,36)"
            },
            "error_y": {
             "color": "rgb(36,36,36)"
            },
            "marker": {
             "line": {
              "color": "white",
              "width": 0.5
             },
             "pattern": {
              "fillmode": "overlay",
              "size": 10,
              "solidity": 0.2
             }
            },
            "type": "bar"
           }
          ],
          "barpolar": [
           {
            "marker": {
             "line": {
              "color": "white",
              "width": 0.5
             },
             "pattern": {
              "fillmode": "overlay",
              "size": 10,
              "solidity": 0.2
             }
            },
            "type": "barpolar"
           }
          ],
          "carpet": [
           {
            "aaxis": {
             "endlinecolor": "rgb(36,36,36)",
             "gridcolor": "white",
             "linecolor": "white",
             "minorgridcolor": "white",
             "startlinecolor": "rgb(36,36,36)"
            },
            "baxis": {
             "endlinecolor": "rgb(36,36,36)",
             "gridcolor": "white",
             "linecolor": "white",
             "minorgridcolor": "white",
             "startlinecolor": "rgb(36,36,36)"
            },
            "type": "carpet"
           }
          ],
          "choropleth": [
           {
            "colorbar": {
             "outlinewidth": 1,
             "tickcolor": "rgb(36,36,36)",
             "ticks": "outside"
            },
            "type": "choropleth"
           }
          ],
          "contour": [
           {
            "colorbar": {
             "outlinewidth": 1,
             "tickcolor": "rgb(36,36,36)",
             "ticks": "outside"
            },
            "colorscale": [
             [
              0,
              "#440154"
             ],
             [
              0.1111111111111111,
              "#482878"
             ],
             [
              0.2222222222222222,
              "#3e4989"
             ],
             [
              0.3333333333333333,
              "#31688e"
             ],
             [
              0.4444444444444444,
              "#26828e"
             ],
             [
              0.5555555555555556,
              "#1f9e89"
             ],
             [
              0.6666666666666666,
              "#35b779"
             ],
             [
              0.7777777777777778,
              "#6ece58"
             ],
             [
              0.8888888888888888,
              "#b5de2b"
             ],
             [
              1,
              "#fde725"
             ]
            ],
            "type": "contour"
           }
          ],
          "contourcarpet": [
           {
            "colorbar": {
             "outlinewidth": 1,
             "tickcolor": "rgb(36,36,36)",
             "ticks": "outside"
            },
            "type": "contourcarpet"
           }
          ],
          "heatmap": [
           {
            "colorbar": {
             "outlinewidth": 1,
             "tickcolor": "rgb(36,36,36)",
             "ticks": "outside"
            },
            "colorscale": [
             [
              0,
              "#440154"
             ],
             [
              0.1111111111111111,
              "#482878"
             ],
             [
              0.2222222222222222,
              "#3e4989"
             ],
             [
              0.3333333333333333,
              "#31688e"
             ],
             [
              0.4444444444444444,
              "#26828e"
             ],
             [
              0.5555555555555556,
              "#1f9e89"
             ],
             [
              0.6666666666666666,
              "#35b779"
             ],
             [
              0.7777777777777778,
              "#6ece58"
             ],
             [
              0.8888888888888888,
              "#b5de2b"
             ],
             [
              1,
              "#fde725"
             ]
            ],
            "type": "heatmap"
           }
          ],
          "heatmapgl": [
           {
            "colorbar": {
             "outlinewidth": 1,
             "tickcolor": "rgb(36,36,36)",
             "ticks": "outside"
            },
            "colorscale": [
             [
              0,
              "#440154"
             ],
             [
              0.1111111111111111,
              "#482878"
             ],
             [
              0.2222222222222222,
              "#3e4989"
             ],
             [
              0.3333333333333333,
              "#31688e"
             ],
             [
              0.4444444444444444,
              "#26828e"
             ],
             [
              0.5555555555555556,
              "#1f9e89"
             ],
             [
              0.6666666666666666,
              "#35b779"
             ],
             [
              0.7777777777777778,
              "#6ece58"
             ],
             [
              0.8888888888888888,
              "#b5de2b"
             ],
             [
              1,
              "#fde725"
             ]
            ],
            "type": "heatmapgl"
           }
          ],
          "histogram": [
           {
            "marker": {
             "line": {
              "color": "white",
              "width": 0.6
             }
            },
            "type": "histogram"
           }
          ],
          "histogram2d": [
           {
            "colorbar": {
             "outlinewidth": 1,
             "tickcolor": "rgb(36,36,36)",
             "ticks": "outside"
            },
            "colorscale": [
             [
              0,
              "#440154"
             ],
             [
              0.1111111111111111,
              "#482878"
             ],
             [
              0.2222222222222222,
              "#3e4989"
             ],
             [
              0.3333333333333333,
              "#31688e"
             ],
             [
              0.4444444444444444,
              "#26828e"
             ],
             [
              0.5555555555555556,
              "#1f9e89"
             ],
             [
              0.6666666666666666,
              "#35b779"
             ],
             [
              0.7777777777777778,
              "#6ece58"
             ],
             [
              0.8888888888888888,
              "#b5de2b"
             ],
             [
              1,
              "#fde725"
             ]
            ],
            "type": "histogram2d"
           }
          ],
          "histogram2dcontour": [
           {
            "colorbar": {
             "outlinewidth": 1,
             "tickcolor": "rgb(36,36,36)",
             "ticks": "outside"
            },
            "colorscale": [
             [
              0,
              "#440154"
             ],
             [
              0.1111111111111111,
              "#482878"
             ],
             [
              0.2222222222222222,
              "#3e4989"
             ],
             [
              0.3333333333333333,
              "#31688e"
             ],
             [
              0.4444444444444444,
              "#26828e"
             ],
             [
              0.5555555555555556,
              "#1f9e89"
             ],
             [
              0.6666666666666666,
              "#35b779"
             ],
             [
              0.7777777777777778,
              "#6ece58"
             ],
             [
              0.8888888888888888,
              "#b5de2b"
             ],
             [
              1,
              "#fde725"
             ]
            ],
            "type": "histogram2dcontour"
           }
          ],
          "mesh3d": [
           {
            "colorbar": {
             "outlinewidth": 1,
             "tickcolor": "rgb(36,36,36)",
             "ticks": "outside"
            },
            "type": "mesh3d"
           }
          ],
          "parcoords": [
           {
            "line": {
             "colorbar": {
              "outlinewidth": 1,
              "tickcolor": "rgb(36,36,36)",
              "ticks": "outside"
             }
            },
            "type": "parcoords"
           }
          ],
          "pie": [
           {
            "automargin": true,
            "type": "pie"
           }
          ],
          "scatter": [
           {
            "fillpattern": {
             "fillmode": "overlay",
             "size": 10,
             "solidity": 0.2
            },
            "type": "scatter"
           }
          ],
          "scatter3d": [
           {
            "line": {
             "colorbar": {
              "outlinewidth": 1,
              "tickcolor": "rgb(36,36,36)",
              "ticks": "outside"
             }
            },
            "marker": {
             "colorbar": {
              "outlinewidth": 1,
              "tickcolor": "rgb(36,36,36)",
              "ticks": "outside"
             }
            },
            "type": "scatter3d"
           }
          ],
          "scattercarpet": [
           {
            "marker": {
             "colorbar": {
              "outlinewidth": 1,
              "tickcolor": "rgb(36,36,36)",
              "ticks": "outside"
             }
            },
            "type": "scattercarpet"
           }
          ],
          "scattergeo": [
           {
            "marker": {
             "colorbar": {
              "outlinewidth": 1,
              "tickcolor": "rgb(36,36,36)",
              "ticks": "outside"
             }
            },
            "type": "scattergeo"
           }
          ],
          "scattergl": [
           {
            "marker": {
             "colorbar": {
              "outlinewidth": 1,
              "tickcolor": "rgb(36,36,36)",
              "ticks": "outside"
             }
            },
            "type": "scattergl"
           }
          ],
          "scattermapbox": [
           {
            "marker": {
             "colorbar": {
              "outlinewidth": 1,
              "tickcolor": "rgb(36,36,36)",
              "ticks": "outside"
             }
            },
            "type": "scattermapbox"
           }
          ],
          "scatterpolar": [
           {
            "marker": {
             "colorbar": {
              "outlinewidth": 1,
              "tickcolor": "rgb(36,36,36)",
              "ticks": "outside"
             }
            },
            "type": "scatterpolar"
           }
          ],
          "scatterpolargl": [
           {
            "marker": {
             "colorbar": {
              "outlinewidth": 1,
              "tickcolor": "rgb(36,36,36)",
              "ticks": "outside"
             }
            },
            "type": "scatterpolargl"
           }
          ],
          "scatterternary": [
           {
            "marker": {
             "colorbar": {
              "outlinewidth": 1,
              "tickcolor": "rgb(36,36,36)",
              "ticks": "outside"
             }
            },
            "type": "scatterternary"
           }
          ],
          "surface": [
           {
            "colorbar": {
             "outlinewidth": 1,
             "tickcolor": "rgb(36,36,36)",
             "ticks": "outside"
            },
            "colorscale": [
             [
              0,
              "#440154"
             ],
             [
              0.1111111111111111,
              "#482878"
             ],
             [
              0.2222222222222222,
              "#3e4989"
             ],
             [
              0.3333333333333333,
              "#31688e"
             ],
             [
              0.4444444444444444,
              "#26828e"
             ],
             [
              0.5555555555555556,
              "#1f9e89"
             ],
             [
              0.6666666666666666,
              "#35b779"
             ],
             [
              0.7777777777777778,
              "#6ece58"
             ],
             [
              0.8888888888888888,
              "#b5de2b"
             ],
             [
              1,
              "#fde725"
             ]
            ],
            "type": "surface"
           }
          ],
          "table": [
           {
            "cells": {
             "fill": {
              "color": "rgb(237,237,237)"
             },
             "line": {
              "color": "white"
             }
            },
            "header": {
             "fill": {
              "color": "rgb(217,217,217)"
             },
             "line": {
              "color": "white"
             }
            },
            "type": "table"
           }
          ]
         },
         "layout": {
          "annotationdefaults": {
           "arrowhead": 0,
           "arrowwidth": 1
          },
          "autotypenumbers": "strict",
          "coloraxis": {
           "colorbar": {
            "outlinewidth": 1,
            "tickcolor": "rgb(36,36,36)",
            "ticks": "outside"
           }
          },
          "colorscale": {
           "diverging": [
            [
             0,
             "rgb(103,0,31)"
            ],
            [
             0.1,
             "rgb(178,24,43)"
            ],
            [
             0.2,
             "rgb(214,96,77)"
            ],
            [
             0.3,
             "rgb(244,165,130)"
            ],
            [
             0.4,
             "rgb(253,219,199)"
            ],
            [
             0.5,
             "rgb(247,247,247)"
            ],
            [
             0.6,
             "rgb(209,229,240)"
            ],
            [
             0.7,
             "rgb(146,197,222)"
            ],
            [
             0.8,
             "rgb(67,147,195)"
            ],
            [
             0.9,
             "rgb(33,102,172)"
            ],
            [
             1,
             "rgb(5,48,97)"
            ]
           ],
           "sequential": [
            [
             0,
             "#440154"
            ],
            [
             0.1111111111111111,
             "#482878"
            ],
            [
             0.2222222222222222,
             "#3e4989"
            ],
            [
             0.3333333333333333,
             "#31688e"
            ],
            [
             0.4444444444444444,
             "#26828e"
            ],
            [
             0.5555555555555556,
             "#1f9e89"
            ],
            [
             0.6666666666666666,
             "#35b779"
            ],
            [
             0.7777777777777778,
             "#6ece58"
            ],
            [
             0.8888888888888888,
             "#b5de2b"
            ],
            [
             1,
             "#fde725"
            ]
           ],
           "sequentialminus": [
            [
             0,
             "#440154"
            ],
            [
             0.1111111111111111,
             "#482878"
            ],
            [
             0.2222222222222222,
             "#3e4989"
            ],
            [
             0.3333333333333333,
             "#31688e"
            ],
            [
             0.4444444444444444,
             "#26828e"
            ],
            [
             0.5555555555555556,
             "#1f9e89"
            ],
            [
             0.6666666666666666,
             "#35b779"
            ],
            [
             0.7777777777777778,
             "#6ece58"
            ],
            [
             0.8888888888888888,
             "#b5de2b"
            ],
            [
             1,
             "#fde725"
            ]
           ]
          },
          "colorway": [
           "#1F77B4",
           "#FF7F0E",
           "#2CA02C",
           "#D62728",
           "#9467BD",
           "#8C564B",
           "#E377C2",
           "#7F7F7F",
           "#BCBD22",
           "#17BECF"
          ],
          "font": {
           "color": "rgb(36,36,36)"
          },
          "geo": {
           "bgcolor": "white",
           "lakecolor": "white",
           "landcolor": "white",
           "showlakes": true,
           "showland": true,
           "subunitcolor": "white"
          },
          "hoverlabel": {
           "align": "left"
          },
          "hovermode": "closest",
          "mapbox": {
           "style": "light"
          },
          "paper_bgcolor": "white",
          "plot_bgcolor": "white",
          "polar": {
           "angularaxis": {
            "gridcolor": "rgb(232,232,232)",
            "linecolor": "rgb(36,36,36)",
            "showgrid": false,
            "showline": true,
            "ticks": "outside"
           },
           "bgcolor": "white",
           "radialaxis": {
            "gridcolor": "rgb(232,232,232)",
            "linecolor": "rgb(36,36,36)",
            "showgrid": false,
            "showline": true,
            "ticks": "outside"
           }
          },
          "scene": {
           "xaxis": {
            "backgroundcolor": "white",
            "gridcolor": "rgb(232,232,232)",
            "gridwidth": 2,
            "linecolor": "rgb(36,36,36)",
            "showbackground": true,
            "showgrid": false,
            "showline": true,
            "ticks": "outside",
            "zeroline": false,
            "zerolinecolor": "rgb(36,36,36)"
           },
           "yaxis": {
            "backgroundcolor": "white",
            "gridcolor": "rgb(232,232,232)",
            "gridwidth": 2,
            "linecolor": "rgb(36,36,36)",
            "showbackground": true,
            "showgrid": false,
            "showline": true,
            "ticks": "outside",
            "zeroline": false,
            "zerolinecolor": "rgb(36,36,36)"
           },
           "zaxis": {
            "backgroundcolor": "white",
            "gridcolor": "rgb(232,232,232)",
            "gridwidth": 2,
            "linecolor": "rgb(36,36,36)",
            "showbackground": true,
            "showgrid": false,
            "showline": true,
            "ticks": "outside",
            "zeroline": false,
            "zerolinecolor": "rgb(36,36,36)"
           }
          },
          "shapedefaults": {
           "fillcolor": "black",
           "line": {
            "width": 0
           },
           "opacity": 0.3
          },
          "ternary": {
           "aaxis": {
            "gridcolor": "rgb(232,232,232)",
            "linecolor": "rgb(36,36,36)",
            "showgrid": false,
            "showline": true,
            "ticks": "outside"
           },
           "baxis": {
            "gridcolor": "rgb(232,232,232)",
            "linecolor": "rgb(36,36,36)",
            "showgrid": false,
            "showline": true,
            "ticks": "outside"
           },
           "bgcolor": "white",
           "caxis": {
            "gridcolor": "rgb(232,232,232)",
            "linecolor": "rgb(36,36,36)",
            "showgrid": false,
            "showline": true,
            "ticks": "outside"
           }
          },
          "title": {
           "x": 0.05
          },
          "xaxis": {
           "automargin": true,
           "gridcolor": "rgb(232,232,232)",
           "linecolor": "rgb(36,36,36)",
           "showgrid": false,
           "showline": true,
           "ticks": "outside",
           "title": {
            "standoff": 15
           },
           "zeroline": false,
           "zerolinecolor": "rgb(36,36,36)"
          },
          "yaxis": {
           "automargin": true,
           "gridcolor": "rgb(232,232,232)",
           "linecolor": "rgb(36,36,36)",
           "showgrid": false,
           "showline": true,
           "ticks": "outside",
           "title": {
            "standoff": 15
           },
           "zeroline": false,
           "zerolinecolor": "rgb(36,36,36)"
          }
         }
        },
        "title": {
         "font": {
          "color": "Black",
          "size": 22
         },
         "text": "<b>Intertopic Distance Map</b>",
         "x": 0.5,
         "xanchor": "center",
         "y": 0.95,
         "yanchor": "top"
        },
        "width": 650,
        "xaxis": {
         "anchor": "y",
         "domain": [
          0,
          1
         ],
         "range": [
          -12.644207096099853,
          21.99662561416626
         ],
         "title": {
          "text": ""
         },
         "visible": false
        },
        "yaxis": {
         "anchor": "x",
         "domain": [
          0,
          1
         ],
         "range": [
          0.595514178276062,
          11.40683536529541
         ],
         "title": {
          "text": ""
         },
         "visible": false
        }
       }
      }
     },
     "metadata": {},
     "output_type": "display_data"
    }
   ],
   "source": [
    "fig_topic = best_topic_model.visualize_topics()\n",
    "fig_topic_filename = f\"topic_relationship_auto_{suffix}.html\"\n",
    "fig_topic.write_html(fig_topic_filename)\n",
    "print(f\"自动聚类后的主题关系图已保存为 {fig_topic_filename}\")\n",
    "fig_topic.show()"
   ]
  },
  {
   "cell_type": "markdown",
   "metadata": {},
   "source": [
    "## 4-3 文档分布图 Document DataMap"
   ]
  },
  {
   "cell_type": "code",
   "execution_count": 22,
   "metadata": {},
   "outputs": [
    {
     "name": "stdout",
     "output_type": "stream",
     "text": [
      "自动聚类后的文档分布图已保存为 document_distribution_auto_antifeminism3.23-1.html\n"
     ]
    },
    {
     "data": {
      "application/vnd.plotly.v1+json": {
       "config": {
        "plotlyServerURL": "https://plot.ly"
       },
       "data": [
        {
         "hoverinfo": "text",
         "marker": {
          "color": "#CFD8DC",
          "opacity": 0.5,
          "size": 5
         },
         "mode": "markers+text",
         "name": "other",
         "showlegend": false,
         "type": "scattergl",
         "x": [
          7.6196914,
          8.0252695,
          26.526052,
          -3.569639,
          4.424626,
          -8.869162,
          7.2378726,
          -14.123027,
          -14.1131315,
          7.763045,
          10.588792,
          6.916737,
          1.7925773,
          -8.869178,
          7.213322,
          7.0823154,
          13.460869,
          8.043891,
          14.490749,
          1.5556,
          3.7002325,
          -5.8975906,
          6.8586183,
          3.6352615,
          11.087958,
          14.491805,
          7.6306744,
          7.7590895,
          8.015234,
          8.264728,
          1.3713794,
          14.47791,
          7.619243,
          11.042759,
          7.767363,
          7.9044275,
          7.1501346,
          5.78699,
          14.485609,
          -5.8941255,
          -3.0093403,
          -14.1148815,
          19.838228,
          7.2609024,
          3.0265124,
          -8.019358,
          1.5757842,
          7.609933,
          8.017435,
          8.034341,
          -5.8188834,
          4.7380195,
          -5.7806253,
          13.461334,
          4.439901,
          11.088514,
          1.6396426,
          7.60468,
          -3.0575397,
          6.8696485,
          11.042811,
          -14.1162195,
          7.607238,
          10.582805,
          -14.114867,
          -14.116981,
          19.8911,
          10.385487,
          19.885422,
          10.380284,
          13.468685,
          -8.019416,
          19.603342,
          7.1567245,
          -2.9082391,
          -5.8223314,
          10.585705,
          13.5040045,
          7.917212,
          -8.869119,
          11.045154,
          7.910095,
          10.237292,
          13.456127,
          10.590794,
          10.591016,
          -8.869127,
          -14.119565,
          4.7388487,
          6.8119946,
          0.75508475,
          6.7823243,
          13.470732,
          2.8016915,
          14.489316,
          7.268134,
          -14.116137,
          2.299116,
          13.460601,
          2.2867148,
          -3.5708096,
          10.590191,
          -8.01932,
          10.425695,
          26.526033,
          3.640456,
          6.803236,
          6.854236,
          8.036771,
          14.481879,
          19.885132,
          -5.883981,
          10.23709,
          5.786961,
          19.88536,
          -8.019385,
          10.591383,
          10.237074,
          -8.019442,
          11.085084,
          -12.972849,
          6.8503942,
          2.2992082,
          10.384053,
          7.5861697,
          2.2995148,
          -5.848806,
          7.61849,
          14.488057,
          3.641971,
          7.9226174,
          -5.7803783,
          1.3683099,
          7.608337,
          -8.869159,
          2.299226,
          4.738941,
          7.602831,
          -3.560263,
          7.1551685,
          7.1533427,
          14.486908,
          5.7869496,
          10.385878,
          -14.094456,
          13.461209,
          -14.11436,
          26.526028,
          7.022127,
          -5.7816505,
          26.526058,
          -5.7622986,
          10.402303,
          5.786938,
          7.9064603,
          -12.972848,
          11.043309,
          3.6547875,
          -12.972853,
          1.7388537,
          11.044622,
          7.6285834,
          26.526064,
          10.237051,
          10.584307,
          -8.019522,
          10.390692,
          -14.122969,
          -14.119358,
          8.045647,
          19.847715,
          7.247687,
          2.2992675,
          -8.869153,
          5.786964,
          -5.7761216,
          -12.972849,
          14.4872675,
          7.203733,
          8.04742,
          19.60339,
          14.494882,
          3.6359713,
          14.494055,
          10.385524,
          7.604127,
          -3.0804846,
          11.043179,
          4.7387576,
          14.475974,
          10.587299,
          13.461096,
          26.526045,
          -3.060003,
          -8.869148,
          -8.019499,
          19.606321,
          1.6118894,
          -8.019493,
          1.3797009,
          13.460788,
          5.786992,
          10.574382,
          10.585232,
          -5.8937244,
          8.046995,
          8.022752,
          6.8245997,
          10.585368,
          -12.972848,
          6.8697066,
          8.046832,
          -14.116883,
          7.1684546,
          2.2993279,
          13.460654,
          -5.7804327,
          19.609142,
          -3.5712886,
          6.7641478,
          0.7482719,
          7.796348,
          -8.869316,
          19.877148,
          7.002211,
          19.88474,
          14.48041,
          19.873995,
          -5.7778873,
          4.733875,
          -14.125627,
          7.9103985,
          4.3951526,
          13.457336,
          2.8016784,
          10.403356,
          26.526045,
          -14.10821,
          11.085835,
          7.606236,
          10.3794775,
          -8.019421,
          19.875813,
          10.585123,
          13.460607,
          4.076261,
          7.767955,
          13.460335,
          6.8693495,
          -8.869206,
          19.88009,
          11.043164,
          -5.7796416,
          -5.7957196,
          7.1011133,
          6.9620357,
          26.526049,
          -8.86924,
          10.237029,
          6.840169,
          6.81937,
          19.884714,
          -5.779817,
          14.516257,
          7.27423,
          2.2994764,
          -8.019494,
          -8.869259,
          14.491364,
          3.6259325,
          -14.10694,
          -5.7877574,
          5.8537416,
          5.1130524
         ],
         "y": [
          3.507216,
          -0.8176505,
          13.753228,
          0.75036347,
          13.678945,
          -13.26827,
          5.2243714,
          -13.539199,
          -13.549153,
          6.019733,
          14.238794,
          9.208677,
          5.972238,
          -13.268288,
          5.145359,
          3.8430223,
          23.286354,
          11.778574,
          29.189716,
          5.6186447,
          11.077398,
          -9.301685,
          4.751799,
          11.1932535,
          1.9460495,
          29.190784,
          5.8443217,
          6.014469,
          -1.2834538,
          -0.94654506,
          4.77253,
          29.176882,
          5.829645,
          1.9925977,
          6.0254483,
          11.920348,
          4.52568,
          -6.3215513,
          29.184586,
          -9.30481,
          -7.264087,
          -13.547396,
          13.512082,
          5.2630997,
          -4.4020615,
          5.075561,
          5.6718717,
          3.5187385,
          -1.2667485,
          11.788154,
          -9.382597,
          14.452573,
          -9.422553,
          23.2859,
          13.705328,
          1.9455683,
          5.7567463,
          5.8110223,
          -7.3549857,
          4.745826,
          1.9925585,
          -13.546101,
          5.810971,
          14.243826,
          -13.547421,
          -13.5453415,
          13.575697,
          16.192387,
          13.569245,
          16.187069,
          23.278545,
          5.0755653,
          13.204125,
          4.5191574,
          -7.047356,
          -9.379142,
          14.24175,
          23.244,
          -1.8128834,
          -13.268253,
          1.9901533,
          11.915087,
          12.154639,
          23.291147,
          14.236788,
          14.236507,
          -13.268264,
          -13.542732,
          14.454743,
          4.120234,
          8.451984,
          4.042152,
          23.276546,
          -1.2177131,
          29.188295,
          3.7205207,
          -13.546198,
          4.16531,
          23.28665,
          4.1725783,
          0.748843,
          14.237467,
          5.075555,
          16.232983,
          13.753226,
          11.1939535,
          4.131042,
          4.76217,
          11.785654,
          29.18085,
          13.568953,
          -9.314952,
          12.1545105,
          -6.321544,
          13.569203,
          5.075552,
          14.2362385,
          12.154509,
          5.0755343,
          1.9489932,
          -7.4005294,
          4.743676,
          4.165242,
          16.190872,
          3.5286384,
          4.1649904,
          -9.3516245,
          3.5087445,
          29.187046,
          11.198844,
          11.902975,
          -9.422813,
          4.71492,
          5.8154316,
          -13.268275,
          4.16517,
          14.454977,
          5.8078218,
          0.7592561,
          3.787225,
          4.5243692,
          29.185892,
          -6.3215375,
          16.192938,
          -13.56787,
          23.286045,
          -13.547978,
          13.753205,
          4.5857778,
          -9.421554,
          13.753221,
          -9.441955,
          16.209307,
          -6.321547,
          11.918784,
          -7.4005036,
          1.9920158,
          11.079409,
          -7.4005337,
          5.904071,
          1.9908959,
          5.8414536,
          13.753251,
          12.154483,
          14.242893,
          5.075559,
          16.19767,
          -13.539396,
          -13.542675,
          11.77681,
          13.528524,
          3.7328486,
          4.165207,
          -13.268249,
          -6.3214145,
          -9.427192,
          -7.4005136,
          29.186258,
          8.740527,
          11.775004,
          13.204209,
          29.193863,
          11.20654,
          29.193047,
          16.19267,
          5.8080087,
          5.434949,
          1.992312,
          14.454364,
          29.174978,
          14.240244,
          23.28616,
          13.753254,
          -7.3592796,
          -13.268286,
          5.0756125,
          13.208034,
          5.730503,
          5.0755754,
          4.703975,
          23.286482,
          -6.321383,
          14.254172,
          14.24226,
          -9.305271,
          11.775266,
          -1.2554415,
          4.29297,
          14.242266,
          -7.4004927,
          4.7482023,
          11.775783,
          -13.545454,
          4.505767,
          4.165162,
          23.286615,
          -9.422999,
          13.211698,
          0.7484762,
          4.0395303,
          8.44518,
          6.0598316,
          -13.268369,
          13.559957,
          4.591156,
          13.568635,
          29.179394,
          13.557733,
          -9.425325,
          14.438648,
          -13.536747,
          11.914899,
          13.620869,
          23.290014,
          -1.2176079,
          16.210337,
          13.753222,
          -13.554333,
          1.9483204,
          5.813773,
          16.18632,
          5.07554,
          13.559536,
          14.2423315,
          23.28668,
          12.572017,
          6.026033,
          23.286968,
          4.754353,
          -13.2683115,
          13.563515,
          1.9922366,
          -9.423803,
          -9.407621,
          3.8128645,
          9.2803545,
          13.753247,
          -13.268331,
          12.154475,
          4.7593184,
          4.160922,
          13.568608,
          -9.4232,
          29.21525,
          5.2858663,
          4.16498,
          5.0755696,
          -13.268319,
          29.190357,
          11.205896,
          -13.555429,
          -9.415163,
          8.949302,
          5.975313
         ]
        },
        {
         "hoverinfo": "text",
         "marker": {
          "opacity": 0.5,
          "size": 5
         },
         "mode": "markers+text",
         "name": "0_特别_策划_星鸣特攻",
         "text": [
          "",
          "",
          "",
          "",
          "",
          "",
          "",
          "",
          "",
          "",
          "",
          "",
          "",
          "",
          "",
          "",
          "",
          "",
          "",
          "",
          "",
          "",
          "",
          "",
          "",
          "",
          "",
          "",
          "",
          "",
          "",
          "",
          "",
          "",
          "",
          "",
          "",
          "",
          "",
          "",
          "",
          "",
          "",
          "",
          "",
          "",
          "",
          "",
          "",
          "",
          "",
          "",
          "",
          "",
          "",
          "",
          "",
          "",
          "",
          "",
          "",
          "",
          "",
          "",
          "",
          "",
          "",
          "",
          "",
          "",
          "",
          "",
          "",
          "",
          "",
          "",
          "",
          "",
          "",
          "",
          "",
          "",
          "",
          "",
          "",
          "",
          "",
          "",
          "",
          "",
          "",
          "",
          "",
          "",
          "",
          "",
          "",
          "",
          "",
          "",
          "",
          "",
          "",
          "",
          "",
          "",
          "",
          "",
          "",
          "",
          "",
          "",
          "",
          "",
          "",
          "",
          "",
          "",
          "",
          "",
          "",
          "",
          "",
          "",
          "",
          "",
          "",
          "",
          "",
          "",
          "",
          "",
          "",
          "",
          "",
          "",
          "",
          "",
          "",
          "",
          "",
          "",
          "",
          "",
          "",
          "",
          "",
          "",
          "",
          "",
          "",
          "",
          "",
          "",
          "",
          "",
          "",
          "",
          "",
          "",
          "",
          "",
          "",
          "",
          "",
          "",
          "",
          "",
          "",
          "",
          "",
          "",
          "",
          "",
          "",
          "",
          "",
          "",
          "",
          "",
          "",
          "",
          "",
          "",
          "",
          "",
          "",
          "",
          "",
          "",
          "",
          "",
          "",
          "",
          "",
          "",
          "",
          "",
          "",
          "",
          "",
          "",
          "",
          "",
          "",
          "",
          "",
          "",
          "",
          "",
          "",
          "",
          "",
          "",
          "",
          "",
          "",
          "",
          "",
          "",
          "",
          "",
          "",
          "",
          "",
          "",
          "",
          "",
          "",
          "",
          "",
          "",
          "",
          "",
          "",
          "",
          "",
          "",
          "",
          "",
          "",
          "",
          "",
          "",
          "",
          "",
          "",
          "",
          "",
          "",
          "",
          "",
          "",
          "",
          "",
          "",
          "",
          "",
          "",
          "",
          "",
          "",
          "",
          "",
          "",
          "",
          "",
          "",
          "",
          "",
          "",
          "",
          "",
          "",
          "",
          "",
          "",
          "",
          "",
          "",
          "",
          "",
          "",
          "",
          "",
          "",
          "",
          "",
          "",
          "",
          "",
          "",
          "",
          "",
          "",
          "",
          "",
          "",
          "",
          "",
          "",
          "",
          "",
          "",
          "",
          "",
          "",
          "",
          "",
          "",
          "",
          "",
          "",
          "",
          "",
          "",
          "",
          "",
          "",
          "",
          "",
          "",
          "",
          "",
          "",
          "",
          "",
          "",
          "",
          "",
          "",
          "",
          "",
          "",
          "",
          "",
          "",
          "",
          "",
          "",
          "",
          "",
          "",
          "",
          "",
          "",
          "",
          "",
          "",
          "",
          "",
          "",
          "",
          "",
          "",
          "",
          "",
          "",
          "",
          "",
          "",
          "",
          "",
          "",
          "",
          "",
          "",
          "",
          "",
          "",
          "",
          "",
          "",
          "",
          "",
          "",
          "",
          "",
          "",
          "",
          "",
          "",
          "",
          "",
          "",
          "",
          "",
          "",
          "",
          "",
          "",
          "",
          "",
          "",
          "",
          "",
          "",
          "",
          "",
          "",
          "",
          "",
          "",
          "",
          "",
          "",
          "",
          "",
          "",
          "",
          "",
          "",
          "",
          "",
          "",
          "",
          "",
          "",
          "",
          "",
          "",
          "",
          "",
          "",
          "",
          "",
          "",
          "",
          "",
          "",
          "",
          "",
          "",
          "",
          "",
          "",
          "",
          "",
          "",
          "",
          "",
          "",
          "",
          "",
          "",
          "",
          "",
          "",
          "",
          "",
          "",
          "",
          "",
          "",
          "",
          "",
          "",
          "",
          "",
          "",
          "",
          "",
          "",
          "",
          "",
          "",
          "",
          "",
          "",
          "",
          "",
          "",
          "",
          "",
          "",
          "",
          "",
          "",
          "",
          "",
          "",
          "",
          "",
          "",
          "",
          "",
          "",
          "",
          "",
          "",
          "",
          "",
          "",
          "",
          "",
          "",
          "",
          "",
          "",
          "",
          "",
          "",
          "",
          "",
          "",
          "",
          "",
          "",
          "",
          "",
          "",
          "",
          "",
          "",
          "",
          "",
          "",
          "",
          "",
          "",
          "",
          "",
          "",
          "",
          "",
          "",
          "",
          "",
          "",
          "",
          "",
          "",
          "",
          "",
          "",
          "",
          "",
          "",
          "",
          "",
          "",
          "",
          "",
          "",
          "",
          "",
          "",
          "",
          "",
          "",
          "",
          "",
          "",
          "",
          "",
          "",
          "",
          "",
          "",
          "",
          "",
          "",
          "",
          "",
          "",
          "",
          "",
          "",
          "",
          "",
          "",
          "",
          "",
          "",
          "",
          "",
          "",
          "",
          "",
          "",
          "",
          "",
          "",
          "",
          "",
          "",
          "",
          "",
          "",
          "",
          "",
          "",
          "",
          "",
          "",
          "",
          "",
          "",
          "",
          "",
          "",
          "",
          "",
          "",
          "",
          "",
          "",
          "",
          "",
          "",
          "",
          "",
          "",
          "",
          "",
          "",
          "0_特别_策划_星鸣特攻"
         ],
         "textfont": {
          "size": 12
         },
         "type": "scattergl",
         "x": [
          -10.423977,
          -3.2779908,
          4.3528504,
          -10.101949,
          -10.033933,
          4.6072373,
          4.7080817,
          4.616957,
          0.78074634,
          -0.5733114,
          -16.659098,
          -7.1630025,
          -4.0264525,
          1.7354184,
          6.8698654,
          -2.2932723,
          -10.952422,
          -10.03882,
          -3.5220554,
          -16.654026,
          -3.0332456,
          -16.653048,
          7.163902,
          -0.40438852,
          1.0966828,
          -3.2031195,
          -3.4513493,
          -0.59457785,
          1.9727998,
          6.791934,
          3.6880932,
          -1.6305544,
          -8.180311,
          0.28160414,
          0.94099945,
          -3.3431516,
          4.7098613,
          -3.7230718,
          7.25458,
          1.8086673,
          4.7095675,
          -6.387594,
          5.508788,
          -6.387874,
          -3.5918994,
          0.4073503,
          1.9728802,
          0.28166702,
          6.788947,
          -2.2841668,
          3.028127,
          -10.639712,
          1.9728539,
          1.8117882,
          -3.3555944,
          4.3366942,
          0.80001485,
          4.4149814,
          1.9728005,
          -3.3597562,
          1.6084996,
          0.7792552,
          -7.0135984,
          -7.0164814,
          3.699612,
          2.8136356,
          -7.015529,
          0.77752227,
          10.047361,
          3.8988247,
          7.1637692,
          6.820492,
          1.9727601,
          7.450765,
          -0.56696177,
          4.466936,
          -10.0992565,
          -10.107897,
          4.117358,
          -10.439042,
          2.7721112,
          -5.9481244,
          0.728422,
          -4.026453,
          4.3126526,
          -10.030211,
          4.1196465,
          1.7386562,
          6.639634,
          7.234864,
          0.800335,
          -3.3594005,
          -16.641773,
          -3.0205748,
          -10.649895,
          -7.011596,
          1.8139933,
          5.586832,
          1.7486846,
          -2.278937,
          -10.939593,
          3.9012306,
          1.3710502,
          4.1103964,
          -5.9480042,
          6.8147964,
          5.518678,
          1.1805992,
          4.710722,
          0.78656125,
          2.7599776,
          0.781525,
          -3.2756076,
          -3.746651,
          1.5839927,
          5.596782,
          9.978545,
          -6.239239,
          -1.1675507,
          1.3675181,
          4.467429,
          -0.37422234,
          -3.624611,
          2.7402122,
          -0.39887917,
          -16.652035,
          -6.239208,
          4.4024754,
          -10.099218,
          2.8839338,
          7.4456463,
          0.50207937,
          0.92823815,
          -4.0264506,
          3.8990388,
          3.6895208,
          7.2048197,
          -3.4807594,
          0.23233567,
          -10.642108,
          9.950131,
          1.8644708,
          5.5172043,
          -10.796572,
          4.4902387,
          3.9075327,
          -10.9527025,
          1.1626663,
          -3.2003596,
          5.508726,
          4.388835,
          -3.2964516,
          0.7339575,
          -10.088064,
          -7.013414,
          -5.9535017,
          7.1098223,
          -10.029257,
          -6.387864,
          -4.026493,
          4.4278646,
          -0.59900194,
          -10.794797,
          -1.2173523,
          -0.5955677,
          -3.1398714,
          1.3715855,
          -3.2019694,
          -10.420552,
          -5.9490542,
          1.0676631,
          -0.70763844,
          4.7105737,
          4.097805,
          1.1366388,
          -10.649564,
          -10.635603,
          1.1926523,
          1.3770397,
          1.3710369,
          -10.6327095,
          -3.033618,
          -10.803944,
          5.8669295,
          -3.2007535,
          -10.648475,
          0.6950151,
          -7.0573254,
          -10.796346,
          -7.0080533,
          10.1092825,
          6.8245645,
          1.5813569,
          6.626331,
          3.0302079,
          -16.65386,
          4.3367343,
          -10.939919,
          -1.2070521,
          -3.7048142,
          4.0983577,
          -10.035718,
          -10.5142565,
          4.119999,
          3.6285543,
          6.6186833,
          -0.3986654,
          -0.59026396,
          4.099049,
          -0.7582095,
          1.9725566,
          0.23144007,
          -2.2868047,
          -1.6383716,
          -10.130274,
          6.6220956,
          6.865428,
          -0.6125267,
          -3.6526444,
          -6.2392316,
          2.7913651,
          4.4767776,
          -10.035759,
          -7.017791,
          1.0918366,
          0.926401,
          -8.180367,
          -0.73278373,
          0.27814838,
          -3.0408092,
          4.1201997,
          -3.4958098,
          0.79936284,
          -6.387847,
          1.8105501,
          -2.2940032,
          2.7626255,
          0.79699737,
          0.5630106,
          3.9117448,
          1.1071361,
          -16.653885,
          0.29998246,
          10.105952,
          -1.6274452,
          4.4862576,
          4.647316,
          4.609529,
          -2.2891376,
          9.984631,
          4.52859,
          1.0218649,
          -0.7339417,
          -1.2135937,
          -10.517463,
          4.1018343,
          0.37630898,
          4.7081904,
          -10.0606365,
          -0.5660833,
          -10.547912,
          -1.2093056,
          1.1843162,
          4.4876204,
          3.7177148,
          -10.952596,
          -3.4966946,
          3.6890185,
          0.21623948,
          -10.398029,
          -7.007428,
          -3.2794738,
          -0.43339652,
          -1.6667702,
          -3.5150895,
          5.600263,
          -6.3879604,
          4.55753,
          -7.1645494,
          4.33852,
          -3.5624347,
          1.7313838,
          -10.52378,
          -10.654047,
          5.516066,
          5.807837,
          -1.6613737,
          -10.064579,
          0.36289915,
          7.074983,
          -1.6281111,
          -3.5870297,
          -3.5322866,
          6.609222,
          -0.39815998,
          0.54498184,
          9.963179,
          1.56614,
          -5.94028,
          -3.118821,
          7.447384,
          7.1645217,
          3.6972713,
          4.433689,
          -3.1999564,
          -16.661161,
          -7.024229,
          3.9155743,
          0.21124631,
          3.7098768,
          -7.1796427,
          3.9081302,
          -10.520094,
          -10.643074,
          1.7292898,
          -6.2391853,
          -3.4683912,
          6.8120627,
          1.1830721,
          5.803944,
          -3.4758117,
          0.2610666,
          4.099438,
          4.463369,
          1.5702718,
          0.33993438,
          0.71668184,
          1.568259,
          -3.2077348,
          -0.7547728,
          -0.5868242,
          -1.6693087,
          -7.165333,
          -10.648841,
          0.799111,
          -8.180331,
          0.7674595,
          -10.028027,
          -10.087745,
          -16.649563,
          5.806934,
          0.82363296,
          -10.937673,
          -10.439608,
          -10.02494,
          0.7961797,
          3.8904934,
          1.3667783,
          -0.73103684,
          7.1593704,
          -6.387488,
          2.78532,
          -6.239204,
          -0.59245706,
          7.050395,
          10.100722,
          -1.1962141,
          3.0385907,
          -3.276961,
          -4.026472,
          -3.2049747,
          -7.005898,
          2.7608056,
          0.675815,
          -10.026266,
          0.2567246,
          4.7088237,
          4.087809,
          -3.4301188,
          -7.1625366,
          -10.634257,
          -3.0357442,
          -1.6222095,
          -10.025798,
          -10.489363,
          -8.1803255,
          -3.7327142,
          -4.026452,
          0.23905052,
          -7.039032,
          0.21357372,
          0.7924437,
          0.48989877,
          0.93938595,
          -1.2034423,
          -3.070809,
          6.875994,
          -0.6643922,
          -10.952841,
          -6.38784,
          -0.59574294,
          -0.37425646,
          -10.64466,
          2.7635636,
          -3.4665418,
          -3.0263727,
          -16.650951,
          6.8067183,
          4.124368,
          0.22995377,
          3.8990436,
          3.632779,
          -16.652489,
          -7.046412,
          -5.947313,
          1.8710455,
          -8.180434,
          -7.0143113,
          5.5723557,
          0.79868287,
          0.5668417,
          0.28658023,
          5.619867,
          -3.3793392,
          -1.6286374,
          -0.7553027,
          -1.6698669,
          -8.180332,
          -6.387779,
          3.0299542,
          10.046508,
          0.2136508,
          6.8441105,
          -1.6701144,
          -3.729271,
          -16.661987,
          1.8707408,
          7.1393323,
          -3.0670314,
          -0.57282096,
          -0.39987576,
          5.6216226,
          4.0976596,
          1.1155912,
          6.8994575,
          7.1520867,
          -10.517926,
          -10.511409,
          -3.2600722,
          4.709346,
          3.7065487,
          7.0688515,
          4.6251073,
          6.7909794,
          -6.9972763,
          0.45010105,
          4.116634,
          -5.9469647,
          -7.1650023,
          -3.2697968,
          10.033956,
          1.8066325,
          4.4397125,
          4.116208,
          4.0909004,
          4.1011057,
          -3.033746,
          4.7039347,
          -8.180382,
          -0.77490795,
          -3.4935215,
          0.7998262,
          -5.9496574,
          -10.644517,
          -7.162499,
          -3.4800463,
          0.7975052,
          0.71910864,
          5.801801,
          1.7426757,
          -3.2801943,
          4.098228,
          -0.37432536,
          -3.6419537,
          2.7565162,
          6.8026495,
          5.5150623,
          -1.2109433,
          -1.6412271,
          6.8176165,
          3.037118,
          9.989698,
          4.712456,
          4.7109394,
          -3.3565454,
          10.083481,
          7.1232247,
          7.1277165,
          1.9726881,
          0.33962357,
          4.1160975,
          -6.2393317,
          0.48229492,
          -10.104566,
          7.120845,
          -5.945723,
          -0.59484905,
          1.368178,
          -10.0814705,
          -0.37443385,
          -5.9462013,
          1.8656651,
          3.0382304,
          0.94382286,
          1.3727275,
          -10.810557,
          -3.2935612,
          4.104225,
          3.034356,
          -10.414341,
          0.8001268,
          3.7214382,
          -0.37455228,
          0.2471749,
          -7.1651716,
          -8.180369,
          0.7893272,
          4.1172504,
          0.21375938,
          -3.4996018,
          4.12154,
          5.667543,
          4.63386,
          4.4642677,
          1.0440733,
          0.52565646,
          7.1285553,
          -0.7270471,
          -2.293624,
          -8.180338,
          -3.1003928,
          -2.291487,
          -10.649553,
          0.9597231,
          3.9082446,
          0.71507394,
          -3.2689917,
          10.011955,
          5.870653,
          6.8186865,
          3.7161417,
          7.1714306,
          6.8185587,
          9.969696,
          -10.029601,
          -3.2795224,
          -16.66005,
          10.046258,
          -10.030417,
          -0.7580123,
          -3.7252817,
          -10.651532,
          0.9294718,
          3.9050546,
          -1.2327752,
          7.197545,
          6.765704,
          -10.514455,
          -7.0571356,
          4.106488,
          7.179494,
          -3.2078457,
          4.6369863,
          4.0979805,
          -10.099108,
          7.1654034,
          -3.7309363,
          -3.2046628,
          -2.289459,
          1.534105,
          1.3683292,
          9.959109,
          -3.0328598,
          1.7387189,
          -3.4783003,
          -3.3373764,
          -1.6652699,
          -3.7327013,
          -1.2349807,
          -3.5666032,
          -3.0658605,
          -7.008169,
          1.7364203,
          -7.1625557,
          -10.422439,
          2.776612,
          6.834159,
          -4.026464,
          4.4284124,
          0.7699714,
          7.4435334,
          6.7952347,
          -10.103623,
          -0.7503209,
          -3.1754541,
          -7.162861,
          4.614758,
          1.8569695,
          -10.952892,
          1.3672867,
          3.7033212,
          3.03812,
          1.1252795,
          -10.635099,
          0.51533794,
          3.8990176,
          1.3667043,
          -7.0204678,
          1.8053368,
          7.160572,
          3.9095907,
          5.856384,
          -7.1644006,
          -6.387865,
          4.112005,
          -10.638692,
          -0.8651329
         ],
         "y": [
          5.523221,
          4.649454,
          13.569264,
          5.3316956,
          10.884298,
          14.042774,
          -2.475418,
          14.069016,
          -10.355554,
          4.5575633,
          11.6196165,
          12.771614,
          24.071442,
          -8.35655,
          3.8365552,
          7.423077,
          12.324056,
          10.889443,
          8.021633,
          11.614644,
          5.5420475,
          11.613675,
          3.7859435,
          1.752152,
          -9.639412,
          5.0370603,
          3.978067,
          4.5728884,
          21.021189,
          8.980683,
          11.070449,
          9.941637,
          19.87806,
          4.538643,
          -10.046867,
          7.9044833,
          -2.4774835,
          8.171564,
          5.252559,
          5.9934773,
          -2.4772937,
          3.7133136,
          8.754725,
          3.7134373,
          8.073767,
          -10.945583,
          21.021168,
          4.5393963,
          8.959521,
          7.416631,
          -4.399954,
          5.6854596,
          21.021168,
          5.9987636,
          7.9133043,
          13.567675,
          27.606552,
          13.687995,
          21.021223,
          7.91662,
          5.724718,
          27.585806,
          13.603677,
          13.603204,
          11.089766,
          -4.606332,
          13.603855,
          27.584229,
          3.2539854,
          22.89046,
          3.7861207,
          9.003558,
          21.02112,
          5.6312265,
          4.547971,
          13.750813,
          5.329168,
          5.3348255,
          12.632953,
          5.534285,
          -4.6466227,
          12.79777,
          27.535969,
          24.07142,
          13.420305,
          10.881009,
          12.633715,
          -8.350614,
          3.9223306,
          5.219344,
          27.606894,
          7.916302,
          11.602396,
          5.556594,
          11.811148,
          13.604463,
          6.001126,
          8.809108,
          -8.336756,
          7.4112782,
          12.3057995,
          22.894478,
          4.711494,
          12.629143,
          12.796687,
          9.012683,
          8.765075,
          -9.524937,
          -2.4782598,
          27.593134,
          -4.6584396,
          -10.355777,
          4.5186105,
          8.205826,
          5.690675,
          8.814072,
          3.3220527,
          2.225019,
          2.4610863,
          4.716898,
          13.746768,
          6.897194,
          8.098155,
          -4.6782103,
          1.7487527,
          11.616578,
          2.2250047,
          13.664958,
          5.3294697,
          -4.5382743,
          5.6234126,
          -10.828419,
          -10.076276,
          24.071423,
          22.89087,
          11.071967,
          5.1726265,
          3.9351861,
          -11.145877,
          5.6883693,
          3.3460686,
          -8.172816,
          8.763953,
          12.092622,
          13.779776,
          12.241239,
          12.324776,
          -9.549305,
          5.035678,
          8.759714,
          13.657789,
          4.6361074,
          -10.4321165,
          5.32245,
          13.605132,
          12.799776,
          4.5065904,
          10.879537,
          3.7134573,
          24.071543,
          13.715785,
          4.575235,
          12.089336,
          2.5135698,
          4.5736356,
          5.2891126,
          4.7088523,
          5.0420094,
          5.521217,
          12.798964,
          -9.68361,
          1.9267893,
          -2.4780366,
          12.596043,
          -9.584321,
          11.809834,
          5.682376,
          -9.513605,
          4.7054896,
          4.7084136,
          5.6796336,
          5.543895,
          12.103781,
          8.93978,
          5.0560203,
          11.809834,
          27.502533,
          13.542866,
          12.096183,
          13.610613,
          3.1916733,
          8.993294,
          5.684268,
          3.9145718,
          -4.39693,
          11.614613,
          13.566271,
          12.306354,
          2.503723,
          8.153702,
          23.216774,
          10.886794,
          11.471974,
          12.638862,
          11.175232,
          3.9080284,
          1.7486144,
          4.572834,
          23.217169,
          1.9725409,
          21.021574,
          -11.14649,
          7.4197903,
          9.933596,
          5.3472033,
          3.908685,
          8.962617,
          4.5905013,
          8.122694,
          2.2249968,
          -4.6278796,
          13.766677,
          10.886526,
          13.598832,
          -9.649911,
          -10.064047,
          19.878134,
          1.9504219,
          4.5388136,
          5.537511,
          12.638876,
          3.9162788,
          27.605938,
          3.7136235,
          5.9967656,
          7.4236875,
          -4.6556306,
          27.603655,
          -10.742876,
          12.251162,
          -9.624811,
          11.614388,
          -11.0717535,
          3.1951277,
          9.944557,
          13.782175,
          14.139595,
          14.049045,
          7.4223704,
          3.3169098,
          13.880645,
          -9.822707,
          1.9508141,
          2.5100996,
          11.478972,
          23.222742,
          -10.982715,
          -2.4759707,
          10.913473,
          4.555774,
          11.546695,
          2.5062234,
          -9.517899,
          13.782814,
          11.092788,
          12.324183,
          3.914016,
          11.073279,
          4.535955,
          5.505482,
          13.6125345,
          4.5297456,
          1.7694982,
          9.905034,
          8.01346,
          8.818927,
          3.713371,
          13.92704,
          12.763027,
          13.593881,
          8.049816,
          -8.36384,
          11.481703,
          11.820822,
          8.762062,
          8.938873,
          9.910557,
          10.920102,
          -10.998345,
          4.542936,
          9.943965,
          8.072366,
          8.028373,
          3.9254944,
          1.7480167,
          -10.770439,
          3.3369813,
          5.66267,
          12.787745,
          5.3360167,
          5.627066,
          3.7889996,
          11.0943575,
          13.69252,
          5.0495486,
          11.621501,
          13.575596,
          12.258077,
          4.5358486,
          11.072453,
          12.74463,
          12.239869,
          11.483505,
          5.6894207,
          -8.367985,
          2.2249599,
          3.9556608,
          8.95944,
          -9.51992,
          8.937696,
          3.9419134,
          4.537782,
          23.217726,
          13.743254,
          5.663143,
          -11.024822,
          27.524298,
          5.6598477,
          5.0401125,
          1.9687661,
          4.5687757,
          9.903195,
          12.763277,
          11.808177,
          27.60571,
          19.87808,
          -10.378641,
          10.879091,
          5.3196974,
          11.610149,
          8.938667,
          -10.277843,
          12.302493,
          5.5349154,
          10.875754,
          27.602787,
          12.220364,
          4.7148914,
          1.948068,
          8.773227,
          3.7142766,
          -4.633712,
          2.2249851,
          4.5715523,
          3.8156793,
          3.199517,
          2.4931433,
          -4.3900223,
          4.5337424,
          24.071466,
          5.0323677,
          13.614534,
          -4.657673,
          -10.542912,
          10.876731,
          4.5354567,
          -2.4766703,
          12.599511,
          4.055456,
          12.772782,
          5.6815143,
          5.537232,
          9.9497595,
          10.876256,
          11.444195,
          19.878101,
          8.1765375,
          24.071465,
          -11.13853,
          13.569115,
          4.5359206,
          -10.336325,
          -10.8460045,
          -10.048298,
          2.5003784,
          5.4657145,
          9.122366,
          1.9043335,
          12.324557,
          3.713596,
          4.5737834,
          6.897118,
          5.6900268,
          -4.6549964,
          3.958424,
          5.5495677,
          11.6116,
          3.85943,
          12.649548,
          -11.148774,
          22.890858,
          11.211277,
          11.613106,
          13.507737,
          12.796703,
          -8.165405,
          19.878258,
          13.600734,
          8.806108,
          27.60528,
          -10.735149,
          4.5412145,
          8.833019,
          7.9306183,
          9.943561,
          1.9689671,
          9.9025755,
          19.87817,
          3.713668,
          -4.3980823,
          3.2550871,
          4.535796,
          3.8338408,
          9.902442,
          8.174,
          11.622436,
          -8.1668825,
          4.524817,
          5.4763346,
          4.554361,
          1.7493031,
          8.8337145,
          23.214136,
          -9.613069,
          9.149486,
          3.7881835,
          11.4796505,
          11.468864,
          4.720991,
          -2.4771261,
          11.076572,
          4.546963,
          14.087164,
          8.984448,
          13.620805,
          -10.893432,
          12.644178,
          12.798279,
          12.769646,
          7.850947,
          3.2671742,
          5.991539,
          13.723973,
          12.632213,
          23.20919,
          12.596466,
          5.5439143,
          -2.4732924,
          19.878166,
          1.9905534,
          3.9179494,
          27.606453,
          12.797006,
          5.6892166,
          12.772958,
          3.9362388,
          27.604147,
          27.526756,
          8.936473,
          -8.345286,
          4.525465,
          23.21674,
          6.896945,
          8.113305,
          -4.6613574,
          9.022697,
          8.762535,
          2.5076253,
          9.930675,
          9.004789,
          -4.3915167,
          3.3114302,
          -2.4801817,
          -2.4785204,
          7.9136124,
          3.2168906,
          3.797424,
          3.7941325,
          21.021286,
          -11.025438,
          12.631419,
          2.2250295,
          -10.854374,
          5.3331447,
          8.800756,
          12.795996,
          4.572901,
          4.7135415,
          5.312575,
          6.897226,
          12.79547,
          -8.171822,
          -4.390374,
          -10.036187,
          4.7078743,
          12.112991,
          4.545468,
          23.225138,
          -4.393851,
          5.5181627,
          27.606737,
          11.064723,
          6.8968744,
          -11.130124,
          12.766196,
          19.878147,
          27.595984,
          12.633016,
          4.5358653,
          3.9120953,
          12.642718,
          8.861759,
          14.1001625,
          13.757572,
          -9.759478,
          -10.79768,
          4.5272098,
          1.9441074,
          7.4240212,
          19.87812,
          5.3844323,
          7.424437,
          11.810119,
          -9.991599,
          12.242586,
          27.522688,
          4.686226,
          3.2893763,
          8.937192,
          8.996963,
          11.089134,
          3.7729218,
          3.854078,
          3.3297913,
          10.879956,
          4.64699,
          11.620057,
          3.2551308,
          10.880935,
          1.9719267,
          8.172373,
          11.815014,
          -10.069371,
          12.234522,
          2.529875,
          5.1621785,
          3.8927116,
          11.47366,
          13.540714,
          12.619147,
          8.758941,
          5.0368924,
          14.107408,
          23.216415,
          5.3290143,
          3.7827046,
          8.175075,
          5.0273447,
          7.422411,
          5.6156363,
          4.713851,
          3.3405027,
          5.544836,
          -8.351376,
          3.9380894,
          7.900654,
          9.907022,
          8.176475,
          2.5314984,
          8.052251,
          5.4867268,
          13.610864,
          -8.3549385,
          12.774954,
          5.5238347,
          -4.642191,
          8.959219,
          24.071512,
          13.6870775,
          27.576618,
          5.6223764,
          3.8702753,
          5.3319716,
          1.966048,
          5.096339,
          12.7704315,
          14.059513,
          -8.182964,
          12.324636,
          4.7171884,
          11.092912,
          -4.390485,
          -9.599709,
          5.6819553,
          -10.811048,
          22.890818,
          4.7160745,
          13.591087,
          5.992614,
          3.7902367,
          12.246229,
          8.94945,
          12.758593,
          3.7136226,
          12.623045,
          5.684668,
          7.065456
         ]
        },
        {
         "hoverinfo": "text",
         "marker": {
          "opacity": 0.5,
          "size": 5
         },
         "mode": "markers+text",
         "name": "1_女人_长得_steam",
         "text": [
          "",
          "",
          "",
          "",
          "",
          "",
          "",
          "",
          "",
          "",
          "",
          "",
          "",
          "",
          "",
          "",
          "",
          "",
          "",
          "",
          "",
          "",
          "",
          "",
          "",
          "",
          "",
          "",
          "",
          "",
          "",
          "",
          "",
          "",
          "",
          "",
          "",
          "",
          "",
          "",
          "",
          "",
          "",
          "",
          "",
          "",
          "",
          "",
          "",
          "",
          "",
          "",
          "",
          "",
          "",
          "",
          "",
          "",
          "",
          "",
          "",
          "",
          "",
          "",
          "",
          "",
          "",
          "",
          "",
          "",
          "",
          "",
          "",
          "",
          "",
          "",
          "",
          "",
          "",
          "",
          "",
          "",
          "",
          "",
          "",
          "",
          "",
          "",
          "",
          "",
          "",
          "",
          "",
          "",
          "",
          "",
          "",
          "",
          "",
          "",
          "",
          "",
          "",
          "",
          "",
          "",
          "",
          "",
          "",
          "",
          "",
          "",
          "",
          "",
          "",
          "",
          "",
          "",
          "",
          "",
          "",
          "",
          "",
          "",
          "",
          "",
          "",
          "",
          "",
          "",
          "",
          "",
          "",
          "",
          "",
          "",
          "",
          "",
          "",
          "",
          "",
          "",
          "",
          "",
          "",
          "1_女人_长得_steam"
         ],
         "textfont": {
          "size": 12
         },
         "type": "scattergl",
         "x": [
          -0.8074429,
          -2.7631583,
          -3.0518372,
          11.776077,
          2.801887,
          -9.170005,
          11.777167,
          9.581059,
          -2.7099295,
          -17.11819,
          9.585789,
          -17.423779,
          -17.081675,
          -2.793997,
          -17.413437,
          -17.138052,
          -2.7036185,
          -3.0775273,
          -2.7029736,
          10.860497,
          -9.169992,
          -2.7591429,
          -3.0518339,
          -2.7526393,
          11.77401,
          -2.7830777,
          -2.7925322,
          8.617094,
          8.626479,
          -17.078297,
          9.53073,
          9.580615,
          9.446333,
          11.776034,
          8.623181,
          -17.411266,
          -2.7690816,
          -3.0277295,
          -3.0509062,
          -3.0182593,
          -2.7045105,
          -2.7728987,
          -0.8073889,
          8.61789,
          9.552085,
          10.860464,
          -2.7882488,
          9.552004,
          -9.170011,
          -2.8206341,
          -2.7034512,
          -17.13986,
          9.5517025,
          -2.7931082,
          -17.057205,
          -2.7917237,
          -17.07483,
          -2.745764,
          -17.078585,
          -0.80739325,
          9.577968,
          -2.804266,
          8.62001,
          -2.776279,
          8.617528,
          11.774342,
          -2.7425704,
          9.548919,
          2.801835,
          2.8017094,
          -9.170018,
          2.8016877,
          -2.818441,
          9.559812,
          11.774542,
          -17.441378,
          -9.170003,
          -2.7956045,
          11.774748,
          8.621176,
          -3.058465,
          -9.170032,
          8.642934,
          2.801745,
          -17.427673,
          9.578073,
          -0.8070138,
          -2.8139741,
          11.776285,
          -17.383085,
          -2.7039926,
          11.775073,
          -17.385689,
          -17.426321,
          10.860465,
          11.774524,
          8.618818,
          8.603368,
          -2.7970605,
          2.801466,
          -9.169989,
          -3.0529435,
          9.588868,
          2.8014603,
          -2.7946727,
          -17.106241,
          -9.170035,
          -3.0503244,
          9.436419,
          -2.751497,
          8.6217,
          -2.77406,
          -2.7929084,
          -2.7726793,
          9.586466,
          9.522156,
          11.775587,
          -2.7634864,
          11.774555,
          2.800858,
          -17.427788,
          10.860474,
          8.618814,
          9.566412,
          -17.092285,
          9.469351,
          -0.80698216,
          9.534354,
          9.566401,
          -9.170008,
          10.86057,
          8.6167145,
          -2.7927039,
          -2.7926774,
          -17.416292,
          8.616999,
          9.58125,
          -2.7721245,
          10.8605585,
          -2.7049158,
          -17.42635,
          -3.0552466,
          -2.7959223,
          -17.409115,
          -2.7730317,
          -0.35961404
         ],
         "y": [
          -7.503485,
          -5.6347523,
          -7.3473015,
          -4.1289725,
          -1.2177942,
          1.224572,
          -4.1254106,
          -6.689789,
          -5.402687,
          -3.36118,
          -6.6847906,
          -3.4774547,
          -3.3388383,
          -6.82027,
          -3.4737694,
          -3.369568,
          -5.3778934,
          -7.363509,
          -5.3751454,
          5.516223,
          1.2245597,
          -6.7407126,
          -7.3468513,
          -5.637772,
          -4.1312428,
          -5.769508,
          -6.1295657,
          -7.8417635,
          -7.8306317,
          -3.33703,
          -6.74169,
          -6.689978,
          -6.8367596,
          -4.128631,
          -7.8352413,
          -3.4729652,
          -6.575407,
          -7.318784,
          -7.3446217,
          -7.279712,
          -5.3813725,
          -6.6120114,
          -7.503557,
          -7.8407226,
          -6.719714,
          5.51621,
          -6.239009,
          -6.724287,
          1.2245779,
          -6.8726583,
          -5.3771853,
          -3.3704832,
          -6.7208176,
          -6.1353674,
          -3.3143165,
          -6.1566215,
          -3.3344135,
          -5.5501075,
          -3.3364139,
          -7.5035706,
          -6.6929116,
          -6.8449063,
          -7.838479,
          -6.793272,
          -7.8412547,
          -4.1308,
          -6.768669,
          -6.7240443,
          -1.2178041,
          -1.2177259,
          1.2245784,
          -1.2177147,
          -6.8549604,
          -6.7114334,
          -4.1308274,
          -3.49228,
          1.2245591,
          -6.829858,
          -4.1308055,
          -7.8369412,
          -7.3548284,
          1.2245224,
          -7.8138533,
          -1.217741,
          -3.4791293,
          -6.6931334,
          -7.503627,
          -6.8512106,
          -4.1306243,
          -3.462474,
          -5.3792744,
          -4.131211,
          -3.4634147,
          -3.4786828,
          5.5162253,
          -4.130961,
          -7.8398285,
          -7.855602,
          -6.8342047,
          -1.2176932,
          1.2245669,
          -7.3484197,
          -6.6820726,
          -1.2176764,
          -6.826893,
          -3.3527722,
          1.2245247,
          -7.3451476,
          -6.848745,
          -6.7371073,
          -7.836564,
          -5.694455,
          -6.1323733,
          -6.582266,
          -6.684397,
          -6.752828,
          -4.129341,
          -5.6306367,
          -4.1309195,
          -1.2175268,
          -3.4792535,
          5.516207,
          -7.839924,
          -6.7052755,
          -3.3470905,
          -6.8115907,
          -7.503659,
          -6.739154,
          -6.704603,
          1.2245079,
          5.5162344,
          -7.842267,
          -6.133929,
          -6.1211047,
          -3.4748776,
          -7.8420005,
          -6.689955,
          -5.685086,
          5.516258,
          -5.3832607,
          -3.4788132,
          -7.352551,
          -6.8295884,
          -3.4721496,
          -5.6876817,
          -4.735461
         ]
        },
        {
         "hoverinfo": "text",
         "marker": {
          "opacity": 0.5,
          "size": 5
         },
         "mode": "markers+text",
         "name": "2_女权_权益_迎合",
         "text": [
          "",
          "",
          "",
          "",
          "",
          "",
          "",
          "",
          "",
          "",
          "",
          "",
          "",
          "",
          "",
          "",
          "",
          "",
          "",
          "",
          "",
          "",
          "",
          "",
          "",
          "",
          "",
          "",
          "",
          "",
          "",
          "",
          "",
          "",
          "",
          "",
          "",
          "",
          "",
          "",
          "",
          "",
          "",
          "",
          "",
          "",
          "",
          "",
          "",
          "",
          "",
          "",
          "",
          "",
          "",
          "",
          "",
          "",
          "",
          "",
          "",
          "",
          "",
          "",
          "",
          "2_女权_权益_迎合"
         ],
         "textfont": {
          "size": 12
         },
         "type": "scattergl",
         "x": [
          13.1197405,
          12.912094,
          13.06716,
          12.863349,
          0.5715062,
          13.014437,
          22.007542,
          22.029789,
          21.99717,
          12.875799,
          22.02139,
          12.900067,
          14.450925,
          14.450846,
          12.882898,
          13.02763,
          12.857583,
          13.0050955,
          13.109314,
          22.023092,
          12.900914,
          0.5722069,
          22.027819,
          19.60671,
          13.098206,
          12.852308,
          22.029581,
          12.903483,
          22.020498,
          22.027979,
          12.901308,
          13.006715,
          13.02802,
          13.12152,
          13.122102,
          14.450759,
          13.086019,
          12.90499,
          0.57099026,
          22.029531,
          12.931694,
          0.56485265,
          13.006566,
          22.026495,
          0.57170093,
          12.876274,
          12.889323,
          12.981673,
          13.121423,
          13.067999,
          12.897068,
          14.450838,
          13.110295,
          12.828617,
          13.003379,
          13.077593,
          12.892689,
          22.029787,
          13.11802,
          14.450841,
          12.910523,
          12.855647,
          0.5706615,
          12.981754,
          12.8583555,
          13.71574
         ],
         "y": [
          11.882747,
          10.791981,
          11.770852,
          10.801411,
          -0.9222894,
          11.608339,
          14.730996,
          14.753185,
          14.720599,
          10.775416,
          14.744721,
          10.792644,
          -3.027788,
          -3.0278375,
          10.819101,
          11.624069,
          10.868997,
          11.587467,
          11.866831,
          14.746534,
          10.7904,
          -0.92384505,
          14.751256,
          13.208478,
          11.848124,
          10.877418,
          14.752988,
          10.791404,
          14.74379,
          14.751383,
          10.790318,
          11.601276,
          11.652558,
          11.88656,
          11.888057,
          -3.0278342,
          11.814794,
          10.793498,
          -0.9208709,
          14.7529335,
          10.789747,
          -0.9097122,
          11.60114,
          14.749808,
          -0.92255616,
          10.823648,
          10.843908,
          11.553436,
          11.886892,
          11.789708,
          10.797868,
          -3.027864,
          11.868024,
          10.917091,
          11.590063,
          11.799419,
          10.794591,
          14.753188,
          11.879354,
          -3.027854,
          10.782852,
          10.878394,
          -0.9206507,
          11.556508,
          10.872579,
          9.730004
         ]
        },
        {
         "hoverinfo": "text",
         "marker": {
          "opacity": 0.5,
          "size": 5
         },
         "mode": "markers+text",
         "name": "3_性别歧视_发布_媒体",
         "text": [
          "",
          "",
          "",
          "",
          "",
          "",
          "",
          "",
          "",
          "",
          "",
          "",
          "",
          "",
          "",
          "",
          "",
          "",
          "",
          "",
          "",
          "",
          "",
          "",
          "",
          "",
          "",
          "",
          "",
          "",
          "",
          "",
          "",
          "",
          "",
          "",
          "",
          "",
          "",
          "",
          "",
          "",
          "",
          "",
          "",
          "",
          "",
          "",
          "",
          "",
          "",
          "",
          "",
          "",
          "",
          "",
          "",
          "",
          "",
          "",
          "",
          "",
          "",
          "3_性别歧视_发布_媒体"
         ],
         "textfont": {
          "size": 12
         },
         "type": "scattergl",
         "x": [
          15.628046,
          14.967807,
          14.399458,
          14.712025,
          15.509231,
          23.751123,
          -8.657186,
          14.393687,
          14.845983,
          15.543238,
          14.996362,
          16.229364,
          -8.657839,
          -8.658871,
          -8.65706,
          -8.656659,
          23.751097,
          23.751104,
          -8.658094,
          23.751114,
          14.391513,
          -8.656298,
          14.770533,
          23.751144,
          16.229336,
          16.229315,
          15.542703,
          15.62828,
          14.684242,
          14.712896,
          15.016163,
          14.417878,
          16.229374,
          14.748859,
          23.751173,
          14.401979,
          15.63019,
          14.729704,
          14.398432,
          15.631674,
          14.388553,
          16.229542,
          14.822935,
          -8.656679,
          14.400441,
          14.9944105,
          16.229488,
          23.751204,
          -8.658167,
          14.692907,
          -8.655693,
          -8.651781,
          16.229506,
          15.556899,
          14.802249,
          -8.657148,
          -8.657724,
          -8.654797,
          15.001101,
          15.626994,
          15.640707,
          -8.657736,
          14.392256,
          10.444961
         ],
         "y": [
          6.731244,
          6.957438,
          6.867501,
          7.0104895,
          6.781418,
          6.9932942,
          7.193321,
          6.864599,
          6.9900312,
          6.770177,
          6.940888,
          20.059765,
          7.192825,
          7.1926236,
          7.193504,
          7.193634,
          6.9932876,
          6.993294,
          7.1927414,
          6.993289,
          6.8637476,
          7.1940536,
          7.0085173,
          6.9932895,
          20.059748,
          20.059723,
          6.7707477,
          6.7308598,
          6.9994636,
          7.0115867,
          6.9348707,
          6.875674,
          20.059753,
          7.017677,
          6.9932747,
          6.8698564,
          6.7299614,
          7.0163217,
          6.866884,
          6.7292314,
          6.863398,
          20.05982,
          6.994841,
          7.193846,
          6.868059,
          6.941987,
          20.059813,
          6.993283,
          7.1926637,
          7.0109754,
          7.1943903,
          7.196966,
          20.059912,
          6.7643976,
          6.9993463,
          7.19338,
          7.1930337,
          7.195014,
          6.9414034,
          6.7313266,
          6.7188644,
          7.1933126,
          6.864145,
          8.433568
         ]
        },
        {
         "hoverinfo": "text",
         "marker": {
          "opacity": 0.5,
          "size": 5
         },
         "mode": "markers+text",
         "name": "4_网友_美女_男性",
         "text": [
          "",
          "",
          "",
          "",
          "",
          "",
          "",
          "",
          "",
          "",
          "",
          "",
          "",
          "",
          "",
          "",
          "",
          "",
          "",
          "",
          "",
          "",
          "",
          "",
          "",
          "",
          "",
          "",
          "",
          "",
          "",
          "",
          "",
          "",
          "",
          "",
          "",
          "",
          "",
          "",
          "",
          "",
          "",
          "",
          "",
          "",
          "",
          "",
          "",
          "",
          "",
          "",
          "",
          "",
          "",
          "",
          "4_网友_美女_男性"
         ],
         "textfont": {
          "size": 12
         },
         "type": "scattergl",
         "x": [
          16.922289,
          17.00145,
          16.741623,
          16.85932,
          16.938725,
          16.926332,
          16.814703,
          16.896814,
          16.739529,
          17.078125,
          17.314482,
          16.90939,
          17.05131,
          17.172531,
          17.027344,
          16.926592,
          17.258883,
          16.804129,
          17.010036,
          17.086092,
          16.828293,
          17.023804,
          16.922356,
          16.903408,
          17.061647,
          16.741283,
          16.777405,
          17.07129,
          16.92337,
          17.080908,
          16.796955,
          17.295925,
          17.110493,
          17.168991,
          16.912296,
          17.267532,
          17.081018,
          17.176653,
          16.898474,
          16.909866,
          16.81457,
          17.32132,
          16.899574,
          16.934868,
          17.333763,
          17.090628,
          16.983883,
          16.725191,
          16.735481,
          16.93609,
          17.01791,
          16.940111,
          17.087936,
          16.729122,
          17.305305,
          17.32502,
          16.993078
         ],
         "y": [
          -2.6871974,
          -2.6124253,
          -2.9383605,
          -2.7850428,
          -2.6686938,
          -2.6799717,
          -2.8442113,
          -2.7315137,
          -2.9410932,
          -2.5485828,
          -2.2851613,
          -2.7430303,
          -2.5354245,
          -2.4319625,
          -2.5665214,
          -2.6840434,
          -2.342886,
          -2.8591983,
          -2.6099489,
          -2.5035691,
          -2.8215556,
          -2.566459,
          -2.6869237,
          -2.7103043,
          -2.526544,
          -2.9381478,
          -2.8885353,
          -2.5133672,
          -2.6837962,
          -2.507236,
          -2.8616815,
          -2.3048606,
          -2.4725614,
          -2.4333115,
          -2.6977108,
          -2.33436,
          -2.5020337,
          -2.4312847,
          -2.7160027,
          -2.7026305,
          -2.8481846,
          -2.2781577,
          -2.7116375,
          -2.7151613,
          -2.2648954,
          -2.496043,
          -2.654643,
          -2.9544017,
          -2.9452546,
          -2.7163134,
          -2.5741541,
          -2.7195797,
          -2.4953315,
          -2.9546616,
          -2.2940247,
          -2.2744935,
          -2.6284835
         ]
        },
        {
         "hoverinfo": "text",
         "marker": {
          "opacity": 0.5,
          "size": 5
         },
         "mode": "markers+text",
         "name": "5_观点_报道_冯骥",
         "text": [
          "",
          "",
          "",
          "",
          "",
          "",
          "",
          "",
          "",
          "",
          "",
          "",
          "",
          "",
          "",
          "",
          "",
          "",
          "",
          "",
          "",
          "",
          "",
          "",
          "",
          "",
          "",
          "",
          "",
          "",
          "",
          "",
          "",
          "",
          "",
          "",
          "",
          "",
          "",
          "",
          "",
          "",
          "",
          "",
          "",
          "",
          "",
          "",
          "",
          "",
          "",
          "",
          "",
          "",
          "",
          "5_观点_报道_冯骥"
         ],
         "textfont": {
          "size": 12
         },
         "type": "scattergl",
         "x": [
          -8.874287,
          -12.569873,
          -8.874287,
          -12.598054,
          -13.547857,
          -13.040532,
          -8.874355,
          -13.001413,
          -13.585277,
          -13.518548,
          -12.4249,
          -12.480092,
          -13.577977,
          -8.874411,
          -12.625255,
          -13.564688,
          -12.427979,
          -13.415491,
          -13.636122,
          -13.6321745,
          -12.427401,
          -13.633828,
          -13.061992,
          -13.247094,
          -13.631524,
          -13.023828,
          -12.595455,
          -12.426607,
          -13.661897,
          -12.440196,
          -13.003608,
          -13.340552,
          -12.434915,
          -13.561905,
          -13.310182,
          -8.87442,
          -12.591252,
          -12.484259,
          -13.358357,
          -13.021159,
          -12.565229,
          -12.59871,
          -13.291788,
          -12.4154215,
          -12.431862,
          -13.006039,
          -13.593303,
          -13.31586,
          -12.599516,
          -13.035692,
          -13.346993,
          -13.004354,
          -12.426549,
          -13.004348,
          -13.351368,
          -12.64111
         ],
         "y": [
          -5.5550313,
          0.57976055,
          -5.555027,
          0.6084054,
          4.503158,
          4.77606,
          -5.555076,
          4.8041463,
          4.47456,
          4.5132127,
          0.43010914,
          0.4863282,
          4.480252,
          -5.555095,
          0.6359369,
          4.48865,
          0.43319982,
          4.556264,
          4.434112,
          4.4414897,
          0.43255177,
          4.4373517,
          4.758349,
          4.6478367,
          4.439931,
          4.786633,
          0.6056184,
          0.43173563,
          4.4090395,
          0.4455111,
          4.8025494,
          4.588546,
          0.4402767,
          4.489732,
          4.610195,
          -5.5551167,
          0.6009601,
          0.49049628,
          4.57664,
          4.788995,
          0.57400507,
          0.609019,
          4.625108,
          0.42018807,
          0.43714902,
          4.803206,
          4.467483,
          4.6066275,
          0.6097349,
          4.7791786,
          4.586117,
          4.8019543,
          0.43166578,
          4.8019705,
          4.5826263,
          2.268896
         ]
        },
        {
         "hoverinfo": "text",
         "marker": {
          "opacity": 0.5,
          "size": 5
         },
         "mode": "markers+text",
         "name": "6_豆瓣_女拳_四处",
         "text": [
          "",
          "",
          "",
          "",
          "",
          "",
          "",
          "",
          "",
          "",
          "",
          "",
          "",
          "",
          "",
          "",
          "",
          "",
          "",
          "",
          "",
          "",
          "",
          "",
          "",
          "",
          "",
          "",
          "",
          "",
          "",
          "",
          "",
          "",
          "",
          "",
          "",
          "",
          "",
          "",
          "",
          "",
          "",
          "",
          "",
          "",
          "",
          "",
          "",
          "6_豆瓣_女拳_四处"
         ],
         "textfont": {
          "size": 12
         },
         "type": "scattergl",
         "x": [
          -1.2187653,
          -2.4053462,
          -1.8746939,
          -2.6924999,
          -2.623173,
          -1.8816323,
          -1.9344908,
          -1.8626955,
          -1.2486876,
          -1.2332383,
          -0.7892092,
          -2.4359426,
          -0.7975977,
          -1.044007,
          -1.2514938,
          -1.6443638,
          -1.8773419,
          -1.9246942,
          -1.2440428,
          -0.7794308,
          -2.4594972,
          -2.6884367,
          -1.0680258,
          -1.5137125,
          -0.7736687,
          -1.6405344,
          -1.2417666,
          -0.9965067,
          -2.6817493,
          -1.2414333,
          -2.6859794,
          -2.6879857,
          -1.404043,
          -1.3497263,
          -0.9953617,
          -2.445232,
          -2.479544,
          -0.79541415,
          -2.687948,
          -2.6880355,
          -0.7846104,
          -1.6207142,
          -1.6425921,
          -0.91669106,
          -0.86289763,
          -1.9143555,
          -1.6332337,
          -2.4370935,
          -1.9325777,
          -1.6945451
         ],
         "y": [
          21.388046,
          21.541046,
          21.51903,
          21.640114,
          21.614801,
          21.520271,
          21.529598,
          21.51638,
          21.387129,
          21.390165,
          21.495218,
          21.54432,
          21.491276,
          21.41952,
          21.387896,
          21.476297,
          21.513838,
          21.52855,
          21.386503,
          21.505919,
          21.55008,
          21.638025,
          21.413918,
          21.444017,
          21.49918,
          21.47548,
          21.387262,
          21.426239,
          21.635765,
          21.38504,
          21.637156,
          21.637981,
          21.416939,
          21.404161,
          21.429586,
          21.546913,
          21.568165,
          21.492374,
          21.637949,
          21.637882,
          21.499846,
          21.470583,
          21.475653,
          21.441587,
          21.464159,
          21.526056,
          21.473455,
          21.543894,
          21.528662,
          21.499674
         ]
        },
        {
         "hoverinfo": "text",
         "marker": {
          "opacity": 0.5,
          "size": 5
         },
         "mode": "markers+text",
         "name": "7_猴子_水平_恶心",
         "text": [
          "",
          "",
          "",
          "",
          "",
          "",
          "",
          "",
          "",
          "",
          "",
          "",
          "",
          "",
          "",
          "",
          "",
          "",
          "",
          "",
          "",
          "",
          "",
          "",
          "",
          "",
          "",
          "",
          "",
          "",
          "",
          "",
          "",
          "",
          "",
          "",
          "",
          "",
          "",
          "",
          "",
          "",
          "",
          "",
          "",
          "",
          "",
          "",
          "7_猴子_水平_恶心"
         ],
         "textfont": {
          "size": 12
         },
         "type": "scattergl",
         "x": [
          6.083255,
          8.843608,
          8.805946,
          16.323475,
          16.324213,
          16.324419,
          8.82078,
          13.549158,
          6.106503,
          6.107569,
          8.844766,
          16.325071,
          6.087496,
          6.1193023,
          6.1046915,
          8.848872,
          13.549155,
          6.08926,
          8.842113,
          8.841875,
          8.847921,
          13.549138,
          8.845215,
          8.840614,
          6.0803947,
          13.549139,
          6.1021676,
          8.830369,
          13.549168,
          13.549177,
          16.32439,
          8.853886,
          13.549165,
          13.549152,
          8.8143835,
          6.089067,
          13.549289,
          6.106287,
          16.320156,
          16.343178,
          8.84499,
          8.832181,
          8.822511,
          6.107026,
          9.175864,
          16.32581,
          8.845862,
          13.549208,
          10.3893175
         ],
         "y": [
          22.809418,
          22.0032,
          21.965754,
          18.350727,
          18.350393,
          18.350101,
          21.98056,
          3.6778188,
          22.78697,
          22.786034,
          22.00441,
          18.3492,
          22.805195,
          22.7747,
          22.788935,
          22.00846,
          3.6777873,
          22.803606,
          22.001844,
          22.001446,
          22.007532,
          3.677775,
          22.004816,
          22.000223,
          22.813047,
          3.6778152,
          22.790874,
          21.989473,
          3.6777968,
          3.6778214,
          18.349972,
          22.01338,
          3.6778016,
          3.6778114,
          21.97404,
          22.803717,
          3.6777298,
          22.787275,
          18.352964,
          18.333117,
          22.004658,
          21.992048,
          21.982134,
          22.78657,
          0.000998931,
          18.348782,
          22.005537,
          3.6777935,
          17.313334
         ]
        },
        {
         "hoverinfo": "text",
         "marker": {
          "opacity": 0.5,
          "size": 5
         },
         "mode": "markers+text",
         "name": "8_黑神话_屁股_黑猴",
         "text": [
          "",
          "",
          "",
          "",
          "",
          "",
          "",
          "",
          "",
          "",
          "",
          "",
          "",
          "",
          "",
          "",
          "",
          "",
          "",
          "",
          "",
          "",
          "",
          "",
          "",
          "",
          "",
          "",
          "",
          "",
          "",
          "",
          "",
          "",
          "",
          "",
          "",
          "",
          "",
          "",
          "",
          "",
          "",
          "",
          "",
          "",
          "",
          "",
          "8_黑神话_屁股_黑猴"
         ],
         "textfont": {
          "size": 12
         },
         "type": "scattergl",
         "x": [
          7.990351,
          8.0513935,
          8.01734,
          8.017099,
          8.010384,
          7.9920187,
          0.82799184,
          0.8245333,
          7.984205,
          0.82704455,
          0.8068285,
          7.845863,
          0.815829,
          8.266857,
          0.8292935,
          8.001023,
          6.99969,
          0.7584871,
          7.9932623,
          7.9862795,
          8.019203,
          6.994471,
          8.012704,
          0.8317559,
          7.8500366,
          9.125458,
          7.8515005,
          8.042795,
          0.83985716,
          0.83007896,
          8.020344,
          8.029829,
          0.75562006,
          0.81625086,
          8.248193,
          7.9202585,
          7.988521,
          7.001182,
          7.9952025,
          7.000132,
          7.9214196,
          7.8523808,
          7.858071,
          6.979246,
          7.996774,
          7.8557262,
          6.957903,
          8.017883,
          6.0928874
         ],
         "y": [
          -1.6903578,
          -0.70435315,
          -1.2676837,
          -1.2742323,
          -1.3937863,
          -1.6854004,
          8.527128,
          8.524014,
          -1.7168118,
          8.526453,
          8.505816,
          -1.9275429,
          8.515434,
          -0.9391319,
          8.527233,
          -1.6954381,
          9.37046,
          8.455622,
          -1.6819495,
          -1.7116214,
          -1.2783377,
          9.367109,
          -1.31792,
          8.5310135,
          -1.9187871,
          -0.04142374,
          -1.9170069,
          -0.92494595,
          8.53857,
          8.528032,
          -1.247934,
          -1.2662008,
          8.452535,
          8.515831,
          -0.9360595,
          -0.5650228,
          -1.7063428,
          9.378784,
          -1.687482,
          9.378513,
          -0.56673014,
          -1.9160069,
          -1.9081923,
          9.358711,
          -1.5917693,
          -1.9109688,
          9.275063,
          -1.2904751,
          2.429092
         ]
        },
        {
         "hoverinfo": "text",
         "marker": {
          "opacity": 0.5,
          "size": 5
         },
         "mode": "markers+text",
         "name": "9_ign_指责_策划",
         "text": [
          "",
          "",
          "",
          "",
          "",
          "",
          "",
          "",
          "",
          "",
          "",
          "",
          "",
          "",
          "",
          "",
          "",
          "",
          "",
          "",
          "",
          "",
          "",
          "",
          "",
          "",
          "",
          "",
          "",
          "",
          "",
          "",
          "",
          "",
          "",
          "",
          "",
          "",
          "",
          "",
          "",
          "",
          "",
          "",
          "",
          "9_ign_指责_策划"
         ],
         "textfont": {
          "size": 12
         },
         "type": "scattergl",
         "x": [
          14.919899,
          20.731058,
          14.880315,
          20.72969,
          13.111895,
          14.853651,
          14.930449,
          20.731718,
          14.903547,
          14.896254,
          14.909186,
          14.926947,
          14.257509,
          20.740942,
          13.11188,
          14.925551,
          14.851539,
          14.843609,
          14.850194,
          14.92238,
          13.111865,
          14.25844,
          20.73205,
          20.74088,
          13.111852,
          14.92537,
          20.731035,
          14.877813,
          14.931839,
          14.257402,
          14.257716,
          14.93286,
          14.257671,
          14.257446,
          13.11188,
          14.257355,
          14.9035635,
          13.111949,
          14.906433,
          20.730455,
          14.854656,
          20.73038,
          14.257519,
          20.735903,
          13.111856,
          15.802766
         ],
         "y": [
          -7.45796,
          9.617891,
          -7.4152703,
          9.6178875,
          -5.6640143,
          -7.3882055,
          -7.4720297,
          9.617874,
          -7.438717,
          -7.4312234,
          -7.444241,
          -7.4639378,
          -8.942218,
          9.617331,
          -5.6640244,
          -7.467076,
          -7.3856754,
          -7.377614,
          -7.3842573,
          -7.458172,
          -5.6640124,
          -8.940205,
          9.617914,
          9.617496,
          -5.664005,
          -7.466604,
          9.617851,
          -7.4114017,
          -7.478128,
          -8.942407,
          -8.941886,
          -7.4884577,
          -8.941891,
          -8.942413,
          -5.6639957,
          -8.942619,
          -7.4340377,
          -5.66403,
          -7.441609,
          9.617868,
          -7.388886,
          9.617875,
          -8.942267,
          9.617714,
          -5.6639895,
          -3.637773
         ]
        },
        {
         "hoverinfo": "text",
         "marker": {
          "opacity": 0.5,
          "size": 5
         },
         "mode": "markers+text",
         "name": "10_爱国_为啥_营销",
         "text": [
          "",
          "",
          "",
          "",
          "",
          "",
          "",
          "",
          "",
          "",
          "",
          "",
          "",
          "",
          "",
          "",
          "",
          "",
          "",
          "",
          "",
          "",
          "",
          "",
          "",
          "",
          "",
          "",
          "",
          "",
          "",
          "",
          "",
          "",
          "",
          "",
          "",
          "",
          "",
          "",
          "",
          "",
          "",
          "",
          "",
          "10_爱国_为啥_营销"
         ],
         "textfont": {
          "size": 12
         },
         "type": "scattergl",
         "x": [
          -0.3976296,
          11.630354,
          11.504583,
          11.623111,
          12.1972065,
          12.256863,
          19.352568,
          19.352654,
          11.605369,
          11.15593,
          19.352571,
          11.156138,
          12.256245,
          11.156983,
          11.629447,
          19.352606,
          11.156443,
          11.598389,
          -6.239248,
          11.56456,
          12.065063,
          12.253848,
          12.258136,
          12.258238,
          11.619262,
          12.013667,
          12.269211,
          11.562078,
          12.064998,
          11.605865,
          11.154969,
          11.649707,
          12.257707,
          11.616067,
          11.597632,
          11.569561,
          19.3526,
          12.258729,
          12.030254,
          19.352652,
          12.258844,
          12.264926,
          12.035501,
          11.157378,
          19.352615,
          12.292102
         ],
         "y": [
          1.7478585,
          -1.7520727,
          -1.8289794,
          -1.7590222,
          -1.2422264,
          -1.1821791,
          1.8323176,
          1.8324454,
          -1.7708505,
          -1.9274744,
          1.8322748,
          -1.9275274,
          -1.1828557,
          -1.9273529,
          -1.7516364,
          1.8322963,
          -1.9276022,
          -1.7761629,
          2.2250214,
          -1.798854,
          -1.3728044,
          -1.1848534,
          -1.1809982,
          -1.1811062,
          -1.7612284,
          -1.4218838,
          -1.169862,
          -1.8001595,
          -1.3734492,
          -1.7709479,
          -1.9281534,
          -1.7353458,
          -1.1814312,
          -1.762952,
          -1.7767991,
          -1.7959168,
          1.8323239,
          -1.1802856,
          -1.4064136,
          1.8323017,
          -1.1802485,
          -1.1740322,
          -1.4018282,
          -1.9272709,
          1.8323324,
          -0.88052446
         ]
        },
        {
         "hoverinfo": "text",
         "marker": {
          "opacity": 0.5,
          "size": 5
         },
         "mode": "markers+text",
         "name": "11_态度_联动_抵制",
         "text": [
          "",
          "",
          "",
          "",
          "",
          "",
          "",
          "",
          "",
          "",
          "",
          "",
          "",
          "",
          "",
          "",
          "",
          "",
          "",
          "",
          "",
          "",
          "",
          "",
          "",
          "",
          "",
          "",
          "",
          "",
          "",
          "",
          "",
          "",
          "",
          "",
          "",
          "",
          "",
          "",
          "",
          "",
          "",
          "11_态度_联动_抵制"
         ],
         "textfont": {
          "size": 12
         },
         "type": "scattergl",
         "x": [
          -2.527497,
          -2.1073003,
          -2.54368,
          -2.1260035,
          -2.482434,
          -2.5369713,
          -2.2169104,
          -2.1869605,
          -2.212093,
          -2.1354926,
          -2.5353682,
          -2.240161,
          -2.5405803,
          -2.525903,
          -2.519421,
          -2.114314,
          -2.2312334,
          -2.1922164,
          -2.466165,
          -2.4959455,
          -2.510951,
          -2.0936382,
          -2.3173192,
          -2.1021488,
          -2.3980598,
          -2.2313688,
          -2.273701,
          -2.4025397,
          -2.2095115,
          -2.471986,
          -2.2283487,
          -2.3977146,
          -2.5171316,
          -2.4706824,
          -2.09268,
          -2.399054,
          -2.273881,
          -2.5144174,
          -2.2570753,
          -2.536097,
          -2.4660304,
          -2.1364932,
          -2.4018168,
          -2.3404489
         ],
         "y": [
          15.833226,
          17.21475,
          15.806554,
          17.191862,
          15.980548,
          15.818058,
          17.045874,
          17.086555,
          17.04298,
          17.168,
          15.860785,
          16.993664,
          15.812981,
          15.831256,
          15.838886,
          17.209597,
          17.01194,
          17.083902,
          16.043222,
          15.893848,
          15.851749,
          17.223228,
          16.705355,
          17.221607,
          16.272505,
          16.992723,
          16.895643,
          16.258457,
          17.053082,
          16.01119,
          17.03381,
          16.271292,
          15.842924,
          15.88971,
          17.229692,
          16.267008,
          16.899208,
          15.844932,
          16.943298,
          15.818733,
          16.06707,
          17.170404,
          16.259872,
          16.50679
         ]
        },
        {
         "hoverinfo": "text",
         "marker": {
          "opacity": 0.5,
          "size": 5
         },
         "mode": "markers+text",
         "name": "12_记者_报道_目的",
         "text": [
          "",
          "",
          "",
          "",
          "",
          "",
          "",
          "",
          "",
          "",
          "",
          "",
          "",
          "",
          "",
          "",
          "",
          "",
          "",
          "",
          "",
          "",
          "",
          "",
          "",
          "",
          "",
          "",
          "",
          "",
          "",
          "",
          "",
          "",
          "",
          "",
          "",
          "",
          "",
          "",
          "",
          "12_记者_报道_目的"
         ],
         "textfont": {
          "size": 12
         },
         "type": "scattergl",
         "x": [
          15.814467,
          22.939495,
          23.073183,
          15.372414,
          23.113035,
          23.12157,
          22.98764,
          15.805934,
          15.363345,
          22.951971,
          23.048023,
          15.810393,
          15.794025,
          23.004034,
          15.804407,
          22.944292,
          15.370807,
          23.11138,
          23.011618,
          15.81062,
          15.812866,
          22.993914,
          22.962442,
          23.011013,
          23.011608,
          23.116497,
          15.370391,
          15.371154,
          22.987183,
          15.781915,
          23.010393,
          15.809069,
          15.374423,
          22.941498,
          15.365386,
          15.795463,
          23,
          23.022514,
          23.074917,
          22.999039,
          23.103218,
          19.955305
         ],
         "y": [
          2.1879973,
          -4.79298,
          -4.660927,
          2.0996215,
          -4.6215425,
          -4.612903,
          -4.74534,
          2.178916,
          2.097427,
          -4.7803764,
          -4.685737,
          2.1837826,
          2.1756089,
          -4.7292695,
          2.1799808,
          -4.7881284,
          2.098918,
          -4.6231833,
          -4.7217007,
          2.1837475,
          2.184197,
          -4.7391562,
          -4.7700768,
          -4.7224474,
          -4.7219434,
          -4.6180835,
          2.0988863,
          2.0989861,
          -4.7461405,
          2.1728451,
          -4.7231317,
          2.1823826,
          2.0996246,
          -4.7907066,
          2.097912,
          2.1761863,
          -4.733444,
          -4.7108383,
          -4.6588874,
          -4.734388,
          -4.631259,
          -1.8674529
         ]
        },
        {
         "hoverinfo": "text",
         "marker": {
          "opacity": 0.5,
          "size": 5
         },
         "mode": "markers+text",
         "name": "13_四妹_有个_兄弟",
         "text": [
          "",
          "",
          "",
          "",
          "",
          "",
          "",
          "",
          "",
          "",
          "",
          "",
          "",
          "",
          "",
          "",
          "",
          "",
          "",
          "",
          "",
          "",
          "",
          "",
          "",
          "",
          "",
          "",
          "",
          "",
          "",
          "",
          "",
          "",
          "",
          "",
          "",
          "13_四妹_有个_兄弟"
         ],
         "textfont": {
          "size": 12
         },
         "type": "scattergl",
         "x": [
          3.258731,
          -0.99556905,
          -0.9961674,
          -0.9877579,
          -12.467684,
          -0.995691,
          -12.474868,
          -0.6657386,
          -12.469686,
          -0.9961081,
          3.2581496,
          3.25788,
          -12.473945,
          -12.468798,
          3.2569716,
          -12.474897,
          -12.464942,
          -12.47052,
          3.2578382,
          -12.474551,
          3.2523992,
          -12.460677,
          3.2675116,
          -12.474547,
          3.257852,
          -0.99844044,
          -12.474321,
          3.256866,
          -12.456008,
          -0.68238586,
          -12.474752,
          -0.67640966,
          3.2581193,
          -12.474759,
          -0.6736423,
          -12.474918,
          -0.9963271,
          -4.773292
         ],
         "y": [
          15.878015,
          13.231324,
          13.232232,
          13.219908,
          8.764376,
          13.231491,
          8.757153,
          12.754287,
          8.762384,
          13.232012,
          15.87857,
          15.87887,
          8.758136,
          8.762949,
          15.879642,
          8.757215,
          8.767438,
          8.761583,
          15.878915,
          8.757702,
          15.884944,
          8.771521,
          15.86955,
          8.757566,
          15.879014,
          13.235549,
          8.757744,
          15.880004,
          8.776092,
          12.772816,
          8.7573805,
          12.767588,
          15.878843,
          8.757392,
          12.763805,
          8.757314,
          13.232486,
          11.963346
         ]
        },
        {
         "hoverinfo": "text",
         "marker": {
          "opacity": 0.5,
          "size": 5
         },
         "mode": "markers+text",
         "name": "14_全女_评论_说话",
         "text": [
          "",
          "",
          "",
          "",
          "",
          "",
          "",
          "",
          "",
          "",
          "",
          "",
          "",
          "",
          "",
          "",
          "",
          "",
          "",
          "",
          "",
          "",
          "",
          "",
          "",
          "",
          "",
          "",
          "",
          "",
          "",
          "",
          "",
          "",
          "",
          "",
          "14_全女_评论_说话"
         ],
         "textfont": {
          "size": 12
         },
         "type": "scattergl",
         "x": [
          -11.022665,
          -11.6675205,
          -11.02728,
          -11.282602,
          -11.2504225,
          -11.554758,
          -11.259928,
          -11.369972,
          -11.375467,
          -11.671207,
          -11.0233555,
          -11.6720495,
          -11.01824,
          -2.98692,
          -11.084109,
          -11.298331,
          -11.26328,
          -5.0845737,
          -11.004786,
          -11.462076,
          -11.260686,
          -11.0238695,
          -5.085256,
          -11.3920145,
          -11.67269,
          -5.0847116,
          -5.084996,
          -11.672785,
          -5.081573,
          -5.0844455,
          -5.0844536,
          -11.485594,
          -11.021387,
          -11.668768,
          -11.474282,
          -11.298322,
          -9.884871
         ],
         "y": [
          -3.8443792,
          -3.078979,
          -3.8379962,
          -3.498494,
          -3.5392063,
          -3.1984265,
          -3.5263915,
          -3.3981006,
          -3.391815,
          -3.0751317,
          -3.84309,
          -3.0743163,
          -3.8496544,
          -7.216417,
          -3.7613854,
          -3.4793024,
          -3.5205064,
          -14.326846,
          -3.8620455,
          -3.2982066,
          -3.5218365,
          -3.842401,
          -14.326859,
          -3.374387,
          -3.0737615,
          -14.32687,
          -14.326909,
          -3.073669,
          -14.326618,
          -14.326865,
          -14.326867,
          -3.272716,
          -3.845238,
          -3.077305,
          -3.2847412,
          -3.4758751,
          -5.678434
         ]
        },
        {
         "hoverinfo": "text",
         "marker": {
          "opacity": 0.5,
          "size": 5
         },
         "mode": "markers+text",
         "name": "15_四妹_兄弟_全是",
         "text": [
          "",
          "",
          "",
          "",
          "",
          "",
          "",
          "",
          "",
          "",
          "",
          "",
          "",
          "",
          "",
          "",
          "",
          "",
          "",
          "",
          "",
          "",
          "",
          "",
          "",
          "",
          "",
          "",
          "",
          "",
          "",
          "",
          "",
          "",
          "",
          "15_四妹_兄弟_全是"
         ],
         "textfont": {
          "size": 12
         },
         "type": "scattergl",
         "x": [
          -6.3941402,
          -7.1302066,
          -0.615586,
          -0.6401439,
          -7.132072,
          -7.1330876,
          -0.61691445,
          -7.132236,
          -7.132444,
          -7.1338425,
          -6.3947997,
          -7.1333547,
          -0.6128085,
          -7.1311893,
          -0.6626742,
          -7.132126,
          -7.131548,
          -0.61692864,
          -7.134579,
          -7.1339684,
          -7.133546,
          -7.124326,
          -0.6176922,
          -0.61895674,
          -7.1327763,
          -6.393624,
          -6.393961,
          -0.6261522,
          -0.65735096,
          -6.394959,
          -0.65040296,
          -7.129496,
          -7.1231985,
          -6.3975334,
          -7.132733,
          -4.962039
         ],
         "y": [
          17.837072,
          18.140285,
          12.700626,
          12.726312,
          18.143034,
          18.143047,
          12.702686,
          18.142727,
          18.142567,
          18.143917,
          17.837389,
          18.143482,
          12.698511,
          18.142618,
          12.7509,
          18.141989,
          18.141737,
          12.702514,
          18.147007,
          18.144228,
          18.143991,
          18.133814,
          12.702272,
          12.704487,
          18.142748,
          17.836823,
          17.83704,
          12.711975,
          12.743511,
          17.83748,
          12.737227,
          18.139395,
          18.139368,
          17.83859,
          18.142584,
          16.384682
         ]
        },
        {
         "hoverinfo": "text",
         "marker": {
          "opacity": 0.5,
          "size": 5
         },
         "mode": "markers+text",
         "name": "16_眯眯眼_外国_是因为",
         "text": [
          "",
          "",
          "",
          "",
          "",
          "",
          "",
          "",
          "",
          "",
          "",
          "",
          "",
          "",
          "",
          "",
          "",
          "",
          "",
          "",
          "",
          "",
          "",
          "",
          "",
          "",
          "",
          "",
          "",
          "",
          "",
          "",
          "",
          "",
          "",
          "16_眯眯眼_外国_是因为"
         ],
         "textfont": {
          "size": 12
         },
         "type": "scattergl",
         "x": [
          -6.6027822,
          -6.694485,
          -6.6128254,
          -6.589811,
          -6.7955837,
          -6.7869577,
          -6.5927887,
          7.2169647,
          -6.6081204,
          7.222402,
          -6.8066077,
          7.226789,
          -6.6204486,
          -6.806892,
          -6.6059885,
          -6.5904684,
          -6.6848974,
          -6.696573,
          -6.79731,
          -6.629902,
          -6.5991263,
          -6.7997446,
          -6.627017,
          -6.6091137,
          -6.799881,
          7.2214704,
          -6.6495647,
          7.2169113,
          -6.63179,
          -6.659662,
          -6.638662,
          -6.7871137,
          -6.6146483,
          -6.792556,
          -6.775304,
          -4.697202
         ],
         "y": [
          -0.38617897,
          -0.29062864,
          -0.3756367,
          -0.39981386,
          -0.17608403,
          -0.18563688,
          -0.39674988,
          8.728766,
          -0.38062257,
          8.724149,
          -0.16458532,
          8.719546,
          -0.36751303,
          -0.16336025,
          -0.382797,
          -0.3984759,
          -0.2978789,
          -0.28982514,
          -0.17454593,
          -0.35829565,
          -0.38946342,
          -0.17164746,
          -0.36090004,
          -0.37990534,
          -0.1721962,
          8.723625,
          -0.33834133,
          8.728741,
          -0.35619286,
          -0.32656643,
          -0.34641877,
          -0.18536523,
          -0.3732349,
          -0.1794241,
          -0.19590196,
          0.990304
         ]
        },
        {
         "hoverinfo": "text",
         "marker": {
          "opacity": 0.5,
          "size": 5
         },
         "mode": "markers+text",
         "name": "17_原型_建模_美丽",
         "text": [
          "",
          "",
          "",
          "",
          "",
          "",
          "",
          "",
          "",
          "",
          "",
          "",
          "",
          "",
          "",
          "",
          "",
          "",
          "",
          "",
          "",
          "",
          "",
          "",
          "",
          "",
          "",
          "",
          "",
          "",
          "",
          "",
          "",
          "",
          "",
          "17_原型_建模_美丽"
         ],
         "textfont": {
          "size": 12
         },
         "type": "scattergl",
         "x": [
          4.9517956,
          5.1253858,
          8.831759,
          8.959653,
          8.961054,
          4.966678,
          8.831347,
          4.628088,
          4.62807,
          4.9493365,
          5.1233444,
          8.960215,
          4.628063,
          4.974283,
          4.950013,
          4.9559464,
          8.957929,
          5.1192746,
          4.9846883,
          5.120734,
          4.9616838,
          8.958061,
          4.628078,
          4.6280675,
          8.958777,
          4.954713,
          8.831328,
          8.831368,
          4.6280913,
          8.95906,
          4.952367,
          8.970446,
          8.831368,
          4.950992,
          8.943888,
          6.5027413
         ],
         "y": [
          -9.015026,
          -9.356163,
          -11.89964,
          -11.468464,
          -11.455842,
          -9.03351,
          -11.901119,
          -13.606073,
          -13.606056,
          -9.011585,
          -9.35111,
          -11.461774,
          -13.606054,
          -9.039484,
          -9.013747,
          -9.019618,
          -11.459202,
          -9.342988,
          -9.048657,
          -9.346158,
          -9.030807,
          -11.458257,
          -13.606089,
          -13.606076,
          -11.458552,
          -9.018237,
          -11.901173,
          -11.901223,
          -13.60608,
          -11.457009,
          -9.015557,
          -11.472372,
          -11.901257,
          -9.014254,
          -11.444043,
          -10.883806
         ]
        },
        {
         "hoverinfo": "text",
         "marker": {
          "opacity": 0.5,
          "size": 5
         },
         "mode": "markers+text",
         "name": "18_悟空_女性角色_组织",
         "text": [
          "",
          "",
          "",
          "",
          "",
          "",
          "",
          "",
          "",
          "",
          "",
          "",
          "",
          "",
          "",
          "",
          "",
          "",
          "",
          "",
          "",
          "",
          "",
          "",
          "",
          "",
          "",
          "",
          "",
          "",
          "",
          "",
          "18_悟空_女性角色_组织"
         ],
         "textfont": {
          "size": 12
         },
         "type": "scattergl",
         "x": [
          9.495516,
          9.197167,
          9.208438,
          11.986454,
          9.2566595,
          11.98496,
          9.485732,
          11.987763,
          11.98257,
          11.984832,
          11.9862,
          9.198243,
          11.984376,
          9.494018,
          11.985384,
          11.982934,
          11.979343,
          11.988984,
          9.493826,
          9.497434,
          11.983963,
          11.967175,
          9.494379,
          11.986463,
          9.4949,
          9.200443,
          11.96831,
          9.202536,
          9.193376,
          11.984325,
          9.1734495,
          9.196534,
          10.656459
         ],
         "y": [
          0.25793314,
          0.01944689,
          0.02865742,
          7.4678736,
          0.07016483,
          7.469352,
          0.24852516,
          7.4666176,
          7.47187,
          7.4694376,
          7.4681253,
          0.020174319,
          7.469937,
          0.2565039,
          7.4690166,
          7.470926,
          7.4725795,
          7.465392,
          0.25632957,
          0.25913236,
          7.4699807,
          7.4863057,
          0.2565453,
          7.4676533,
          0.2570664,
          0.022073912,
          7.4858203,
          0.023809068,
          0.014555605,
          7.4697866,
          -0.0010158833,
          0.018870585,
          3.7984204
         ]
        },
        {
         "hoverinfo": "text",
         "marker": {
          "opacity": 0.5,
          "size": 5
         },
         "mode": "markers+text",
         "name": "19_讨论_照片_导致",
         "text": [
          "",
          "",
          "",
          "",
          "",
          "",
          "",
          "",
          "",
          "",
          "",
          "",
          "",
          "",
          "",
          "",
          "",
          "",
          "",
          "",
          "",
          "",
          "",
          "",
          "",
          "",
          "",
          "",
          "",
          "",
          "",
          "",
          "19_讨论_照片_导致"
         ],
         "textfont": {
          "size": 12
         },
         "type": "scattergl",
         "x": [
          20.715506,
          20.689884,
          20.723413,
          20.72362,
          20.693132,
          20.643776,
          20.723877,
          20.644789,
          20.703077,
          20.704798,
          20.702599,
          20.643631,
          20.644026,
          20.65493,
          20.72677,
          20.70094,
          20.674095,
          20.655695,
          20.644222,
          20.645937,
          20.703503,
          20.665886,
          20.719957,
          20.732925,
          20.685173,
          20.695425,
          20.65827,
          20.64987,
          20.708687,
          20.703169,
          20.651165,
          20.70419,
          20.68553
         ],
         "y": [
          4.502987,
          4.586631,
          4.486606,
          4.4855313,
          5.653701,
          5.1355095,
          4.481701,
          5.1201735,
          5.672824,
          5.671437,
          5.6688576,
          5.1405478,
          5.1344247,
          5.5798435,
          4.478971,
          5.6665754,
          5.623972,
          5.5613666,
          5.157103,
          5.456599,
          4.52834,
          5.59324,
          4.4920826,
          4.474198,
          5.637363,
          5.6580396,
          5.571241,
          5.501352,
          4.5020432,
          4.5294733,
          5.511519,
          4.523943,
          5.118381
         ]
        },
        {
         "hoverinfo": "text",
         "marker": {
          "opacity": 0.5,
          "size": 5
         },
         "mode": "markers+text",
         "name": "20_瑞幸_抵制_侮辱",
         "text": [
          "",
          "",
          "",
          "",
          "",
          "",
          "",
          "",
          "",
          "",
          "",
          "",
          "",
          "",
          "",
          "",
          "",
          "",
          "",
          "",
          "",
          "",
          "",
          "",
          "",
          "",
          "",
          "",
          "",
          "",
          "",
          "20_瑞幸_抵制_侮辱"
         ],
         "textfont": {
          "size": 12
         },
         "type": "scattergl",
         "x": [
          8.013272,
          8.005465,
          8.048471,
          8.236828,
          0.66054463,
          9.228791,
          0.6615959,
          7.8989215,
          7.901856,
          7.967275,
          8.046337,
          7.9155455,
          9.229544,
          7.997199,
          9.228926,
          7.9433823,
          8.046475,
          8.044633,
          4.62808,
          9.228829,
          0.650922,
          8.063738,
          8.259878,
          9.228935,
          8.059845,
          0.6605687,
          8.032847,
          8.055677,
          9.22893,
          8.08527,
          0.6631965,
          6.965219
         ],
         "y": [
          -0.77758473,
          -0.76779264,
          -0.7073153,
          -0.9228842,
          -1.1780757,
          11.366224,
          -1.1809672,
          -0.5445999,
          -0.5482432,
          -0.6309638,
          -0.7052584,
          -0.55865186,
          11.365959,
          -0.7725067,
          11.366252,
          -0.589605,
          -0.69861406,
          -0.7030251,
          -13.606095,
          11.366218,
          -1.17024,
          -0.68941647,
          -0.94472176,
          11.366224,
          -0.72440255,
          -1.1784517,
          -0.77242494,
          -0.6980149,
          11.366294,
          -0.7469715,
          -1.1862975,
          1.1352917
         ]
        },
        {
         "hoverinfo": "text",
         "marker": {
          "opacity": 0.5,
          "size": 5
         },
         "mode": "markers+text",
         "name": "21_正确_多元化_不到",
         "text": [
          "",
          "",
          "",
          "",
          "",
          "",
          "",
          "",
          "",
          "",
          "",
          "",
          "",
          "",
          "",
          "",
          "",
          "",
          "",
          "",
          "",
          "",
          "",
          "",
          "",
          "",
          "",
          "",
          "",
          "",
          "21_正确_多元化_不到"
         ],
         "textfont": {
          "size": 12
         },
         "type": "scattergl",
         "x": [
          6.5670056,
          19.09841,
          -17.239006,
          6.575544,
          -17.238968,
          19.097017,
          6.5624876,
          -17.238966,
          19.096176,
          6.561023,
          6.5660095,
          6.5607924,
          -17.23895,
          6.5632353,
          6.576563,
          19.096287,
          6.565201,
          -17.238953,
          -17.238958,
          -17.238958,
          -17.23898,
          19.098467,
          6.561803,
          19.091963,
          6.5779696,
          19.095577,
          -17.239021,
          -17.23904,
          6.578453,
          6.5738325,
          1.5558007
         ],
         "y": [
          17.638952,
          7.5399837,
          2.1027675,
          17.630423,
          2.1027474,
          7.539214,
          17.64354,
          2.1027694,
          7.538747,
          17.645012,
          17.640038,
          17.645311,
          2.1027517,
          17.642836,
          17.629517,
          7.5388055,
          17.640867,
          2.1027331,
          2.1027722,
          2.1027792,
          2.1027896,
          7.539987,
          17.64428,
          7.5363827,
          17.628088,
          7.5383973,
          2.1027768,
          2.1027515,
          17.627626,
          17.63219,
          10.102927
         ]
        },
        {
         "hoverinfo": "text",
         "marker": {
          "opacity": 0.5,
          "size": 5
         },
         "mode": "markers+text",
         "name": "22_增加_相关_外媒",
         "text": [
          "",
          "",
          "",
          "",
          "",
          "",
          "",
          "",
          "",
          "",
          "",
          "",
          "",
          "",
          "",
          "",
          "",
          "",
          "",
          "",
          "",
          "",
          "",
          "",
          "",
          "",
          "22_增加_相关_外媒"
         ],
         "textfont": {
          "size": 12
         },
         "type": "scattergl",
         "x": [
          19.905205,
          19.998304,
          20.001373,
          19.905857,
          19.90573,
          19.947699,
          19.936462,
          19.907757,
          19.937487,
          20.000223,
          20.00217,
          19.935877,
          19.934303,
          19.93728,
          20.017838,
          19.894428,
          19.990372,
          20.001785,
          19.924437,
          19.941113,
          19.999573,
          19.911278,
          20.00859,
          19.905098,
          19.987196,
          19.998207,
          19.955217
         ],
         "y": [
          -4.827381,
          -5.403119,
          -5.411427,
          -4.8281646,
          -4.82847,
          -4.9087815,
          -4.8844733,
          -4.830995,
          -4.9019127,
          -5.409541,
          -5.4115834,
          -4.8833528,
          -4.8805046,
          -4.8878093,
          -5.4364414,
          -4.8157353,
          -5.324579,
          -5.4118576,
          -4.850705,
          -4.9030156,
          -5.405331,
          -4.835561,
          -5.4236875,
          -4.827691,
          -5.392399,
          -5.4047914,
          -5.0895886
         ]
        },
        {
         "hoverinfo": "text",
         "marker": {
          "opacity": 0.5,
          "size": 5
         },
         "mode": "markers+text",
         "name": "23_韩国_视频_一条",
         "text": [
          "",
          "",
          "",
          "",
          "",
          "",
          "",
          "",
          "",
          "",
          "",
          "",
          "",
          "",
          "",
          "",
          "",
          "",
          "",
          "",
          "",
          "",
          "",
          "",
          "",
          "23_韩国_视频_一条"
         ],
         "textfont": {
          "size": 12
         },
         "type": "scattergl",
         "x": [
          -2.354843,
          -2.354779,
          -7.860484,
          -2.3990958,
          -7.845385,
          -2.3992434,
          -2.3545656,
          -2.3548005,
          -7.8561397,
          -7.8565784,
          -7.857085,
          -7.8562613,
          -7.8564157,
          -2.3569894,
          -2.3984592,
          -7.830511,
          -2.3993127,
          -7.8561316,
          -2.3992927,
          -7.84621,
          -7.8553104,
          -7.844926,
          -2.3555152,
          -2.357178,
          -7.8496327,
          -5.2222056
         ],
         "y": [
          -2.7357883,
          -2.7358909,
          -4.6609054,
          -2.6902032,
          -4.673896,
          -2.6900976,
          -2.736207,
          -2.7358246,
          -4.6664543,
          -4.666654,
          -4.666036,
          -4.666466,
          -4.666903,
          -2.733665,
          -2.6908677,
          -4.688997,
          -2.6900656,
          -4.6671968,
          -2.6900613,
          -4.6734066,
          -4.668493,
          -4.6745725,
          -2.7350824,
          -2.7334006,
          -4.6705217,
          -3.7323065
         ]
        },
        {
         "hoverinfo": "text",
         "marker": {
          "opacity": 0.5,
          "size": 5
         },
         "mode": "markers+text",
         "name": "24_四妹_仙人_孩子",
         "text": [
          "",
          "",
          "",
          "",
          "",
          "",
          "",
          "",
          "",
          "",
          "",
          "",
          "",
          "",
          "",
          "",
          "",
          "",
          "",
          "",
          "",
          "",
          "",
          "",
          "24_四妹_仙人_孩子"
         ],
         "textfont": {
          "size": 12
         },
         "type": "scattergl",
         "x": [
          2.950239,
          2.0657847,
          2.0657659,
          2.0657387,
          3.0739684,
          3.010266,
          2.886528,
          3.0808036,
          2.0658748,
          2.0659487,
          2.9086406,
          2.919224,
          3.0802653,
          3.076087,
          2.871592,
          3.0850453,
          2.8805368,
          2.8805156,
          3.1095388,
          2.0659215,
          2.882729,
          2.0659044,
          2.0657446,
          2.0658238,
          2.6370203
         ],
         "y": [
          19.495464,
          9.768983,
          9.768955,
          9.768943,
          19.607523,
          19.550459,
          19.437191,
          19.61403,
          9.7690525,
          9.769105,
          19.457798,
          19.467617,
          19.613523,
          19.609785,
          19.423668,
          19.61721,
          19.431625,
          19.431618,
          19.642578,
          9.769132,
          19.433416,
          9.769124,
          9.768949,
          9.769044,
          15.864783
         ]
        },
        {
         "hoverinfo": "text",
         "marker": {
          "opacity": 0.5,
          "size": 5
         },
         "mode": "markers+text",
         "name": "25_大作_女玩家_微博",
         "text": [
          "",
          "",
          "",
          "",
          "",
          "",
          "",
          "",
          "",
          "",
          "",
          "",
          "",
          "",
          "",
          "",
          "",
          "",
          "",
          "",
          "",
          "",
          "",
          "",
          "25_大作_女玩家_微博"
         ],
         "textfont": {
          "size": 12
         },
         "type": "scattergl",
         "x": [
          -3.7230427,
          -3.7229302,
          -3.7621977,
          -3.7340717,
          -3.724468,
          -3.7678025,
          -3.7640374,
          -3.7360005,
          -3.6187503,
          3.6321182,
          -3.735888,
          -3.730274,
          -3.7824447,
          3.632242,
          -3.7666216,
          -3.6110172,
          -3.767955,
          3.6292663,
          -3.6521735,
          -3.7607944,
          3.6322274,
          3.6318064,
          -3.7693417,
          -3.7626543,
          -2.1972835
         ],
         "y": [
          0.588853,
          0.58933496,
          0.5488129,
          0.57814777,
          0.58758956,
          0.5431028,
          0.54684836,
          0.5756368,
          0.6985642,
          10.70903,
          0.57599634,
          0.5817543,
          0.5284803,
          10.709718,
          0.54424316,
          0.70667416,
          0.54289925,
          10.698847,
          0.6637362,
          0.5499589,
          10.714076,
          10.707242,
          0.5415093,
          0.5480938,
          2.6907978
         ]
        },
        {
         "hoverinfo": "text",
         "marker": {
          "opacity": 0.5,
          "size": 5
         },
         "mode": "markers+text",
         "name": "26_影响_言论_工作室",
         "text": [
          "",
          "",
          "",
          "",
          "",
          "",
          "",
          "",
          "",
          "",
          "",
          "",
          "",
          "",
          "",
          "",
          "",
          "",
          "",
          "",
          "",
          "",
          "",
          "",
          "26_影响_言论_工作室"
         ],
         "textfont": {
          "size": 12
         },
         "type": "scattergl",
         "x": [
          -4.9307904,
          -4.940249,
          -4.8622837,
          -4.8986073,
          -4.890262,
          -3.0796528,
          -3.0797112,
          -3.079678,
          -4.862657,
          -4.947281,
          -4.9007196,
          -3.079709,
          -4.8632336,
          -4.9316807,
          -4.863774,
          -4.9009614,
          -3.0797276,
          -3.0797102,
          -4.896933,
          -3.07976,
          -4.9048076,
          -4.87805,
          -3.0797334,
          -3.0797424,
          -4.216238
         ],
         "y": [
          -11.277259,
          -11.267822,
          -11.342377,
          -11.308409,
          -11.316386,
          -12.665934,
          -12.665921,
          -12.665893,
          -11.34208,
          -11.261069,
          -11.306222,
          -12.665905,
          -11.341558,
          -11.276515,
          -11.341076,
          -11.306252,
          -12.665946,
          -12.665908,
          -11.310145,
          -12.665968,
          -11.302192,
          -11.328677,
          -12.665939,
          -12.665962,
          -11.817558
         ]
        },
        {
         "hoverinfo": "text",
         "marker": {
          "opacity": 0.5,
          "size": 5
         },
         "mode": "markers+text",
         "name": "27_印度_希望_团队",
         "text": [
          "",
          "",
          "",
          "",
          "",
          "",
          "",
          "",
          "",
          "",
          "",
          "",
          "",
          "",
          "",
          "",
          "",
          "",
          "",
          "",
          "",
          "",
          "",
          "27_印度_希望_团队"
         ],
         "textfont": {
          "size": 12
         },
         "type": "scattergl",
         "x": [
          -6.396869,
          -10.58415,
          -10.584569,
          -6.396893,
          -10.594875,
          -10.528867,
          -10.583409,
          -10.583558,
          -10.517966,
          -6.3968897,
          -10.584311,
          -10.528756,
          -6.396932,
          -10.589362,
          -10.556653,
          -10.583751,
          -6.396898,
          -10.595764,
          -10.522104,
          -10.522656,
          -10.49785,
          -6.396928,
          -10.585018,
          -9.475001
         ],
         "y": [
          9.214016,
          16.056204,
          16.05625,
          9.213997,
          16.0671,
          15.99868,
          16.05498,
          16.055454,
          15.987815,
          9.213964,
          16.05618,
          15.99863,
          9.213964,
          16.060762,
          16.027634,
          16.055246,
          9.213989,
          16.068144,
          15.9918785,
          15.992464,
          15.967663,
          9.213977,
          16.056976,
          14.253737
         ]
        },
        {
         "hoverinfo": "text",
         "marker": {
          "opacity": 0.5,
          "size": 5
         },
         "mode": "markers+text",
         "name": "28_西游记_多元_成立",
         "text": [
          "",
          "",
          "",
          "",
          "",
          "",
          "",
          "",
          "",
          "",
          "",
          "",
          "",
          "",
          "",
          "",
          "",
          "",
          "",
          "",
          "",
          "",
          "",
          "28_西游记_多元_成立"
         ],
         "textfont": {
          "size": 12
         },
         "type": "scattergl",
         "x": [
          12.867652,
          12.867831,
          15.923243,
          15.924116,
          12.8687525,
          15.912022,
          12.867975,
          16.005491,
          16.031208,
          15.931823,
          15.9119425,
          15.921802,
          16.049978,
          16.008175,
          12.867885,
          16.029228,
          15.961709,
          16.042812,
          16.037088,
          16.047026,
          16.048658,
          12.867876,
          16.016726,
          15.174392
         ],
         "y": [
          20.200457,
          20.200365,
          15.601641,
          15.6008415,
          20.199831,
          15.612903,
          20.200266,
          15.519287,
          15.493582,
          15.592969,
          15.612915,
          15.603183,
          15.474844,
          15.516614,
          20.200302,
          15.495632,
          15.563282,
          15.482096,
          15.487564,
          15.477835,
          15.476177,
          20.200325,
          15.508285,
          16.753094
         ]
        },
        {
         "hoverinfo": "text",
         "marker": {
          "opacity": 0.5,
          "size": 5
         },
         "mode": "markers+text",
         "name": "29_小时候_评论_终于",
         "text": [
          "",
          "",
          "",
          "",
          "",
          "",
          "",
          "",
          "",
          "",
          "",
          "",
          "",
          "",
          "",
          "",
          "",
          "",
          "",
          "",
          "",
          "",
          "29_小时候_评论_终于"
         ],
         "textfont": {
          "size": 12
         },
         "type": "scattergl",
         "x": [
          -16.053593,
          -16.053188,
          -16.052898,
          -16.05388,
          -16.057098,
          -16.044525,
          -16.05432,
          -16.053469,
          -16.02807,
          -16.05146,
          -16.0513,
          -16.06951,
          -16.054993,
          -16.06225,
          -16.055452,
          -16.052515,
          -16.050806,
          -16.053211,
          -16.054848,
          -16.061487,
          -16.038206,
          -16.053617,
          -16.05276
         ],
         "y": [
          14.695612,
          14.694622,
          14.694584,
          14.696216,
          14.692702,
          14.68795,
          14.696412,
          14.694295,
          14.672431,
          14.693517,
          14.693689,
          14.711892,
          14.697702,
          14.698751,
          14.698144,
          14.694193,
          14.691518,
          14.694608,
          14.6974325,
          14.69823,
          14.687651,
          14.694435,
          14.694388
         ]
        },
        {
         "hoverinfo": "text",
         "marker": {
          "opacity": 0.5,
          "size": 5
         },
         "mode": "markers+text",
         "name": "30_乙游_算是_原神",
         "text": [
          "",
          "",
          "",
          "",
          "",
          "",
          "",
          "",
          "",
          "",
          "",
          "",
          "",
          "",
          "",
          "",
          "",
          "",
          "",
          "",
          "",
          "",
          "30_乙游_算是_原神"
         ],
         "textfont": {
          "size": 12
         },
         "type": "scattergl",
         "x": [
          1.213313,
          14.177957,
          14.176439,
          1.2127889,
          14.173539,
          14.175712,
          1.2134159,
          1.2129617,
          14.154306,
          14.174401,
          1.2149863,
          1.2152743,
          14.158663,
          1.2119814,
          1.214758,
          14.196602,
          14.183551,
          1.2146243,
          1.223523,
          14.186157,
          14.173917,
          14.16706,
          8.283906
         ],
         "y": [
          17.564434,
          19.384771,
          19.384327,
          17.563925,
          19.383238,
          19.384516,
          17.564533,
          17.56412,
          19.368563,
          19.383478,
          17.566168,
          17.566399,
          19.37304,
          17.563313,
          17.565947,
          19.393473,
          19.386671,
          17.56583,
          17.574574,
          19.387291,
          19.383537,
          19.379261,
          18.556883
         ]
        },
        {
         "hoverinfo": "text",
         "marker": {
          "opacity": 0.5,
          "size": 5
         },
         "mode": "markers+text",
         "name": "31_民族_例子_审美",
         "text": [
          "",
          "",
          "",
          "",
          "",
          "",
          "",
          "",
          "",
          "",
          "",
          "",
          "",
          "",
          "",
          "",
          "",
          "",
          "",
          "",
          "",
          "31_民族_例子_审美"
         ],
         "textfont": {
          "size": 12
         },
         "type": "scattergl",
         "x": [
          5.229637,
          10.706369,
          10.734992,
          10.739211,
          10.738831,
          5.2299933,
          10.709176,
          5.2300167,
          10.73804,
          10.738779,
          5.2300267,
          10.737746,
          10.737797,
          10.702836,
          5.2300305,
          10.739051,
          5.2300224,
          10.708942,
          10.73838,
          10.736587,
          10.701059,
          9.156549
         ],
         "y": [
          -9.865003,
          -12.761188,
          -12.788739,
          -12.792914,
          -12.792554,
          -9.866725,
          -12.763924,
          -9.866885,
          -12.791806,
          -12.792489,
          -9.86693,
          -12.791417,
          -12.791416,
          -12.7573,
          -9.866962,
          -12.792768,
          -9.867006,
          -12.76365,
          -12.792104,
          -12.790307,
          -12.755856,
          -11.948474
         ]
        },
        {
         "hoverinfo": "text",
         "marker": {
          "opacity": 0.5,
          "size": 5
         },
         "mode": "markers+text",
         "name": "32_乙游_一句_官方",
         "text": [
          "",
          "",
          "",
          "",
          "",
          "",
          "",
          "",
          "",
          "",
          "",
          "",
          "",
          "",
          "",
          "",
          "",
          "",
          "",
          "",
          "",
          "32_乙游_一句_官方"
         ],
         "textfont": {
          "size": 12
         },
         "type": "scattergl",
         "x": [
          8.098367,
          7.9514074,
          8.029627,
          8.001741,
          7.6356792,
          7.956908,
          8.288352,
          8.2868595,
          7.9370875,
          7.99256,
          7.905775,
          8.287524,
          8.274561,
          8.051489,
          7.975714,
          8.285482,
          8.007539,
          8.286657,
          8.013876,
          7.643161,
          7.967447,
          8.0418005
         ],
         "y": [
          3.101639,
          3.2432168,
          3.1673167,
          3.1944957,
          3.4965963,
          3.237704,
          2.9148693,
          2.9162767,
          3.2563682,
          3.20417,
          3.281493,
          2.9156911,
          2.9284651,
          3.1471841,
          3.2200391,
          2.9174252,
          3.1888492,
          2.916215,
          3.1829052,
          3.4884527,
          3.227517,
          3.1498523
         ]
        }
       ],
       "layout": {
        "annotations": [
         {
          "showarrow": false,
          "text": "D1",
          "x": -20.057584285736084,
          "y": 8.56079604625702,
          "yshift": 10
         },
         {
          "showarrow": false,
          "text": "D2",
          "x": 5.223694610595704,
          "xshift": 10,
          "y": 33.59753751754761
         }
        ],
        "height": 750,
        "shapes": [
         {
          "line": {
           "color": "#CFD8DC",
           "width": 2
          },
          "type": "line",
          "x0": 5.223694610595704,
          "x1": 5.223694610595704,
          "y0": -16.47594542503357,
          "y1": 33.59753751754761
         },
         {
          "line": {
           "color": "#9E9E9E",
           "width": 2
          },
          "type": "line",
          "x0": -20.057584285736084,
          "x1": 30.50497350692749,
          "y0": 8.56079604625702,
          "y1": 8.56079604625702
         }
        ],
        "template": {
         "data": {
          "bar": [
           {
            "error_x": {
             "color": "rgb(36,36,36)"
            },
            "error_y": {
             "color": "rgb(36,36,36)"
            },
            "marker": {
             "line": {
              "color": "white",
              "width": 0.5
             },
             "pattern": {
              "fillmode": "overlay",
              "size": 10,
              "solidity": 0.2
             }
            },
            "type": "bar"
           }
          ],
          "barpolar": [
           {
            "marker": {
             "line": {
              "color": "white",
              "width": 0.5
             },
             "pattern": {
              "fillmode": "overlay",
              "size": 10,
              "solidity": 0.2
             }
            },
            "type": "barpolar"
           }
          ],
          "carpet": [
           {
            "aaxis": {
             "endlinecolor": "rgb(36,36,36)",
             "gridcolor": "white",
             "linecolor": "white",
             "minorgridcolor": "white",
             "startlinecolor": "rgb(36,36,36)"
            },
            "baxis": {
             "endlinecolor": "rgb(36,36,36)",
             "gridcolor": "white",
             "linecolor": "white",
             "minorgridcolor": "white",
             "startlinecolor": "rgb(36,36,36)"
            },
            "type": "carpet"
           }
          ],
          "choropleth": [
           {
            "colorbar": {
             "outlinewidth": 1,
             "tickcolor": "rgb(36,36,36)",
             "ticks": "outside"
            },
            "type": "choropleth"
           }
          ],
          "contour": [
           {
            "colorbar": {
             "outlinewidth": 1,
             "tickcolor": "rgb(36,36,36)",
             "ticks": "outside"
            },
            "colorscale": [
             [
              0,
              "#440154"
             ],
             [
              0.1111111111111111,
              "#482878"
             ],
             [
              0.2222222222222222,
              "#3e4989"
             ],
             [
              0.3333333333333333,
              "#31688e"
             ],
             [
              0.4444444444444444,
              "#26828e"
             ],
             [
              0.5555555555555556,
              "#1f9e89"
             ],
             [
              0.6666666666666666,
              "#35b779"
             ],
             [
              0.7777777777777778,
              "#6ece58"
             ],
             [
              0.8888888888888888,
              "#b5de2b"
             ],
             [
              1,
              "#fde725"
             ]
            ],
            "type": "contour"
           }
          ],
          "contourcarpet": [
           {
            "colorbar": {
             "outlinewidth": 1,
             "tickcolor": "rgb(36,36,36)",
             "ticks": "outside"
            },
            "type": "contourcarpet"
           }
          ],
          "heatmap": [
           {
            "colorbar": {
             "outlinewidth": 1,
             "tickcolor": "rgb(36,36,36)",
             "ticks": "outside"
            },
            "colorscale": [
             [
              0,
              "#440154"
             ],
             [
              0.1111111111111111,
              "#482878"
             ],
             [
              0.2222222222222222,
              "#3e4989"
             ],
             [
              0.3333333333333333,
              "#31688e"
             ],
             [
              0.4444444444444444,
              "#26828e"
             ],
             [
              0.5555555555555556,
              "#1f9e89"
             ],
             [
              0.6666666666666666,
              "#35b779"
             ],
             [
              0.7777777777777778,
              "#6ece58"
             ],
             [
              0.8888888888888888,
              "#b5de2b"
             ],
             [
              1,
              "#fde725"
             ]
            ],
            "type": "heatmap"
           }
          ],
          "heatmapgl": [
           {
            "colorbar": {
             "outlinewidth": 1,
             "tickcolor": "rgb(36,36,36)",
             "ticks": "outside"
            },
            "colorscale": [
             [
              0,
              "#440154"
             ],
             [
              0.1111111111111111,
              "#482878"
             ],
             [
              0.2222222222222222,
              "#3e4989"
             ],
             [
              0.3333333333333333,
              "#31688e"
             ],
             [
              0.4444444444444444,
              "#26828e"
             ],
             [
              0.5555555555555556,
              "#1f9e89"
             ],
             [
              0.6666666666666666,
              "#35b779"
             ],
             [
              0.7777777777777778,
              "#6ece58"
             ],
             [
              0.8888888888888888,
              "#b5de2b"
             ],
             [
              1,
              "#fde725"
             ]
            ],
            "type": "heatmapgl"
           }
          ],
          "histogram": [
           {
            "marker": {
             "line": {
              "color": "white",
              "width": 0.6
             }
            },
            "type": "histogram"
           }
          ],
          "histogram2d": [
           {
            "colorbar": {
             "outlinewidth": 1,
             "tickcolor": "rgb(36,36,36)",
             "ticks": "outside"
            },
            "colorscale": [
             [
              0,
              "#440154"
             ],
             [
              0.1111111111111111,
              "#482878"
             ],
             [
              0.2222222222222222,
              "#3e4989"
             ],
             [
              0.3333333333333333,
              "#31688e"
             ],
             [
              0.4444444444444444,
              "#26828e"
             ],
             [
              0.5555555555555556,
              "#1f9e89"
             ],
             [
              0.6666666666666666,
              "#35b779"
             ],
             [
              0.7777777777777778,
              "#6ece58"
             ],
             [
              0.8888888888888888,
              "#b5de2b"
             ],
             [
              1,
              "#fde725"
             ]
            ],
            "type": "histogram2d"
           }
          ],
          "histogram2dcontour": [
           {
            "colorbar": {
             "outlinewidth": 1,
             "tickcolor": "rgb(36,36,36)",
             "ticks": "outside"
            },
            "colorscale": [
             [
              0,
              "#440154"
             ],
             [
              0.1111111111111111,
              "#482878"
             ],
             [
              0.2222222222222222,
              "#3e4989"
             ],
             [
              0.3333333333333333,
              "#31688e"
             ],
             [
              0.4444444444444444,
              "#26828e"
             ],
             [
              0.5555555555555556,
              "#1f9e89"
             ],
             [
              0.6666666666666666,
              "#35b779"
             ],
             [
              0.7777777777777778,
              "#6ece58"
             ],
             [
              0.8888888888888888,
              "#b5de2b"
             ],
             [
              1,
              "#fde725"
             ]
            ],
            "type": "histogram2dcontour"
           }
          ],
          "mesh3d": [
           {
            "colorbar": {
             "outlinewidth": 1,
             "tickcolor": "rgb(36,36,36)",
             "ticks": "outside"
            },
            "type": "mesh3d"
           }
          ],
          "parcoords": [
           {
            "line": {
             "colorbar": {
              "outlinewidth": 1,
              "tickcolor": "rgb(36,36,36)",
              "ticks": "outside"
             }
            },
            "type": "parcoords"
           }
          ],
          "pie": [
           {
            "automargin": true,
            "type": "pie"
           }
          ],
          "scatter": [
           {
            "fillpattern": {
             "fillmode": "overlay",
             "size": 10,
             "solidity": 0.2
            },
            "type": "scatter"
           }
          ],
          "scatter3d": [
           {
            "line": {
             "colorbar": {
              "outlinewidth": 1,
              "tickcolor": "rgb(36,36,36)",
              "ticks": "outside"
             }
            },
            "marker": {
             "colorbar": {
              "outlinewidth": 1,
              "tickcolor": "rgb(36,36,36)",
              "ticks": "outside"
             }
            },
            "type": "scatter3d"
           }
          ],
          "scattercarpet": [
           {
            "marker": {
             "colorbar": {
              "outlinewidth": 1,
              "tickcolor": "rgb(36,36,36)",
              "ticks": "outside"
             }
            },
            "type": "scattercarpet"
           }
          ],
          "scattergeo": [
           {
            "marker": {
             "colorbar": {
              "outlinewidth": 1,
              "tickcolor": "rgb(36,36,36)",
              "ticks": "outside"
             }
            },
            "type": "scattergeo"
           }
          ],
          "scattergl": [
           {
            "marker": {
             "colorbar": {
              "outlinewidth": 1,
              "tickcolor": "rgb(36,36,36)",
              "ticks": "outside"
             }
            },
            "type": "scattergl"
           }
          ],
          "scattermapbox": [
           {
            "marker": {
             "colorbar": {
              "outlinewidth": 1,
              "tickcolor": "rgb(36,36,36)",
              "ticks": "outside"
             }
            },
            "type": "scattermapbox"
           }
          ],
          "scatterpolar": [
           {
            "marker": {
             "colorbar": {
              "outlinewidth": 1,
              "tickcolor": "rgb(36,36,36)",
              "ticks": "outside"
             }
            },
            "type": "scatterpolar"
           }
          ],
          "scatterpolargl": [
           {
            "marker": {
             "colorbar": {
              "outlinewidth": 1,
              "tickcolor": "rgb(36,36,36)",
              "ticks": "outside"
             }
            },
            "type": "scatterpolargl"
           }
          ],
          "scatterternary": [
           {
            "marker": {
             "colorbar": {
              "outlinewidth": 1,
              "tickcolor": "rgb(36,36,36)",
              "ticks": "outside"
             }
            },
            "type": "scatterternary"
           }
          ],
          "surface": [
           {
            "colorbar": {
             "outlinewidth": 1,
             "tickcolor": "rgb(36,36,36)",
             "ticks": "outside"
            },
            "colorscale": [
             [
              0,
              "#440154"
             ],
             [
              0.1111111111111111,
              "#482878"
             ],
             [
              0.2222222222222222,
              "#3e4989"
             ],
             [
              0.3333333333333333,
              "#31688e"
             ],
             [
              0.4444444444444444,
              "#26828e"
             ],
             [
              0.5555555555555556,
              "#1f9e89"
             ],
             [
              0.6666666666666666,
              "#35b779"
             ],
             [
              0.7777777777777778,
              "#6ece58"
             ],
             [
              0.8888888888888888,
              "#b5de2b"
             ],
             [
              1,
              "#fde725"
             ]
            ],
            "type": "surface"
           }
          ],
          "table": [
           {
            "cells": {
             "fill": {
              "color": "rgb(237,237,237)"
             },
             "line": {
              "color": "white"
             }
            },
            "header": {
             "fill": {
              "color": "rgb(217,217,217)"
             },
             "line": {
              "color": "white"
             }
            },
            "type": "table"
           }
          ]
         },
         "layout": {
          "annotationdefaults": {
           "arrowhead": 0,
           "arrowwidth": 1
          },
          "autotypenumbers": "strict",
          "coloraxis": {
           "colorbar": {
            "outlinewidth": 1,
            "tickcolor": "rgb(36,36,36)",
            "ticks": "outside"
           }
          },
          "colorscale": {
           "diverging": [
            [
             0,
             "rgb(103,0,31)"
            ],
            [
             0.1,
             "rgb(178,24,43)"
            ],
            [
             0.2,
             "rgb(214,96,77)"
            ],
            [
             0.3,
             "rgb(244,165,130)"
            ],
            [
             0.4,
             "rgb(253,219,199)"
            ],
            [
             0.5,
             "rgb(247,247,247)"
            ],
            [
             0.6,
             "rgb(209,229,240)"
            ],
            [
             0.7,
             "rgb(146,197,222)"
            ],
            [
             0.8,
             "rgb(67,147,195)"
            ],
            [
             0.9,
             "rgb(33,102,172)"
            ],
            [
             1,
             "rgb(5,48,97)"
            ]
           ],
           "sequential": [
            [
             0,
             "#440154"
            ],
            [
             0.1111111111111111,
             "#482878"
            ],
            [
             0.2222222222222222,
             "#3e4989"
            ],
            [
             0.3333333333333333,
             "#31688e"
            ],
            [
             0.4444444444444444,
             "#26828e"
            ],
            [
             0.5555555555555556,
             "#1f9e89"
            ],
            [
             0.6666666666666666,
             "#35b779"
            ],
            [
             0.7777777777777778,
             "#6ece58"
            ],
            [
             0.8888888888888888,
             "#b5de2b"
            ],
            [
             1,
             "#fde725"
            ]
           ],
           "sequentialminus": [
            [
             0,
             "#440154"
            ],
            [
             0.1111111111111111,
             "#482878"
            ],
            [
             0.2222222222222222,
             "#3e4989"
            ],
            [
             0.3333333333333333,
             "#31688e"
            ],
            [
             0.4444444444444444,
             "#26828e"
            ],
            [
             0.5555555555555556,
             "#1f9e89"
            ],
            [
             0.6666666666666666,
             "#35b779"
            ],
            [
             0.7777777777777778,
             "#6ece58"
            ],
            [
             0.8888888888888888,
             "#b5de2b"
            ],
            [
             1,
             "#fde725"
            ]
           ]
          },
          "colorway": [
           "#1F77B4",
           "#FF7F0E",
           "#2CA02C",
           "#D62728",
           "#9467BD",
           "#8C564B",
           "#E377C2",
           "#7F7F7F",
           "#BCBD22",
           "#17BECF"
          ],
          "font": {
           "color": "rgb(36,36,36)"
          },
          "geo": {
           "bgcolor": "white",
           "lakecolor": "white",
           "landcolor": "white",
           "showlakes": true,
           "showland": true,
           "subunitcolor": "white"
          },
          "hoverlabel": {
           "align": "left"
          },
          "hovermode": "closest",
          "mapbox": {
           "style": "light"
          },
          "paper_bgcolor": "white",
          "plot_bgcolor": "white",
          "polar": {
           "angularaxis": {
            "gridcolor": "rgb(232,232,232)",
            "linecolor": "rgb(36,36,36)",
            "showgrid": false,
            "showline": true,
            "ticks": "outside"
           },
           "bgcolor": "white",
           "radialaxis": {
            "gridcolor": "rgb(232,232,232)",
            "linecolor": "rgb(36,36,36)",
            "showgrid": false,
            "showline": true,
            "ticks": "outside"
           }
          },
          "scene": {
           "xaxis": {
            "backgroundcolor": "white",
            "gridcolor": "rgb(232,232,232)",
            "gridwidth": 2,
            "linecolor": "rgb(36,36,36)",
            "showbackground": true,
            "showgrid": false,
            "showline": true,
            "ticks": "outside",
            "zeroline": false,
            "zerolinecolor": "rgb(36,36,36)"
           },
           "yaxis": {
            "backgroundcolor": "white",
            "gridcolor": "rgb(232,232,232)",
            "gridwidth": 2,
            "linecolor": "rgb(36,36,36)",
            "showbackground": true,
            "showgrid": false,
            "showline": true,
            "ticks": "outside",
            "zeroline": false,
            "zerolinecolor": "rgb(36,36,36)"
           },
           "zaxis": {
            "backgroundcolor": "white",
            "gridcolor": "rgb(232,232,232)",
            "gridwidth": 2,
            "linecolor": "rgb(36,36,36)",
            "showbackground": true,
            "showgrid": false,
            "showline": true,
            "ticks": "outside",
            "zeroline": false,
            "zerolinecolor": "rgb(36,36,36)"
           }
          },
          "shapedefaults": {
           "fillcolor": "black",
           "line": {
            "width": 0
           },
           "opacity": 0.3
          },
          "ternary": {
           "aaxis": {
            "gridcolor": "rgb(232,232,232)",
            "linecolor": "rgb(36,36,36)",
            "showgrid": false,
            "showline": true,
            "ticks": "outside"
           },
           "baxis": {
            "gridcolor": "rgb(232,232,232)",
            "linecolor": "rgb(36,36,36)",
            "showgrid": false,
            "showline": true,
            "ticks": "outside"
           },
           "bgcolor": "white",
           "caxis": {
            "gridcolor": "rgb(232,232,232)",
            "linecolor": "rgb(36,36,36)",
            "showgrid": false,
            "showline": true,
            "ticks": "outside"
           }
          },
          "title": {
           "x": 0.05
          },
          "xaxis": {
           "automargin": true,
           "gridcolor": "rgb(232,232,232)",
           "linecolor": "rgb(36,36,36)",
           "showgrid": false,
           "showline": true,
           "ticks": "outside",
           "title": {
            "standoff": 15
           },
           "zeroline": false,
           "zerolinecolor": "rgb(36,36,36)"
          },
          "yaxis": {
           "automargin": true,
           "gridcolor": "rgb(232,232,232)",
           "linecolor": "rgb(36,36,36)",
           "showgrid": false,
           "showline": true,
           "ticks": "outside",
           "title": {
            "standoff": 15
           },
           "zeroline": false,
           "zerolinecolor": "rgb(36,36,36)"
          }
         }
        },
        "title": {
         "font": {
          "color": "Black",
          "size": 22
         },
         "text": "<b>Documents and Topics</b>",
         "x": 0.5,
         "xanchor": "center",
         "yanchor": "top"
        },
        "width": 1200,
        "xaxis": {
         "visible": false
        },
        "yaxis": {
         "visible": false
        }
       }
      }
     },
     "metadata": {},
     "output_type": "display_data"
    }
   ],
   "source": [
    "reduced_embeddings = UMAP(\n",
    "    n_neighbors=10,\n",
    "    n_components=3,\n",
    "    min_dist=0.0,\n",
    "    metric=\"cosine\",\n",
    "    random_state=42\n",
    ").fit_transform(embeddings)\n",
    "fig_docs = best_topic_model.visualize_documents(\n",
    "    docs_text,\n",
    "    embeddings=reduced_embeddings,\n",
    "    hide_document_hover=True\n",
    ")\n",
    "fig_docs_filename = f\"document_distribution_auto_{suffix}.html\"\n",
    "fig_docs.write_html(fig_docs_filename)\n",
    "print(f\"自动聚类后的文档分布图已保存为 {fig_docs_filename}\")\n",
    "fig_docs.show()\n"
   ]
  },
  {
   "cell_type": "markdown",
   "metadata": {},
   "source": [
    "## 4-4 主题相似度热图 Topic Similarity Heatmap"
   ]
  },
  {
   "cell_type": "code",
   "execution_count": 23,
   "metadata": {},
   "outputs": [
    {
     "name": "stdout",
     "output_type": "stream",
     "text": [
      "自动聚类后的主题相似度热图已保存为 topic_heatmap_auto_antifeminism3.23-1.html\n"
     ]
    },
    {
     "data": {
      "application/vnd.plotly.v1+json": {
       "config": {
        "plotlyServerURL": "https://plot.ly"
       },
       "data": [
        {
         "coloraxis": "coloraxis",
         "hovertemplate": "x: %{x}<br>y: %{y}<br>Similarity Score: %{z}<extra></extra>",
         "name": "0",
         "type": "heatmap",
         "x": [
          "0_特别_策划_星鸣特攻",
          "1_女人_长得_steam",
          "2_女权_权益_迎合",
          "3_性别歧视_发布_媒体",
          "4_网友_美女_男性",
          "5_观点_报道_冯骥",
          "6_豆瓣_女拳_四处",
          "7_猴子_水平_恶心",
          "8_黑神话_屁股_黑猴",
          "9_ign_指责_策划",
          "10_爱国_为啥_营销",
          "11_态度_联动_抵制",
          "12_记者_报道_目的",
          "13_四妹_有个_兄弟",
          "14_全女_评论_说话",
          "15_四妹_兄弟_全是",
          "16_眯眯眼_外国_是因为",
          "17_原型_建模_美丽",
          "18_悟空_女性角色_组织",
          "19_讨论_照片_导致",
          "20_瑞幸_抵制_侮辱",
          "21_正确_多元化_不到",
          "22_增加_相关_外媒",
          "23_韩国_视频_一条",
          "24_四妹_仙人_孩子",
          "25_大作_女玩家_微博",
          "26_影响_言论_工作室",
          "27_印度_希望_团队",
          "28_西游记_多元_成立",
          "29_小时候_评论_终于",
          "30_乙游_算是_原神",
          "31_民族_例子_审美",
          "32_乙游_一句_官方"
         ],
         "xaxis": "x",
         "y": [
          "0_特别_策划_星鸣特攻",
          "1_女人_长得_steam",
          "2_女权_权益_迎合",
          "3_性别歧视_发布_媒体",
          "4_网友_美女_男性",
          "5_观点_报道_冯骥",
          "6_豆瓣_女拳_四处",
          "7_猴子_水平_恶心",
          "8_黑神话_屁股_黑猴",
          "9_ign_指责_策划",
          "10_爱国_为啥_营销",
          "11_态度_联动_抵制",
          "12_记者_报道_目的",
          "13_四妹_有个_兄弟",
          "14_全女_评论_说话",
          "15_四妹_兄弟_全是",
          "16_眯眯眼_外国_是因为",
          "17_原型_建模_美丽",
          "18_悟空_女性角色_组织",
          "19_讨论_照片_导致",
          "20_瑞幸_抵制_侮辱",
          "21_正确_多元化_不到",
          "22_增加_相关_外媒",
          "23_韩国_视频_一条",
          "24_四妹_仙人_孩子",
          "25_大作_女玩家_微博",
          "26_影响_言论_工作室",
          "27_印度_希望_团队",
          "28_西游记_多元_成立",
          "29_小时候_评论_终于",
          "30_乙游_算是_原神",
          "31_民族_例子_审美",
          "32_乙游_一句_官方"
         ],
         "yaxis": "y",
         "z": [
          [
           1,
           0.9370535126354965,
           0.9092952103452987,
           0.9360641151093388,
           0.8925498910832901,
           0.8830507994644968,
           0.8751197901363582,
           0.9245647923147682,
           0.9407209765884935,
           0.961649145063965,
           0.9091619050178851,
           0.8693272812583653,
           0.8967822496742265,
           0.8855266081938328,
           0.9320988247080708,
           0.8669162166058502,
           0.9428674232062065,
           0.8899683466009555,
           0.9154580151689111,
           0.8675036702827152,
           0.9448252706485618,
           0.9403660190184404,
           0.8868581329156557,
           0.9450290107104425,
           0.8705992716109002,
           0.9179766703167905,
           0.9238204946689984,
           0.835586392444619,
           0.9078760191903522,
           0.8847751447497938,
           0.8652795836851015,
           0.8667527770918408,
           0.9163266054736161
          ],
          [
           0.9370535126354965,
           0.9999999999999989,
           0.8727591201087899,
           0.8659490691029397,
           0.8652834962282071,
           0.8042338231808264,
           0.8786927175090067,
           0.914692392038455,
           0.9320528043519773,
           0.8957607564183914,
           0.9099630965613531,
           0.8957092662936574,
           0.8866711437385595,
           0.8755806331893965,
           0.904159321683532,
           0.8700704074629468,
           0.93293221432554,
           0.8694317379848383,
           0.8849201881406302,
           0.8519095250050368,
           0.9060752666029801,
           0.8857324794331951,
           0.8172226471539827,
           0.909189784445281,
           0.8478181658834619,
           0.8554504906105378,
           0.8644158493359647,
           0.8612533142606258,
           0.8506820475884856,
           0.8615505043416857,
           0.8060154349691153,
           0.8547951143217596,
           0.887491848407364
          ],
          [
           0.9092952103452987,
           0.8727591201087899,
           1.0000000000000007,
           0.8974608276319878,
           0.8594737967422997,
           0.8440736865407666,
           0.8674002901105681,
           0.8981055472127555,
           0.9041177663854305,
           0.8572423690208216,
           0.9372967693229272,
           0.8266349399860707,
           0.8550282275164982,
           0.8281314248181552,
           0.8554109534176672,
           0.7946540841394928,
           0.8843813639496352,
           0.8812319797926673,
           0.8861875768401039,
           0.8392628802394557,
           0.9302683983877346,
           0.8685354359495875,
           0.8225940372818407,
           0.839433867130977,
           0.8355475804016665,
           0.8885889424850463,
           0.8735032583297585,
           0.7921792239380738,
           0.8633055854081015,
           0.7761493476593004,
           0.8347073311262196,
           0.862992948422709,
           0.8548559730316896
          ],
          [
           0.9360641151093388,
           0.8659490691029397,
           0.8974608276319878,
           0.9999999999999997,
           0.8734077596342953,
           0.9218279651387482,
           0.8405879234326092,
           0.8914772681658251,
           0.8864428508073943,
           0.9127157168393712,
           0.8700870574537704,
           0.8034652265615008,
           0.8700000264143487,
           0.8283261775837456,
           0.9128016036300562,
           0.7990011523235595,
           0.8786711657152002,
           0.8810804663022628,
           0.8879384189038249,
           0.8454372787239712,
           0.9119402634425411,
           0.8960177549395345,
           0.8756582501345895,
           0.8849601632099893,
           0.8420216428676051,
           0.9163630795941837,
           0.9123416718765506,
           0.7919044056290716,
           0.8813693561535396,
           0.8262141663990767,
           0.8519615045143905,
           0.8460735054569575,
           0.8727885611269105
          ],
          [
           0.8925498910832901,
           0.8652834962282071,
           0.8594737967422997,
           0.8734077596342953,
           1.0000000000000004,
           0.8280696576831298,
           0.8139782238731894,
           0.8714079600505346,
           0.8883002753560401,
           0.8262654231106956,
           0.8796215498351957,
           0.8006217647599717,
           0.7833178039203887,
           0.8152212789151894,
           0.8550584407529116,
           0.7689255742652151,
           0.870851294724781,
           0.8713101085524562,
           0.8888126222287376,
           0.802413733714345,
           0.8733761040960722,
           0.8696292799442592,
           0.7998800695177367,
           0.8229896747012178,
           0.833970928535945,
           0.8826020580898983,
           0.8671808857752846,
           0.7900915980896205,
           0.8574911539770539,
           0.7643234736379734,
           0.8664408360625377,
           0.8501538475180707,
           0.8907169485147792
          ],
          [
           0.8830507994644968,
           0.8042338231808264,
           0.8440736865407666,
           0.9218279651387482,
           0.8280696576831298,
           1.0000000000000004,
           0.7789514921902547,
           0.8564507805919793,
           0.8264480937201669,
           0.8373929848224404,
           0.8392504822856494,
           0.732209938563106,
           0.8039276915165182,
           0.7604558215661856,
           0.8280030698912648,
           0.7202704371463242,
           0.825735573169444,
           0.8414895288640867,
           0.8347290643864824,
           0.8001177239104691,
           0.8740107028407808,
           0.8306984156716751,
           0.8656149833714679,
           0.8138600497750397,
           0.8015293576534517,
           0.8361984867654978,
           0.8825281114835484,
           0.7418256431211468,
           0.8514145281657506,
           0.7454635654536108,
           0.8007198116628708,
           0.8178589499209903,
           0.8042163638767118
          ],
          [
           0.8751197901363582,
           0.8786927175090067,
           0.8674002901105681,
           0.8405879234326092,
           0.8139782238731894,
           0.7789514921902547,
           1.0000000000000022,
           0.8764349459613354,
           0.9009868454982645,
           0.8368538792949933,
           0.8765246145543661,
           0.8822707394972222,
           0.8315414881773661,
           0.8210914325977362,
           0.836236439691616,
           0.8058088576016437,
           0.8692067747626064,
           0.8057775103979575,
           0.8372590189415708,
           0.8165827675795903,
           0.8798675060328986,
           0.8312442773215396,
           0.7633925722664956,
           0.8473463332747084,
           0.7931657670746038,
           0.8153195564869036,
           0.8333550553958372,
           0.8421811483374567,
           0.8031501809530315,
           0.796632543032636,
           0.7568715400285689,
           0.7934601313184326,
           0.8409771820478968
          ],
          [
           0.9245647923147682,
           0.914692392038455,
           0.8981055472127555,
           0.8914772681658251,
           0.8714079600505346,
           0.8564507805919793,
           0.8764349459613354,
           1,
           0.9499097795583413,
           0.8693458336808089,
           0.9168530228964522,
           0.844431291090448,
           0.8529226665391489,
           0.8974921466398075,
           0.9033643982117963,
           0.8512719773679437,
           0.9372092292404434,
           0.9185225368951199,
           0.9432683903653574,
           0.8681713420936066,
           0.941557657741683,
           0.8735771366150487,
           0.8180498031259471,
           0.8687751002222054,
           0.904898860255427,
           0.8893705580676211,
           0.8660332433773658,
           0.856021870775306,
           0.902072637088875,
           0.8158803753693973,
           0.8239518376182265,
           0.894909095180659,
           0.8946643306674704
          ],
          [
           0.9407209765884935,
           0.9320528043519773,
           0.9041177663854305,
           0.8864428508073943,
           0.8883002753560401,
           0.8264480937201669,
           0.9009868454982645,
           0.9499097795583413,
           1.0000000000000009,
           0.8950965631171734,
           0.9226284196000301,
           0.9023156309254227,
           0.8622867129099318,
           0.9163606093142669,
           0.9112760894870839,
           0.8739155627153656,
           0.9363721493629904,
           0.8862774332748709,
           0.9525817884593608,
           0.8512063437007035,
           0.9469839199334762,
           0.8892630280567823,
           0.8211978761473843,
           0.8749826253197192,
           0.8952532685821398,
           0.9065756239634805,
           0.8729392074555572,
           0.8911752318768003,
           0.8956980611202,
           0.8422419314310825,
           0.8229880829627945,
           0.8778384714187898,
           0.9353848637228592
          ],
          [
           0.961649145063965,
           0.8957607564183914,
           0.8572423690208216,
           0.9127157168393712,
           0.8262654231106956,
           0.8373929848224404,
           0.8368538792949933,
           0.8693458336808089,
           0.8950965631171734,
           1,
           0.8436855391960122,
           0.8470812887384734,
           0.893548193880491,
           0.8597019213430852,
           0.9099680812736709,
           0.8667665785280134,
           0.9017297365660764,
           0.8383883806453784,
           0.8739553797519223,
           0.8341972173017217,
           0.8932107077082637,
           0.9134364933294923,
           0.8784682995153986,
           0.9216562476142974,
           0.826539904295427,
           0.8713128998565498,
           0.8766573441315467,
           0.7918666356129016,
           0.8541468797862115,
           0.8729706355995401,
           0.8092967996252928,
           0.810524129982215,
           0.8764697103598678
          ],
          [
           0.9091619050178851,
           0.9099630965613531,
           0.9372967693229272,
           0.8700870574537704,
           0.8796215498351957,
           0.8392504822856494,
           0.8765246145543661,
           0.9168530228964522,
           0.9226284196000301,
           0.8436855391960122,
           1.0000000000000013,
           0.8528793354724717,
           0.83470624622807,
           0.8297718819668325,
           0.8470250619907577,
           0.7904717547806317,
           0.9002028820058686,
           0.8876219125476447,
           0.8813402757219102,
           0.8310474672168151,
           0.9259701543025315,
           0.8583608258477533,
           0.8001905340784162,
           0.8434231433421545,
           0.8287714849318528,
           0.868535381258223,
           0.8832230954517728,
           0.8344926768991178,
           0.8478167295871026,
           0.767052243481874,
           0.8197556381762949,
           0.8901359231442464,
           0.8585341135619086
          ],
          [
           0.8693272812583653,
           0.8957092662936574,
           0.8266349399860707,
           0.8034652265615008,
           0.8006217647599717,
           0.732209938563106,
           0.8822707394972222,
           0.844431291090448,
           0.9023156309254227,
           0.8470812887384734,
           0.8528793354724717,
           1.0000000000000004,
           0.8494418905721182,
           0.8187870432865858,
           0.8437011931304734,
           0.8126871290001816,
           0.8635730340087784,
           0.7815498279467378,
           0.823280770601909,
           0.7796048492373084,
           0.8556480273240477,
           0.8292649360356349,
           0.7460679876345782,
           0.8431030474161852,
           0.7624158649377044,
           0.8039246179556673,
           0.8102548204162789,
           0.8439697310566553,
           0.7867382918145085,
           0.8144019519113385,
           0.7413108526826937,
           0.7866805293564085,
           0.8617369439780888
          ],
          [
           0.8967822496742265,
           0.8866711437385595,
           0.8550282275164982,
           0.8700000264143487,
           0.7833178039203887,
           0.8039276915165182,
           0.8315414881773661,
           0.8529226665391489,
           0.8622867129099318,
           0.893548193880491,
           0.83470624622807,
           0.8494418905721182,
           1.0000000000000002,
           0.814864772516537,
           0.863968183757032,
           0.8238123453467601,
           0.881678546456126,
           0.8008980737906882,
           0.8308001093773472,
           0.8297082020761682,
           0.8668092930506017,
           0.844235300672469,
           0.8038715484301316,
           0.873024894940852,
           0.798549608737179,
           0.8221826089127076,
           0.8355886657939994,
           0.7927866457033774,
           0.8151471266645411,
           0.8213729817690014,
           0.7658177467873628,
           0.7799927186831394,
           0.8344040470811026
          ],
          [
           0.8855266081938328,
           0.8755806331893965,
           0.8281314248181552,
           0.8283261775837456,
           0.8152212789151894,
           0.7604558215661856,
           0.8210914325977362,
           0.8974921466398075,
           0.9163606093142669,
           0.8597019213430852,
           0.8297718819668325,
           0.8187870432865858,
           0.814864772516537,
           1.0000000000000009,
           0.8603347729361375,
           0.9653539268103276,
           0.8681155809972978,
           0.8433094835493126,
           0.8988596982287684,
           0.8158849726623489,
           0.8792937910968017,
           0.844603084317029,
           0.7752505958131485,
           0.8229478183223811,
           0.8881947561254975,
           0.8399351886161711,
           0.8074093532271271,
           0.8078036999115712,
           0.8663765816345202,
           0.7928361238863116,
           0.7734633587941273,
           0.8306189381954072,
           0.888128081369845
          ],
          [
           0.9320988247080708,
           0.904159321683532,
           0.8554109534176672,
           0.9128016036300562,
           0.8550584407529116,
           0.8280030698912648,
           0.836236439691616,
           0.9033643982117963,
           0.9112760894870839,
           0.9099680812736709,
           0.8470250619907577,
           0.8437011931304734,
           0.863968183757032,
           0.8603347729361375,
           1.0000000000000009,
           0.8371008893812374,
           0.9065599016196573,
           0.8765317669960162,
           0.9141123719737866,
           0.8255888960136633,
           0.8909759638773634,
           0.8999342374518409,
           0.8436880809753179,
           0.9010836610888109,
           0.86464867395834,
           0.9104700370315165,
           0.8742878229337674,
           0.8043815109531877,
           0.8829510012290335,
           0.9115286571257515,
           0.8404847437700182,
           0.8388252254491818,
           0.9216095293340457
          ],
          [
           0.8669162166058502,
           0.8700704074629468,
           0.7946540841394928,
           0.7990011523235595,
           0.7689255742652151,
           0.7202704371463242,
           0.8058088576016437,
           0.8512719773679437,
           0.8739155627153656,
           0.8667665785280134,
           0.7904717547806317,
           0.8126871290001816,
           0.8238123453467601,
           0.9653539268103276,
           0.8371008893812374,
           1.0000000000000002,
           0.8606617504709645,
           0.7909668487756019,
           0.8366474858924058,
           0.7960436249240055,
           0.8348936950303286,
           0.8354473284691841,
           0.7491909458373631,
           0.8320417361093341,
           0.8204585694015751,
           0.7952185188301437,
           0.7797944063906734,
           0.7868390258792168,
           0.8110856210428601,
           0.8063644420897049,
           0.7367993685513157,
           0.7775530958638763,
           0.8479598464278812
          ],
          [
           0.9428674232062065,
           0.93293221432554,
           0.8843813639496352,
           0.8786711657152002,
           0.870851294724781,
           0.825735573169444,
           0.8692067747626064,
           0.9372092292404434,
           0.9363721493629904,
           0.9017297365660764,
           0.9002028820058686,
           0.8635730340087784,
           0.881678546456126,
           0.8681155809972978,
           0.9065599016196573,
           0.8606617504709645,
           1.0000000000000007,
           0.8791404167894418,
           0.9000175335707881,
           0.871222864142679,
           0.9111058831045827,
           0.8983000020197001,
           0.8221488394905333,
           0.919875460478124,
           0.8569647464916375,
           0.8718605292050992,
           0.8632698464946404,
           0.8724555121196698,
           0.8782767331856371,
           0.8694769878702266,
           0.8210849083213908,
           0.848947637822629,
           0.8813577455707176
          ],
          [
           0.8899683466009555,
           0.8694317379848383,
           0.8812319797926673,
           0.8810804663022628,
           0.8713101085524562,
           0.8414895288640867,
           0.8057775103979575,
           0.9185225368951199,
           0.8862774332748709,
           0.8383883806453784,
           0.8876219125476447,
           0.7815498279467378,
           0.8008980737906882,
           0.8433094835493126,
           0.8765317669960162,
           0.7909668487756019,
           0.8791404167894418,
           1.0000000000000007,
           0.9263075354986394,
           0.8268402964598488,
           0.9050239118101023,
           0.8450113483802366,
           0.8208747922367693,
           0.8276084739361024,
           0.8666439077313559,
           0.865680964961622,
           0.8429118143432218,
           0.7570705826390793,
           0.8812538499484543,
           0.7682000272269448,
           0.8479573496599737,
           0.9611922205484045,
           0.8599793625540926
          ],
          [
           0.9154580151689111,
           0.8849201881406302,
           0.8861875768401039,
           0.8879384189038249,
           0.8888126222287376,
           0.8347290643864824,
           0.8372590189415708,
           0.9432683903653574,
           0.9525817884593608,
           0.8739553797519223,
           0.8813402757219102,
           0.823280770601909,
           0.8308001093773472,
           0.8988596982287684,
           0.9141123719737866,
           0.8366474858924058,
           0.9000175335707881,
           0.9263075354986394,
           1.0000000000000004,
           0.8284340326151365,
           0.9306023468492992,
           0.8740067361862582,
           0.8308229678302423,
           0.8368668419318444,
           0.9280778041175956,
           0.9145767393820636,
           0.8496476017667473,
           0.8142444534998472,
           0.9233875127093786,
           0.8118955503455155,
           0.840415861464345,
           0.9105947651724188,
           0.9210320342500952
          ],
          [
           0.8675036702827152,
           0.8519095250050368,
           0.8392628802394557,
           0.8454372787239712,
           0.802413733714345,
           0.8001177239104691,
           0.8165827675795903,
           0.8681713420936066,
           0.8512063437007035,
           0.8341972173017217,
           0.8310474672168151,
           0.7796048492373084,
           0.8297082020761682,
           0.8158849726623489,
           0.8255888960136633,
           0.7960436249240055,
           0.871222864142679,
           0.8268402964598488,
           0.8284340326151365,
           1.0000000000000009,
           0.8559514584799544,
           0.8334696532829279,
           0.78851572550708,
           0.8337145915146695,
           0.8059341927397595,
           0.8121262429177634,
           0.8065052310696923,
           0.8171288556175746,
           0.8202900201940823,
           0.7802552186613786,
           0.7563984522086304,
           0.8010679684063813,
           0.8086983560647731
          ],
          [
           0.9448252706485618,
           0.9060752666029801,
           0.9302683983877346,
           0.9119402634425411,
           0.8733761040960722,
           0.8740107028407808,
           0.8798675060328986,
           0.941557657741683,
           0.9469839199334762,
           0.8932107077082637,
           0.9259701543025315,
           0.8556480273240477,
           0.8668092930506017,
           0.8792937910968017,
           0.8909759638773634,
           0.8348936950303286,
           0.9111058831045827,
           0.9050239118101023,
           0.9306023468492992,
           0.8559514584799544,
           1.0000000000000007,
           0.8930469913446527,
           0.8277758025339945,
           0.8700576167517082,
           0.8878195719185544,
           0.9007422384904197,
           0.8888340543097198,
           0.8161209140359411,
           0.9008375310556386,
           0.8103048898129614,
           0.8432565823404092,
           0.8911835350621796,
           0.894009449570531
          ],
          [
           0.9403660190184404,
           0.8857324794331951,
           0.8685354359495875,
           0.8960177549395345,
           0.8696292799442592,
           0.8306984156716751,
           0.8312442773215396,
           0.8735771366150487,
           0.8892630280567823,
           0.9134364933294923,
           0.8583608258477533,
           0.8292649360356349,
           0.844235300672469,
           0.844603084317029,
           0.8999342374518409,
           0.8354473284691841,
           0.8983000020197001,
           0.8450113483802366,
           0.8740067361862582,
           0.8334696532829279,
           0.8930469913446527,
           1.0000000000000007,
           0.8358618972443231,
           0.8861349881527514,
           0.8252864377013641,
           0.8857752626499327,
           0.8765356612774419,
           0.7953140267661258,
           0.8837626763070773,
           0.8558140222180973,
           0.850400030039576,
           0.8244943736852591,
           0.8969011808379593
          ],
          [
           0.8868581329156557,
           0.8172226471539827,
           0.8225940372818407,
           0.8756582501345895,
           0.7998800695177367,
           0.8656149833714679,
           0.7633925722664956,
           0.8180498031259471,
           0.8211978761473843,
           0.8784682995153986,
           0.8001905340784162,
           0.7460679876345782,
           0.8038715484301316,
           0.7752505958131485,
           0.8436880809753179,
           0.7491909458373631,
           0.8221488394905333,
           0.8208747922367693,
           0.8308229678302423,
           0.78851572550708,
           0.8277758025339945,
           0.8358618972443231,
           1.0000000000000002,
           0.8293134931907745,
           0.7831624830307109,
           0.8216149348590457,
           0.8525857620236706,
           0.7377886223652991,
           0.8228872585593774,
           0.7788262642344675,
           0.7793174605307691,
           0.7902142421873017,
           0.800230009829914
          ],
          [
           0.9450290107104425,
           0.909189784445281,
           0.839433867130977,
           0.8849601632099893,
           0.8229896747012178,
           0.8138600497750397,
           0.8473463332747084,
           0.8687751002222054,
           0.8749826253197192,
           0.9216562476142974,
           0.8434231433421545,
           0.8431030474161852,
           0.873024894940852,
           0.8229478183223811,
           0.9010836610888109,
           0.8320417361093341,
           0.919875460478124,
           0.8276084739361024,
           0.8368668419318444,
           0.8337145915146695,
           0.8700576167517082,
           0.8861349881527514,
           0.8293134931907745,
           0.9999999999999999,
           0.7909961739659372,
           0.8452333662129755,
           0.8578196428970208,
           0.8257099860577229,
           0.8350969226103151,
           0.8982574106682437,
           0.786611361902738,
           0.7929520535411742,
           0.8404222613839915
          ],
          [
           0.8705992716109002,
           0.8478181658834619,
           0.8355475804016665,
           0.8420216428676051,
           0.833970928535945,
           0.8015293576534517,
           0.7931657670746038,
           0.904898860255427,
           0.8952532685821398,
           0.826539904295427,
           0.8287714849318528,
           0.7624158649377044,
           0.798549608737179,
           0.8881947561254975,
           0.86464867395834,
           0.8204585694015751,
           0.8569647464916375,
           0.8666439077313559,
           0.9280778041175956,
           0.8059341927397595,
           0.8878195719185544,
           0.8252864377013641,
           0.7831624830307109,
           0.7909961739659372,
           1.000000000000001,
           0.8599131507225599,
           0.8043674467354868,
           0.7620524512335651,
           0.8749129709526388,
           0.7630798573899099,
           0.7820294938583356,
           0.8438927849267689,
           0.8792880827245799
          ],
          [
           0.9179766703167905,
           0.8554504906105378,
           0.8885889424850463,
           0.9163630795941837,
           0.8826020580898983,
           0.8361984867654978,
           0.8153195564869036,
           0.8893705580676211,
           0.9065756239634805,
           0.8713128998565498,
           0.868535381258223,
           0.8039246179556673,
           0.8221826089127076,
           0.8399351886161711,
           0.9104700370315165,
           0.7952185188301437,
           0.8718605292050992,
           0.865680964961622,
           0.9145767393820636,
           0.8121262429177634,
           0.9007422384904197,
           0.8857752626499327,
           0.8216149348590457,
           0.8452333662129755,
           0.8599131507225599,
           1.0000000000000007,
           0.8928348677545013,
           0.7927765746335748,
           0.8989453513263853,
           0.8113693090657836,
           0.8573543973962382,
           0.8358821448521307,
           0.9069752944096353
          ],
          [
           0.9238204946689984,
           0.8644158493359647,
           0.8735032583297585,
           0.9123416718765506,
           0.8671808857752846,
           0.8825281114835484,
           0.8333550553958372,
           0.8660332433773658,
           0.8729392074555572,
           0.8766573441315467,
           0.8832230954517728,
           0.8102548204162789,
           0.8355886657939994,
           0.8074093532271271,
           0.8742878229337674,
           0.7797944063906734,
           0.8632698464946404,
           0.8429118143432218,
           0.8496476017667473,
           0.8065052310696923,
           0.8888340543097198,
           0.8765356612774419,
           0.8525857620236706,
           0.8578196428970208,
           0.8043674467354868,
           0.8928348677545013,
           1.0000000000000002,
           0.7884533999810283,
           0.8435057897407854,
           0.8025623839643773,
           0.8341233012515563,
           0.8119233321699756,
           0.8556505597363857
          ],
          [
           0.835586392444619,
           0.8612533142606258,
           0.7921792239380738,
           0.7919044056290716,
           0.7900915980896205,
           0.7418256431211468,
           0.8421811483374567,
           0.856021870775306,
           0.8911752318768003,
           0.7918666356129016,
           0.8344926768991178,
           0.8439697310566553,
           0.7927866457033774,
           0.8078036999115712,
           0.8043815109531877,
           0.7868390258792168,
           0.8724555121196698,
           0.7570705826390793,
           0.8142444534998472,
           0.8171288556175746,
           0.8161209140359411,
           0.7953140267661258,
           0.7377886223652991,
           0.8257099860577229,
           0.7620524512335651,
           0.7927765746335748,
           0.7884533999810283,
           1.000000000000001,
           0.8046310713555576,
           0.7946982027107279,
           0.6784669210095938,
           0.7480088762838883,
           0.7988957175212285
          ],
          [
           0.9078760191903522,
           0.8506820475884856,
           0.8633055854081015,
           0.8813693561535396,
           0.8574911539770539,
           0.8514145281657506,
           0.8031501809530315,
           0.902072637088875,
           0.8956980611202,
           0.8541468797862115,
           0.8478167295871026,
           0.7867382918145085,
           0.8151471266645411,
           0.8663765816345202,
           0.8829510012290335,
           0.8110856210428601,
           0.8782767331856371,
           0.8812538499484543,
           0.9233875127093786,
           0.8202900201940823,
           0.9008375310556386,
           0.8837626763070773,
           0.8228872585593774,
           0.8350969226103151,
           0.8749129709526388,
           0.8989453513263853,
           0.8435057897407854,
           0.8046310713555576,
           1.000000000000001,
           0.8074815316622159,
           0.8400985332381836,
           0.8630164710920302,
           0.8873180362539209
          ],
          [
           0.8847751447497938,
           0.8615505043416857,
           0.7761493476593004,
           0.8262141663990767,
           0.7643234736379734,
           0.7454635654536108,
           0.796632543032636,
           0.8158803753693973,
           0.8422419314310825,
           0.8729706355995401,
           0.767052243481874,
           0.8144019519113385,
           0.8213729817690014,
           0.7928361238863116,
           0.9115286571257515,
           0.8063644420897049,
           0.8694769878702266,
           0.7682000272269448,
           0.8118955503455155,
           0.7802552186613786,
           0.8103048898129614,
           0.8558140222180973,
           0.7788262642344675,
           0.8982574106682437,
           0.7630798573899099,
           0.8113693090657836,
           0.8025623839643773,
           0.7946982027107279,
           0.8074815316622159,
           1.000000000000001,
           0.7405386947908419,
           0.7382891985885901,
           0.8319889678929244
          ],
          [
           0.8652795836851015,
           0.8060154349691153,
           0.8347073311262196,
           0.8519615045143905,
           0.8664408360625377,
           0.8007198116628708,
           0.7568715400285689,
           0.8239518376182265,
           0.8229880829627945,
           0.8092967996252928,
           0.8197556381762949,
           0.7413108526826937,
           0.7658177467873628,
           0.7734633587941273,
           0.8404847437700182,
           0.7367993685513157,
           0.8210849083213908,
           0.8479573496599737,
           0.840415861464345,
           0.7563984522086304,
           0.8432565823404092,
           0.850400030039576,
           0.7793174605307691,
           0.786611361902738,
           0.7820294938583356,
           0.8573543973962382,
           0.8341233012515563,
           0.6784669210095938,
           0.8400985332381836,
           0.7405386947908419,
           1.0000000000000004,
           0.836186720321328,
           0.8737679792915782
          ],
          [
           0.8667527770918408,
           0.8547951143217596,
           0.862992948422709,
           0.8460735054569575,
           0.8501538475180707,
           0.8178589499209903,
           0.7934601313184326,
           0.894909095180659,
           0.8778384714187898,
           0.810524129982215,
           0.8901359231442464,
           0.7866805293564085,
           0.7799927186831394,
           0.8306189381954072,
           0.8388252254491818,
           0.7775530958638763,
           0.848947637822629,
           0.9611922205484045,
           0.9105947651724188,
           0.8010679684063813,
           0.8911835350621796,
           0.8244943736852591,
           0.7902142421873017,
           0.7929520535411742,
           0.8438927849267689,
           0.8358821448521307,
           0.8119233321699756,
           0.7480088762838883,
           0.8630164710920302,
           0.7382891985885901,
           0.836186720321328,
           1.0000000000000007,
           0.8458048108413735
          ],
          [
           0.9163266054736161,
           0.887491848407364,
           0.8548559730316896,
           0.8727885611269105,
           0.8907169485147792,
           0.8042163638767118,
           0.8409771820478968,
           0.8946643306674704,
           0.9353848637228592,
           0.8764697103598678,
           0.8585341135619086,
           0.8617369439780888,
           0.8344040470811026,
           0.888128081369845,
           0.9216095293340457,
           0.8479598464278812,
           0.8813577455707176,
           0.8599793625540926,
           0.9210320342500952,
           0.8086983560647731,
           0.894009449570531,
           0.8969011808379593,
           0.800230009829914,
           0.8404222613839915,
           0.8792880827245799,
           0.9069752944096353,
           0.8556505597363857,
           0.7988957175212285,
           0.8873180362539209,
           0.8319889678929244,
           0.8737679792915782,
           0.8458048108413735,
           1.0000000000000007
          ]
         ]
        }
       ],
       "layout": {
        "coloraxis": {
         "colorbar": {
          "title": {
           "text": "Similarity Score"
          }
         },
         "colorscale": [
          [
           0,
           "rgb(247,252,240)"
          ],
          [
           0.125,
           "rgb(224,243,219)"
          ],
          [
           0.25,
           "rgb(204,235,197)"
          ],
          [
           0.375,
           "rgb(168,221,181)"
          ],
          [
           0.5,
           "rgb(123,204,196)"
          ],
          [
           0.625,
           "rgb(78,179,211)"
          ],
          [
           0.75,
           "rgb(43,140,190)"
          ],
          [
           0.875,
           "rgb(8,104,172)"
          ],
          [
           1,
           "rgb(8,64,129)"
          ]
         ]
        },
        "height": 800,
        "hoverlabel": {
         "bgcolor": "white",
         "font": {
          "family": "Rockwell",
          "size": 16
         }
        },
        "legend": {
         "title": {
          "text": "Trend"
         }
        },
        "margin": {
         "t": 60
        },
        "showlegend": true,
        "template": {
         "data": {
          "bar": [
           {
            "error_x": {
             "color": "#2a3f5f"
            },
            "error_y": {
             "color": "#2a3f5f"
            },
            "marker": {
             "line": {
              "color": "#E5ECF6",
              "width": 0.5
             },
             "pattern": {
              "fillmode": "overlay",
              "size": 10,
              "solidity": 0.2
             }
            },
            "type": "bar"
           }
          ],
          "barpolar": [
           {
            "marker": {
             "line": {
              "color": "#E5ECF6",
              "width": 0.5
             },
             "pattern": {
              "fillmode": "overlay",
              "size": 10,
              "solidity": 0.2
             }
            },
            "type": "barpolar"
           }
          ],
          "carpet": [
           {
            "aaxis": {
             "endlinecolor": "#2a3f5f",
             "gridcolor": "white",
             "linecolor": "white",
             "minorgridcolor": "white",
             "startlinecolor": "#2a3f5f"
            },
            "baxis": {
             "endlinecolor": "#2a3f5f",
             "gridcolor": "white",
             "linecolor": "white",
             "minorgridcolor": "white",
             "startlinecolor": "#2a3f5f"
            },
            "type": "carpet"
           }
          ],
          "choropleth": [
           {
            "colorbar": {
             "outlinewidth": 0,
             "ticks": ""
            },
            "type": "choropleth"
           }
          ],
          "contour": [
           {
            "colorbar": {
             "outlinewidth": 0,
             "ticks": ""
            },
            "colorscale": [
             [
              0,
              "#0d0887"
             ],
             [
              0.1111111111111111,
              "#46039f"
             ],
             [
              0.2222222222222222,
              "#7201a8"
             ],
             [
              0.3333333333333333,
              "#9c179e"
             ],
             [
              0.4444444444444444,
              "#bd3786"
             ],
             [
              0.5555555555555556,
              "#d8576b"
             ],
             [
              0.6666666666666666,
              "#ed7953"
             ],
             [
              0.7777777777777778,
              "#fb9f3a"
             ],
             [
              0.8888888888888888,
              "#fdca26"
             ],
             [
              1,
              "#f0f921"
             ]
            ],
            "type": "contour"
           }
          ],
          "contourcarpet": [
           {
            "colorbar": {
             "outlinewidth": 0,
             "ticks": ""
            },
            "type": "contourcarpet"
           }
          ],
          "heatmap": [
           {
            "colorbar": {
             "outlinewidth": 0,
             "ticks": ""
            },
            "colorscale": [
             [
              0,
              "#0d0887"
             ],
             [
              0.1111111111111111,
              "#46039f"
             ],
             [
              0.2222222222222222,
              "#7201a8"
             ],
             [
              0.3333333333333333,
              "#9c179e"
             ],
             [
              0.4444444444444444,
              "#bd3786"
             ],
             [
              0.5555555555555556,
              "#d8576b"
             ],
             [
              0.6666666666666666,
              "#ed7953"
             ],
             [
              0.7777777777777778,
              "#fb9f3a"
             ],
             [
              0.8888888888888888,
              "#fdca26"
             ],
             [
              1,
              "#f0f921"
             ]
            ],
            "type": "heatmap"
           }
          ],
          "heatmapgl": [
           {
            "colorbar": {
             "outlinewidth": 0,
             "ticks": ""
            },
            "colorscale": [
             [
              0,
              "#0d0887"
             ],
             [
              0.1111111111111111,
              "#46039f"
             ],
             [
              0.2222222222222222,
              "#7201a8"
             ],
             [
              0.3333333333333333,
              "#9c179e"
             ],
             [
              0.4444444444444444,
              "#bd3786"
             ],
             [
              0.5555555555555556,
              "#d8576b"
             ],
             [
              0.6666666666666666,
              "#ed7953"
             ],
             [
              0.7777777777777778,
              "#fb9f3a"
             ],
             [
              0.8888888888888888,
              "#fdca26"
             ],
             [
              1,
              "#f0f921"
             ]
            ],
            "type": "heatmapgl"
           }
          ],
          "histogram": [
           {
            "marker": {
             "pattern": {
              "fillmode": "overlay",
              "size": 10,
              "solidity": 0.2
             }
            },
            "type": "histogram"
           }
          ],
          "histogram2d": [
           {
            "colorbar": {
             "outlinewidth": 0,
             "ticks": ""
            },
            "colorscale": [
             [
              0,
              "#0d0887"
             ],
             [
              0.1111111111111111,
              "#46039f"
             ],
             [
              0.2222222222222222,
              "#7201a8"
             ],
             [
              0.3333333333333333,
              "#9c179e"
             ],
             [
              0.4444444444444444,
              "#bd3786"
             ],
             [
              0.5555555555555556,
              "#d8576b"
             ],
             [
              0.6666666666666666,
              "#ed7953"
             ],
             [
              0.7777777777777778,
              "#fb9f3a"
             ],
             [
              0.8888888888888888,
              "#fdca26"
             ],
             [
              1,
              "#f0f921"
             ]
            ],
            "type": "histogram2d"
           }
          ],
          "histogram2dcontour": [
           {
            "colorbar": {
             "outlinewidth": 0,
             "ticks": ""
            },
            "colorscale": [
             [
              0,
              "#0d0887"
             ],
             [
              0.1111111111111111,
              "#46039f"
             ],
             [
              0.2222222222222222,
              "#7201a8"
             ],
             [
              0.3333333333333333,
              "#9c179e"
             ],
             [
              0.4444444444444444,
              "#bd3786"
             ],
             [
              0.5555555555555556,
              "#d8576b"
             ],
             [
              0.6666666666666666,
              "#ed7953"
             ],
             [
              0.7777777777777778,
              "#fb9f3a"
             ],
             [
              0.8888888888888888,
              "#fdca26"
             ],
             [
              1,
              "#f0f921"
             ]
            ],
            "type": "histogram2dcontour"
           }
          ],
          "mesh3d": [
           {
            "colorbar": {
             "outlinewidth": 0,
             "ticks": ""
            },
            "type": "mesh3d"
           }
          ],
          "parcoords": [
           {
            "line": {
             "colorbar": {
              "outlinewidth": 0,
              "ticks": ""
             }
            },
            "type": "parcoords"
           }
          ],
          "pie": [
           {
            "automargin": true,
            "type": "pie"
           }
          ],
          "scatter": [
           {
            "fillpattern": {
             "fillmode": "overlay",
             "size": 10,
             "solidity": 0.2
            },
            "type": "scatter"
           }
          ],
          "scatter3d": [
           {
            "line": {
             "colorbar": {
              "outlinewidth": 0,
              "ticks": ""
             }
            },
            "marker": {
             "colorbar": {
              "outlinewidth": 0,
              "ticks": ""
             }
            },
            "type": "scatter3d"
           }
          ],
          "scattercarpet": [
           {
            "marker": {
             "colorbar": {
              "outlinewidth": 0,
              "ticks": ""
             }
            },
            "type": "scattercarpet"
           }
          ],
          "scattergeo": [
           {
            "marker": {
             "colorbar": {
              "outlinewidth": 0,
              "ticks": ""
             }
            },
            "type": "scattergeo"
           }
          ],
          "scattergl": [
           {
            "marker": {
             "colorbar": {
              "outlinewidth": 0,
              "ticks": ""
             }
            },
            "type": "scattergl"
           }
          ],
          "scattermapbox": [
           {
            "marker": {
             "colorbar": {
              "outlinewidth": 0,
              "ticks": ""
             }
            },
            "type": "scattermapbox"
           }
          ],
          "scatterpolar": [
           {
            "marker": {
             "colorbar": {
              "outlinewidth": 0,
              "ticks": ""
             }
            },
            "type": "scatterpolar"
           }
          ],
          "scatterpolargl": [
           {
            "marker": {
             "colorbar": {
              "outlinewidth": 0,
              "ticks": ""
             }
            },
            "type": "scatterpolargl"
           }
          ],
          "scatterternary": [
           {
            "marker": {
             "colorbar": {
              "outlinewidth": 0,
              "ticks": ""
             }
            },
            "type": "scatterternary"
           }
          ],
          "surface": [
           {
            "colorbar": {
             "outlinewidth": 0,
             "ticks": ""
            },
            "colorscale": [
             [
              0,
              "#0d0887"
             ],
             [
              0.1111111111111111,
              "#46039f"
             ],
             [
              0.2222222222222222,
              "#7201a8"
             ],
             [
              0.3333333333333333,
              "#9c179e"
             ],
             [
              0.4444444444444444,
              "#bd3786"
             ],
             [
              0.5555555555555556,
              "#d8576b"
             ],
             [
              0.6666666666666666,
              "#ed7953"
             ],
             [
              0.7777777777777778,
              "#fb9f3a"
             ],
             [
              0.8888888888888888,
              "#fdca26"
             ],
             [
              1,
              "#f0f921"
             ]
            ],
            "type": "surface"
           }
          ],
          "table": [
           {
            "cells": {
             "fill": {
              "color": "#EBF0F8"
             },
             "line": {
              "color": "white"
             }
            },
            "header": {
             "fill": {
              "color": "#C8D4E3"
             },
             "line": {
              "color": "white"
             }
            },
            "type": "table"
           }
          ]
         },
         "layout": {
          "annotationdefaults": {
           "arrowcolor": "#2a3f5f",
           "arrowhead": 0,
           "arrowwidth": 1
          },
          "autotypenumbers": "strict",
          "coloraxis": {
           "colorbar": {
            "outlinewidth": 0,
            "ticks": ""
           }
          },
          "colorscale": {
           "diverging": [
            [
             0,
             "#8e0152"
            ],
            [
             0.1,
             "#c51b7d"
            ],
            [
             0.2,
             "#de77ae"
            ],
            [
             0.3,
             "#f1b6da"
            ],
            [
             0.4,
             "#fde0ef"
            ],
            [
             0.5,
             "#f7f7f7"
            ],
            [
             0.6,
             "#e6f5d0"
            ],
            [
             0.7,
             "#b8e186"
            ],
            [
             0.8,
             "#7fbc41"
            ],
            [
             0.9,
             "#4d9221"
            ],
            [
             1,
             "#276419"
            ]
           ],
           "sequential": [
            [
             0,
             "#0d0887"
            ],
            [
             0.1111111111111111,
             "#46039f"
            ],
            [
             0.2222222222222222,
             "#7201a8"
            ],
            [
             0.3333333333333333,
             "#9c179e"
            ],
            [
             0.4444444444444444,
             "#bd3786"
            ],
            [
             0.5555555555555556,
             "#d8576b"
            ],
            [
             0.6666666666666666,
             "#ed7953"
            ],
            [
             0.7777777777777778,
             "#fb9f3a"
            ],
            [
             0.8888888888888888,
             "#fdca26"
            ],
            [
             1,
             "#f0f921"
            ]
           ],
           "sequentialminus": [
            [
             0,
             "#0d0887"
            ],
            [
             0.1111111111111111,
             "#46039f"
            ],
            [
             0.2222222222222222,
             "#7201a8"
            ],
            [
             0.3333333333333333,
             "#9c179e"
            ],
            [
             0.4444444444444444,
             "#bd3786"
            ],
            [
             0.5555555555555556,
             "#d8576b"
            ],
            [
             0.6666666666666666,
             "#ed7953"
            ],
            [
             0.7777777777777778,
             "#fb9f3a"
            ],
            [
             0.8888888888888888,
             "#fdca26"
            ],
            [
             1,
             "#f0f921"
            ]
           ]
          },
          "colorway": [
           "#636efa",
           "#EF553B",
           "#00cc96",
           "#ab63fa",
           "#FFA15A",
           "#19d3f3",
           "#FF6692",
           "#B6E880",
           "#FF97FF",
           "#FECB52"
          ],
          "font": {
           "color": "#2a3f5f"
          },
          "geo": {
           "bgcolor": "white",
           "lakecolor": "white",
           "landcolor": "#E5ECF6",
           "showlakes": true,
           "showland": true,
           "subunitcolor": "white"
          },
          "hoverlabel": {
           "align": "left"
          },
          "hovermode": "closest",
          "mapbox": {
           "style": "light"
          },
          "paper_bgcolor": "white",
          "plot_bgcolor": "#E5ECF6",
          "polar": {
           "angularaxis": {
            "gridcolor": "white",
            "linecolor": "white",
            "ticks": ""
           },
           "bgcolor": "#E5ECF6",
           "radialaxis": {
            "gridcolor": "white",
            "linecolor": "white",
            "ticks": ""
           }
          },
          "scene": {
           "xaxis": {
            "backgroundcolor": "#E5ECF6",
            "gridcolor": "white",
            "gridwidth": 2,
            "linecolor": "white",
            "showbackground": true,
            "ticks": "",
            "zerolinecolor": "white"
           },
           "yaxis": {
            "backgroundcolor": "#E5ECF6",
            "gridcolor": "white",
            "gridwidth": 2,
            "linecolor": "white",
            "showbackground": true,
            "ticks": "",
            "zerolinecolor": "white"
           },
           "zaxis": {
            "backgroundcolor": "#E5ECF6",
            "gridcolor": "white",
            "gridwidth": 2,
            "linecolor": "white",
            "showbackground": true,
            "ticks": "",
            "zerolinecolor": "white"
           }
          },
          "shapedefaults": {
           "line": {
            "color": "#2a3f5f"
           }
          },
          "ternary": {
           "aaxis": {
            "gridcolor": "white",
            "linecolor": "white",
            "ticks": ""
           },
           "baxis": {
            "gridcolor": "white",
            "linecolor": "white",
            "ticks": ""
           },
           "bgcolor": "#E5ECF6",
           "caxis": {
            "gridcolor": "white",
            "linecolor": "white",
            "ticks": ""
           }
          },
          "title": {
           "x": 0.05
          },
          "xaxis": {
           "automargin": true,
           "gridcolor": "white",
           "linecolor": "white",
           "ticks": "",
           "title": {
            "standoff": 15
           },
           "zerolinecolor": "white",
           "zerolinewidth": 2
          },
          "yaxis": {
           "automargin": true,
           "gridcolor": "white",
           "linecolor": "white",
           "ticks": "",
           "title": {
            "standoff": 15
           },
           "zerolinecolor": "white",
           "zerolinewidth": 2
          }
         }
        },
        "title": {
         "font": {
          "color": "Black",
          "size": 22
         },
         "text": "<b>Similarity Matrix</b>",
         "x": 0.55,
         "xanchor": "center",
         "y": 0.95,
         "yanchor": "top"
        },
        "width": 800,
        "xaxis": {
         "anchor": "y",
         "constrain": "domain",
         "domain": [
          0,
          1
         ],
         "scaleanchor": "y"
        },
        "yaxis": {
         "anchor": "x",
         "autorange": "reversed",
         "constrain": "domain",
         "domain": [
          0,
          1
         ]
        }
       }
      }
     },
     "metadata": {},
     "output_type": "display_data"
    }
   ],
   "source": [
    "fig_heatmap = best_topic_model.visualize_heatmap()\n",
    "fig_heatmap_filename = f\"topic_heatmap_auto_{suffix}.html\"\n",
    "fig_heatmap.write_html(fig_heatmap_filename)\n",
    "print(f\"自动聚类后的主题相似度热图已保存为 {fig_heatmap_filename}\")\n",
    "fig_heatmap.show()"
   ]
  },
  {
   "cell_type": "markdown",
   "metadata": {},
   "source": [
    "## 4-5 层次聚类 Hierarchical Clustering"
   ]
  },
  {
   "cell_type": "code",
   "execution_count": 24,
   "metadata": {},
   "outputs": [
    {
     "name": "stderr",
     "output_type": "stream",
     "text": [
      "100%|██████████| 32/32 [00:00<00:00, 260.87it/s]\n"
     ]
    },
    {
     "name": "stdout",
     "output_type": "stream",
     "text": [
      "自动聚类后的层次聚类结果已保存为 hierarchical_topics_auto_antifeminism3.23-1.html\n"
     ]
    },
    {
     "data": {
      "application/vnd.plotly.v1+json": {
       "config": {
        "plotlyServerURL": "https://plot.ly"
       },
       "data": [
        {
         "hoverinfo": "text",
         "marker": {
          "color": "rgb(61,153,112)"
         },
         "mode": "lines",
         "text": [
          "四妹_有个_兄弟_地方_作用",
          "",
          "",
          "四妹_兄弟_全是_地方_有个"
         ],
         "type": "scatter",
         "x": [
          0,
          0.011645170421715867,
          0.011645170421715867,
          0
         ],
         "xaxis": "x",
         "y": [
          -5,
          -5,
          -15,
          -15
         ],
         "yaxis": "y"
        },
        {
         "hoverinfo": "text",
         "marker": {
          "color": "rgb(61,153,112)"
         },
         "mode": "lines",
         "text": [
          "四妹_兄弟_有个_地方_作用",
          "",
          "",
          "四妹_仙人_孩子_剧情_故事"
         ],
         "type": "scatter",
         "x": [
          0.011645170421715867,
          0.6646115043110409,
          0.6646115043110409,
          0
         ],
         "xaxis": "x",
         "y": [
          -10,
          -10,
          -25,
          -25
         ],
         "yaxis": "y"
        },
        {
         "hoverinfo": "text",
         "marker": {
          "color": "rgb(255,65,54)"
         },
         "mode": "lines",
         "text": [
          "民族_例子_审美_提到_情况",
          "",
          "",
          "原型_建模_美丽_例子_提到"
         ],
         "type": "scatter",
         "x": [
          0,
          0.35554934546688244,
          0.35554934546688244,
          0
         ],
         "xaxis": "x",
         "y": [
          -35,
          -35,
          -45,
          -45
         ],
         "yaxis": "y"
        },
        {
         "hoverinfo": "text",
         "marker": {
          "color": "rgb(35,205,205)"
         },
         "mode": "lines",
         "text": [
          "悟空_女性角色_组织_ign_审美",
          "",
          "",
          "韩国_视频_一条_外国_西方"
         ],
         "type": "scatter",
         "x": [
          0,
          0.7121994464079717,
          0.7121994464079717,
          0
         ],
         "xaxis": "x",
         "y": [
          -55,
          -55,
          -65,
          -65
         ],
         "yaxis": "y"
        },
        {
         "hoverinfo": "text",
         "marker": {
          "color": "rgb(35,205,205)"
         },
         "mode": "lines",
         "text": [
          "女性角色_悟空_西方_韩国_视频",
          "",
          "",
          "眯眯眼_外国_是因为_意识_颜值"
         ],
         "type": "scatter",
         "x": [
          0.7121994464079717,
          0.7206298752991523,
          0.7206298752991523,
          0
         ],
         "xaxis": "x",
         "y": [
          -60,
          -60,
          -75,
          -75
         ],
         "yaxis": "y"
        },
        {
         "hoverinfo": "text",
         "marker": {
          "color": "rgb(0,116,217)"
         },
         "mode": "lines",
         "text": [
          "原型_建模_例子_提到_情况",
          "",
          "",
          "外国_眯眯眼_西方_喜欢_是因为"
         ],
         "type": "scatter",
         "x": [
          0.35554934546688244,
          1.0160698705888258,
          1.0160698705888258,
          0.7206298752991523
         ],
         "xaxis": "x",
         "y": [
          -40,
          -40,
          -67.5,
          -67.5
         ],
         "yaxis": "y"
        },
        {
         "hoverinfo": "text",
         "marker": {
          "color": "rgb(133,20,75)"
         },
         "mode": "lines",
         "text": [
          "乙游_一句_官方_玩游戏_男生",
          "",
          "",
          "乙游_算是_原神_玩乙游_乙女游戏"
         ],
         "type": "scatter",
         "x": [
          0,
          0.6581025108903007,
          0.6581025108903007,
          0
         ],
         "xaxis": "x",
         "y": [
          -85,
          -85,
          -95,
          -95
         ],
         "yaxis": "y"
        },
        {
         "hoverinfo": "text",
         "marker": {
          "color": "rgb(255,220,0)"
         },
         "mode": "lines",
         "text": [
          "黑神话_屁股_黑猴_不配_女籍",
          "",
          "",
          "瑞幸_抵制_侮辱_几年_黑神话"
         ],
         "type": "scatter",
         "x": [
          0,
          0.6398709446197894,
          0.6398709446197894,
          0
         ],
         "xaxis": "x",
         "y": [
          -115,
          -115,
          -125,
          -125
         ],
         "yaxis": "y"
        },
        {
         "hoverinfo": "text",
         "marker": {
          "color": "rgb(255,220,0)"
         },
         "mode": "lines",
         "text": [
          "态度_联动_抵制_真的_造谣",
          "",
          "",
          "大作_女玩家_微博_选择_发动"
         ],
         "type": "scatter",
         "x": [
          0,
          0.8516882968693288,
          0.8516882968693288,
          0
         ],
         "xaxis": "x",
         "y": [
          -135,
          -135,
          -145,
          -145
         ],
         "yaxis": "y"
        },
        {
         "hoverinfo": "text",
         "marker": {
          "color": "rgb(255,220,0)"
         },
         "mode": "lines",
         "text": [
          "瑞幸_抵制_黑神话_侮辱_几年",
          "",
          "",
          "态度_联动_抵制_大作_女玩家"
         ],
         "type": "scatter",
         "x": [
          0.6398709446197894,
          0.8867333401236883,
          0.8867333401236883,
          0.8516882968693288
         ],
         "xaxis": "x",
         "y": [
          -120,
          -120,
          -140,
          -140
         ],
         "yaxis": "y"
        },
        {
         "hoverinfo": "text",
         "marker": {
          "color": "rgb(255,220,0)"
         },
         "mode": "lines",
         "text": [
          "爱国_为啥_营销_大部分_真的",
          "",
          "",
          "抵制_联动_态度_瑞幸_大作"
         ],
         "type": "scatter",
         "x": [
          0,
          0.9575917557267136,
          0.9575917557267136,
          0.8867333401236883
         ],
         "xaxis": "x",
         "y": [
          -105,
          -105,
          -130,
          -130
         ],
         "yaxis": "y"
        },
        {
         "hoverinfo": "text",
         "marker": {
          "color": "rgb(40,35,35)"
         },
         "mode": "lines",
         "text": [
          "特别_策划_星鸣特攻_赚钱_玩游戏",
          "",
          "",
          "ign_指责_策划_星鸣特攻_特别"
         ],
         "type": "scatter",
         "x": [
          0,
          0.5023467450333774,
          0.5023467450333774,
          0
         ],
         "xaxis": "x",
         "y": [
          -155,
          -155,
          -165,
          -165
         ],
         "yaxis": "y"
        },
        {
         "hoverinfo": "text",
         "marker": {
          "color": "rgb(0,116,217)"
         },
         "mode": "lines",
         "text": [
          "抵制_真的_联动_为啥_爱国",
          "",
          "",
          "特别_策划_星鸣特攻_赚钱_原因"
         ],
         "type": "scatter",
         "x": [
          0.9575917557267136,
          1.1231856686662063,
          1.1231856686662063,
          0.5023467450333774
         ],
         "xaxis": "x",
         "y": [
          -117.5,
          -117.5,
          -160,
          -160
         ],
         "yaxis": "y"
        },
        {
         "hoverinfo": "text",
         "marker": {
          "color": "rgb(0,116,217)"
         },
         "mode": "lines",
         "text": [
          "乙游_乙女游戏_算是_原神_玩乙游",
          "",
          "",
          "特别_策划_星鸣特攻_游戏_赚钱"
         ],
         "type": "scatter",
         "x": [
          0.6581025108903007,
          1.1574317913286607,
          1.1574317913286607,
          1.1231856686662063
         ],
         "xaxis": "x",
         "y": [
          -90,
          -90,
          -138.75,
          -138.75
         ],
         "yaxis": "y"
        },
        {
         "hoverinfo": "text",
         "marker": {
          "color": "rgb(61,153,112)"
         },
         "mode": "lines",
         "text": [
          "性别歧视_发布_媒体_中国_网上",
          "",
          "",
          "观点_报道_冯骥_游戏科学_宣传"
         ],
         "type": "scatter",
         "x": [
          0,
          0.4586589411355131,
          0.4586589411355131,
          0
         ],
         "xaxis": "x",
         "y": [
          -175,
          -175,
          -185,
          -185
         ],
         "yaxis": "y"
        },
        {
         "hoverinfo": "text",
         "marker": {
          "color": "rgb(255,65,54)"
         },
         "mode": "lines",
         "text": [
          "增加_相关_外媒_几年_未来",
          "",
          "",
          "西游记_多元_成立_神话_玩家"
         ],
         "type": "scatter",
         "x": [
          0,
          0.848682509411399,
          0.848682509411399,
          0
         ],
         "xaxis": "x",
         "y": [
          -195,
          -195,
          -205,
          -205
         ],
         "yaxis": "y"
        },
        {
         "hoverinfo": "text",
         "marker": {
          "color": "rgb(35,205,205)"
         },
         "mode": "lines",
         "text": [
          "影响_言论_工作室_代表_意识",
          "",
          "",
          "记者_报道_目的_国内_想要"
         ],
         "type": "scatter",
         "x": [
          0,
          0.8853165059612708,
          0.8853165059612708,
          0
         ],
         "xaxis": "x",
         "y": [
          -215,
          -215,
          -225,
          -225
         ],
         "yaxis": "y"
        },
        {
         "hoverinfo": "text",
         "marker": {
          "color": "rgb(35,205,205)"
         },
         "mode": "lines",
         "text": [
          "讨论_照片_导致_政治_世界",
          "",
          "",
          "印度_希望_团队_国外_讨论"
         ],
         "type": "scatter",
         "x": [
          0,
          0.8189513375795079,
          0.8189513375795079,
          0
         ],
         "xaxis": "x",
         "y": [
          -235,
          -235,
          -245,
          -245
         ],
         "yaxis": "y"
        },
        {
         "hoverinfo": "text",
         "marker": {
          "color": "rgb(35,205,205)"
         },
         "mode": "lines",
         "text": [
          "记者_社会_言论_影响_报道",
          "",
          "",
          "讨论_印度_照片_希望_导致"
         ],
         "type": "scatter",
         "x": [
          0.8853165059612708,
          0.9753387190187942,
          0.9753387190187942,
          0.8189513375795079
         ],
         "xaxis": "x",
         "y": [
          -220,
          -220,
          -240,
          -240
         ],
         "yaxis": "y"
        },
        {
         "hoverinfo": "text",
         "marker": {
          "color": "rgb(0,116,217)"
         },
         "mode": "lines",
         "text": [
          "增加_提供_性别_相关_西游记",
          "",
          "",
          "记者_讨论_社会_国外_言论"
         ],
         "type": "scatter",
         "x": [
          0.848682509411399,
          1.078252458532368,
          1.078252458532368,
          0.9753387190187942
         ],
         "xaxis": "x",
         "y": [
          -200,
          -200,
          -230,
          -230
         ],
         "yaxis": "y"
        },
        {
         "hoverinfo": "text",
         "marker": {
          "color": "rgb(61,153,112)"
         },
         "mode": "lines",
         "text": [
          "猴子_水平_恶心_脸模_关系",
          "",
          "",
          "豆瓣_女拳_四处_黑神话悟空_哈哈哈哈"
         ],
         "type": "scatter",
         "x": [
          0,
          0.8447277659284516,
          0.8447277659284516,
          0
         ],
         "xaxis": "x",
         "y": [
          -255,
          -255,
          -265,
          -265
         ],
         "yaxis": "y"
        },
        {
         "hoverinfo": "text",
         "marker": {
          "color": "rgb(61,153,112)"
         },
         "mode": "lines",
         "text": [
          "女权_权益_迎合_不想_互联网",
          "",
          "",
          "正确_多元化_不到_成功_刻板"
         ],
         "type": "scatter",
         "x": [
          0,
          0.9005713720836447,
          0.9005713720836447,
          0
         ],
         "xaxis": "x",
         "y": [
          -275,
          -275,
          -285,
          -285
         ],
         "yaxis": "y"
        },
        {
         "hoverinfo": "text",
         "marker": {
          "color": "rgb(61,153,112)"
         },
         "mode": "lines",
         "text": [
          "豆瓣_女拳_四处_猴子_水平",
          "",
          "",
          "女权_尊重_权益_迎合_不想"
         ],
         "type": "scatter",
         "x": [
          0.8447277659284516,
          0.9480595417410116,
          0.9480595417410116,
          0.9005713720836447
         ],
         "xaxis": "x",
         "y": [
          -260,
          -260,
          -280,
          -280
         ],
         "yaxis": "y"
        },
        {
         "hoverinfo": "text",
         "marker": {
          "color": "rgb(255,65,54)"
         },
         "mode": "lines",
         "text": [
          "网友_美女_男性_真人_符合",
          "",
          "",
          "女人_长得_steam_展开_美女"
         ],
         "type": "scatter",
         "x": [
          0,
          0.8432742631218337,
          0.8432742631218337,
          0
         ],
         "xaxis": "x",
         "y": [
          -295,
          -295,
          -305,
          -305
         ],
         "yaxis": "y"
        },
        {
         "hoverinfo": "text",
         "marker": {
          "color": "rgb(0,116,217)"
         },
         "mode": "lines",
         "text": [
          "女权_四处_豆瓣_尊重_女拳",
          "",
          "",
          "美女_女人_长得_steam_展开"
         ],
         "type": "scatter",
         "x": [
          0.9480595417410116,
          1.0313915789651162,
          1.0313915789651162,
          0.8432742631218337
         ],
         "xaxis": "x",
         "y": [
          -270,
          -270,
          -300,
          -300
         ],
         "yaxis": "y"
        },
        {
         "hoverinfo": "text",
         "marker": {
          "color": "rgb(0,116,217)"
         },
         "mode": "lines",
         "text": [
          "记者_讨论_报道_社会_国外",
          "",
          "",
          "美女_女人_女权_尊重_女性"
         ],
         "type": "scatter",
         "x": [
          1.078252458532368,
          1.1468892841930562,
          1.1468892841930562,
          1.0313915789651162
         ],
         "xaxis": "x",
         "y": [
          -215,
          -215,
          -285,
          -285
         ],
         "yaxis": "y"
        },
        {
         "hoverinfo": "text",
         "marker": {
          "color": "rgb(0,116,217)"
         },
         "mode": "lines",
         "text": [
          "性别歧视_发布_游戏科学_中国_关注",
          "",
          "",
          "美女_女人_女权_女性_网友"
         ],
         "type": "scatter",
         "x": [
          0.4586589411355131,
          1.2038292495021605,
          1.2038292495021605,
          1.1468892841930562
         ],
         "xaxis": "x",
         "y": [
          -180,
          -180,
          -250,
          -250
         ],
         "yaxis": "y"
        },
        {
         "hoverinfo": "text",
         "marker": {
          "color": "rgb(0,116,217)"
         },
         "mode": "lines",
         "text": [
          "特别_策划_星鸣特攻_玩游戏_游戏",
          "",
          "",
          "报道_美女_女人_女权_中国"
         ],
         "type": "scatter",
         "x": [
          1.1574317913286607,
          1.277383860204968,
          1.277383860204968,
          1.2038292495021605
         ],
         "xaxis": "x",
         "y": [
          -114.375,
          -114.375,
          -215,
          -215
         ],
         "yaxis": "y"
        },
        {
         "hoverinfo": "text",
         "marker": {
          "color": "rgb(35,205,205)"
         },
         "mode": "lines",
         "text": [
          "全女_评论_说话_工作室_十年",
          "",
          "",
          "小时候_评论_终于_十年_作者"
         ],
         "type": "scatter",
         "x": [
          0,
          0.24123992462872557,
          0.24123992462872557,
          0
         ],
         "xaxis": "x",
         "y": [
          -315,
          -315,
          -325,
          -325
         ],
         "yaxis": "y"
        },
        {
         "hoverinfo": "text",
         "marker": {
          "color": "rgb(0,116,217)"
         },
         "mode": "lines",
         "text": [
          "游戏_女性_星鸣特攻_特别_策划",
          "",
          "",
          "评论_十年_全女_小时候_作者"
         ],
         "type": "scatter",
         "x": [
          1.277383860204968,
          1.3175700795283705,
          1.3175700795283705,
          0.24123992462872557
         ],
         "xaxis": "x",
         "y": [
          -164.6875,
          -164.6875,
          -320,
          -320
         ],
         "yaxis": "y"
        },
        {
         "hoverinfo": "text",
         "marker": {
          "color": "rgb(0,116,217)"
         },
         "mode": "lines",
         "text": [
          "原型_建模_西方_外国_女性角色",
          "",
          "",
          "游戏_女性_星鸣特攻_玩家_黑神话"
         ],
         "type": "scatter",
         "x": [
          1.0160698705888258,
          1.390730862518812,
          1.390730862518812,
          1.3175700795283705
         ],
         "xaxis": "x",
         "y": [
          -53.75,
          -53.75,
          -242.34375,
          -242.34375
         ],
         "yaxis": "y"
        },
        {
         "hoverinfo": "text",
         "marker": {
          "color": "rgb(0,116,217)"
         },
         "mode": "lines",
         "text": [
          "四妹_兄弟_有个_地方_作用",
          "",
          "",
          "游戏_女性_玩家_黑神话_有人"
         ],
         "type": "scatter",
         "x": [
          0.6646115043110409,
          1.5905715024217393,
          1.5905715024217393,
          1.390730862518812
         ],
         "xaxis": "x",
         "y": [
          -17.5,
          -17.5,
          -148.046875,
          -148.046875
         ],
         "yaxis": "y"
        },
        {
         "hoverinfo": "text",
         "hovertext": [
          "四妹_兄弟_有个_地方_作用",
          "女性角色_悟空_西方_韩国_视频",
          "原型_建模_例子_提到_情况",
          "瑞幸_抵制_黑神话_侮辱_几年",
          "抵制_真的_联动_为啥_爱国",
          "乙游_乙女游戏_算是_原神_玩乙游",
          "记者_社会_言论_影响_报道",
          "增加_提供_性别_相关_西游记",
          "豆瓣_女拳_四处_猴子_水平",
          "女权_四处_豆瓣_尊重_女拳",
          "记者_讨论_报道_社会_国外",
          "性别歧视_发布_游戏科学_中国_关注",
          "特别_策划_星鸣特攻_玩游戏_游戏",
          "游戏_女性_星鸣特攻_特别_策划",
          "原型_建模_西方_外国_女性角色",
          "四妹_兄弟_有个_地方_作用"
         ],
         "marker": {
          "color": "black"
         },
         "mode": "markers",
         "showlegend": false,
         "type": "scatter",
         "x": [
          0.011645170421715867,
          0.7121994464079717,
          0.35554934546688244,
          0.6398709446197894,
          0.9575917557267136,
          0.6581025108903007,
          0.8853165059612708,
          0.848682509411399,
          0.8447277659284516,
          0.9480595417410116,
          1.078252458532368,
          0.4586589411355131,
          1.1574317913286607,
          1.277383860204968,
          1.0160698705888258,
          0.6646115043110409
         ],
         "y": [
          -10,
          -60,
          -40,
          -120,
          -117.5,
          -90,
          -220,
          -200,
          -260,
          -270,
          -215,
          -180,
          -114.375,
          -164.6875,
          -53.75,
          -17.5
         ]
        },
        {
         "hoverinfo": "text",
         "hovertext": [
          "外国_眯眯眼_西方_喜欢_是因为",
          "态度_联动_抵制_大作_女玩家",
          "抵制_联动_态度_瑞幸_大作",
          "特别_策划_星鸣特攻_赚钱_原因",
          "特别_策划_星鸣特攻_游戏_赚钱",
          "讨论_印度_照片_希望_导致",
          "记者_讨论_社会_国外_言论",
          "女权_尊重_权益_迎合_不想",
          "美女_女人_长得_steam_展开",
          "美女_女人_女权_尊重_女性",
          "美女_女人_女权_女性_网友",
          "报道_美女_女人_女权_中国",
          "评论_十年_全女_小时候_作者",
          "游戏_女性_星鸣特攻_玩家_黑神话",
          "游戏_女性_玩家_黑神话_有人"
         ],
         "marker": {
          "color": "black"
         },
         "mode": "markers",
         "showlegend": false,
         "type": "scatter",
         "x": [
          0.7206298752991523,
          0.8516882968693288,
          0.8867333401236883,
          0.5023467450333774,
          1.1231856686662063,
          0.8189513375795079,
          0.9753387190187942,
          0.9005713720836447,
          0.8432742631218337,
          1.0313915789651162,
          1.1468892841930562,
          1.2038292495021605,
          0.24123992462872557,
          1.3175700795283705,
          1.390730862518812
         ],
         "y": [
          -67.5,
          -140,
          -130,
          -160,
          -138.75,
          -240,
          -230,
          -280,
          -300,
          -285,
          -250,
          -215,
          -320,
          -242.34375,
          -148.046875
         ]
        }
       ],
       "layout": {
        "autosize": false,
        "height": 695,
        "hoverlabel": {
         "bgcolor": "white",
         "font": {
          "family": "Rockwell",
          "size": 16
         }
        },
        "hovermode": "closest",
        "plot_bgcolor": "#ECEFF1",
        "showlegend": false,
        "template": {
         "data": {
          "bar": [
           {
            "error_x": {
             "color": "#2a3f5f"
            },
            "error_y": {
             "color": "#2a3f5f"
            },
            "marker": {
             "line": {
              "color": "white",
              "width": 0.5
             },
             "pattern": {
              "fillmode": "overlay",
              "size": 10,
              "solidity": 0.2
             }
            },
            "type": "bar"
           }
          ],
          "barpolar": [
           {
            "marker": {
             "line": {
              "color": "white",
              "width": 0.5
             },
             "pattern": {
              "fillmode": "overlay",
              "size": 10,
              "solidity": 0.2
             }
            },
            "type": "barpolar"
           }
          ],
          "carpet": [
           {
            "aaxis": {
             "endlinecolor": "#2a3f5f",
             "gridcolor": "#C8D4E3",
             "linecolor": "#C8D4E3",
             "minorgridcolor": "#C8D4E3",
             "startlinecolor": "#2a3f5f"
            },
            "baxis": {
             "endlinecolor": "#2a3f5f",
             "gridcolor": "#C8D4E3",
             "linecolor": "#C8D4E3",
             "minorgridcolor": "#C8D4E3",
             "startlinecolor": "#2a3f5f"
            },
            "type": "carpet"
           }
          ],
          "choropleth": [
           {
            "colorbar": {
             "outlinewidth": 0,
             "ticks": ""
            },
            "type": "choropleth"
           }
          ],
          "contour": [
           {
            "colorbar": {
             "outlinewidth": 0,
             "ticks": ""
            },
            "colorscale": [
             [
              0,
              "#0d0887"
             ],
             [
              0.1111111111111111,
              "#46039f"
             ],
             [
              0.2222222222222222,
              "#7201a8"
             ],
             [
              0.3333333333333333,
              "#9c179e"
             ],
             [
              0.4444444444444444,
              "#bd3786"
             ],
             [
              0.5555555555555556,
              "#d8576b"
             ],
             [
              0.6666666666666666,
              "#ed7953"
             ],
             [
              0.7777777777777778,
              "#fb9f3a"
             ],
             [
              0.8888888888888888,
              "#fdca26"
             ],
             [
              1,
              "#f0f921"
             ]
            ],
            "type": "contour"
           }
          ],
          "contourcarpet": [
           {
            "colorbar": {
             "outlinewidth": 0,
             "ticks": ""
            },
            "type": "contourcarpet"
           }
          ],
          "heatmap": [
           {
            "colorbar": {
             "outlinewidth": 0,
             "ticks": ""
            },
            "colorscale": [
             [
              0,
              "#0d0887"
             ],
             [
              0.1111111111111111,
              "#46039f"
             ],
             [
              0.2222222222222222,
              "#7201a8"
             ],
             [
              0.3333333333333333,
              "#9c179e"
             ],
             [
              0.4444444444444444,
              "#bd3786"
             ],
             [
              0.5555555555555556,
              "#d8576b"
             ],
             [
              0.6666666666666666,
              "#ed7953"
             ],
             [
              0.7777777777777778,
              "#fb9f3a"
             ],
             [
              0.8888888888888888,
              "#fdca26"
             ],
             [
              1,
              "#f0f921"
             ]
            ],
            "type": "heatmap"
           }
          ],
          "heatmapgl": [
           {
            "colorbar": {
             "outlinewidth": 0,
             "ticks": ""
            },
            "colorscale": [
             [
              0,
              "#0d0887"
             ],
             [
              0.1111111111111111,
              "#46039f"
             ],
             [
              0.2222222222222222,
              "#7201a8"
             ],
             [
              0.3333333333333333,
              "#9c179e"
             ],
             [
              0.4444444444444444,
              "#bd3786"
             ],
             [
              0.5555555555555556,
              "#d8576b"
             ],
             [
              0.6666666666666666,
              "#ed7953"
             ],
             [
              0.7777777777777778,
              "#fb9f3a"
             ],
             [
              0.8888888888888888,
              "#fdca26"
             ],
             [
              1,
              "#f0f921"
             ]
            ],
            "type": "heatmapgl"
           }
          ],
          "histogram": [
           {
            "marker": {
             "pattern": {
              "fillmode": "overlay",
              "size": 10,
              "solidity": 0.2
             }
            },
            "type": "histogram"
           }
          ],
          "histogram2d": [
           {
            "colorbar": {
             "outlinewidth": 0,
             "ticks": ""
            },
            "colorscale": [
             [
              0,
              "#0d0887"
             ],
             [
              0.1111111111111111,
              "#46039f"
             ],
             [
              0.2222222222222222,
              "#7201a8"
             ],
             [
              0.3333333333333333,
              "#9c179e"
             ],
             [
              0.4444444444444444,
              "#bd3786"
             ],
             [
              0.5555555555555556,
              "#d8576b"
             ],
             [
              0.6666666666666666,
              "#ed7953"
             ],
             [
              0.7777777777777778,
              "#fb9f3a"
             ],
             [
              0.8888888888888888,
              "#fdca26"
             ],
             [
              1,
              "#f0f921"
             ]
            ],
            "type": "histogram2d"
           }
          ],
          "histogram2dcontour": [
           {
            "colorbar": {
             "outlinewidth": 0,
             "ticks": ""
            },
            "colorscale": [
             [
              0,
              "#0d0887"
             ],
             [
              0.1111111111111111,
              "#46039f"
             ],
             [
              0.2222222222222222,
              "#7201a8"
             ],
             [
              0.3333333333333333,
              "#9c179e"
             ],
             [
              0.4444444444444444,
              "#bd3786"
             ],
             [
              0.5555555555555556,
              "#d8576b"
             ],
             [
              0.6666666666666666,
              "#ed7953"
             ],
             [
              0.7777777777777778,
              "#fb9f3a"
             ],
             [
              0.8888888888888888,
              "#fdca26"
             ],
             [
              1,
              "#f0f921"
             ]
            ],
            "type": "histogram2dcontour"
           }
          ],
          "mesh3d": [
           {
            "colorbar": {
             "outlinewidth": 0,
             "ticks": ""
            },
            "type": "mesh3d"
           }
          ],
          "parcoords": [
           {
            "line": {
             "colorbar": {
              "outlinewidth": 0,
              "ticks": ""
             }
            },
            "type": "parcoords"
           }
          ],
          "pie": [
           {
            "automargin": true,
            "type": "pie"
           }
          ],
          "scatter": [
           {
            "fillpattern": {
             "fillmode": "overlay",
             "size": 10,
             "solidity": 0.2
            },
            "type": "scatter"
           }
          ],
          "scatter3d": [
           {
            "line": {
             "colorbar": {
              "outlinewidth": 0,
              "ticks": ""
             }
            },
            "marker": {
             "colorbar": {
              "outlinewidth": 0,
              "ticks": ""
             }
            },
            "type": "scatter3d"
           }
          ],
          "scattercarpet": [
           {
            "marker": {
             "colorbar": {
              "outlinewidth": 0,
              "ticks": ""
             }
            },
            "type": "scattercarpet"
           }
          ],
          "scattergeo": [
           {
            "marker": {
             "colorbar": {
              "outlinewidth": 0,
              "ticks": ""
             }
            },
            "type": "scattergeo"
           }
          ],
          "scattergl": [
           {
            "marker": {
             "colorbar": {
              "outlinewidth": 0,
              "ticks": ""
             }
            },
            "type": "scattergl"
           }
          ],
          "scattermapbox": [
           {
            "marker": {
             "colorbar": {
              "outlinewidth": 0,
              "ticks": ""
             }
            },
            "type": "scattermapbox"
           }
          ],
          "scatterpolar": [
           {
            "marker": {
             "colorbar": {
              "outlinewidth": 0,
              "ticks": ""
             }
            },
            "type": "scatterpolar"
           }
          ],
          "scatterpolargl": [
           {
            "marker": {
             "colorbar": {
              "outlinewidth": 0,
              "ticks": ""
             }
            },
            "type": "scatterpolargl"
           }
          ],
          "scatterternary": [
           {
            "marker": {
             "colorbar": {
              "outlinewidth": 0,
              "ticks": ""
             }
            },
            "type": "scatterternary"
           }
          ],
          "surface": [
           {
            "colorbar": {
             "outlinewidth": 0,
             "ticks": ""
            },
            "colorscale": [
             [
              0,
              "#0d0887"
             ],
             [
              0.1111111111111111,
              "#46039f"
             ],
             [
              0.2222222222222222,
              "#7201a8"
             ],
             [
              0.3333333333333333,
              "#9c179e"
             ],
             [
              0.4444444444444444,
              "#bd3786"
             ],
             [
              0.5555555555555556,
              "#d8576b"
             ],
             [
              0.6666666666666666,
              "#ed7953"
             ],
             [
              0.7777777777777778,
              "#fb9f3a"
             ],
             [
              0.8888888888888888,
              "#fdca26"
             ],
             [
              1,
              "#f0f921"
             ]
            ],
            "type": "surface"
           }
          ],
          "table": [
           {
            "cells": {
             "fill": {
              "color": "#EBF0F8"
             },
             "line": {
              "color": "white"
             }
            },
            "header": {
             "fill": {
              "color": "#C8D4E3"
             },
             "line": {
              "color": "white"
             }
            },
            "type": "table"
           }
          ]
         },
         "layout": {
          "annotationdefaults": {
           "arrowcolor": "#2a3f5f",
           "arrowhead": 0,
           "arrowwidth": 1
          },
          "autotypenumbers": "strict",
          "coloraxis": {
           "colorbar": {
            "outlinewidth": 0,
            "ticks": ""
           }
          },
          "colorscale": {
           "diverging": [
            [
             0,
             "#8e0152"
            ],
            [
             0.1,
             "#c51b7d"
            ],
            [
             0.2,
             "#de77ae"
            ],
            [
             0.3,
             "#f1b6da"
            ],
            [
             0.4,
             "#fde0ef"
            ],
            [
             0.5,
             "#f7f7f7"
            ],
            [
             0.6,
             "#e6f5d0"
            ],
            [
             0.7,
             "#b8e186"
            ],
            [
             0.8,
             "#7fbc41"
            ],
            [
             0.9,
             "#4d9221"
            ],
            [
             1,
             "#276419"
            ]
           ],
           "sequential": [
            [
             0,
             "#0d0887"
            ],
            [
             0.1111111111111111,
             "#46039f"
            ],
            [
             0.2222222222222222,
             "#7201a8"
            ],
            [
             0.3333333333333333,
             "#9c179e"
            ],
            [
             0.4444444444444444,
             "#bd3786"
            ],
            [
             0.5555555555555556,
             "#d8576b"
            ],
            [
             0.6666666666666666,
             "#ed7953"
            ],
            [
             0.7777777777777778,
             "#fb9f3a"
            ],
            [
             0.8888888888888888,
             "#fdca26"
            ],
            [
             1,
             "#f0f921"
            ]
           ],
           "sequentialminus": [
            [
             0,
             "#0d0887"
            ],
            [
             0.1111111111111111,
             "#46039f"
            ],
            [
             0.2222222222222222,
             "#7201a8"
            ],
            [
             0.3333333333333333,
             "#9c179e"
            ],
            [
             0.4444444444444444,
             "#bd3786"
            ],
            [
             0.5555555555555556,
             "#d8576b"
            ],
            [
             0.6666666666666666,
             "#ed7953"
            ],
            [
             0.7777777777777778,
             "#fb9f3a"
            ],
            [
             0.8888888888888888,
             "#fdca26"
            ],
            [
             1,
             "#f0f921"
            ]
           ]
          },
          "colorway": [
           "#636efa",
           "#EF553B",
           "#00cc96",
           "#ab63fa",
           "#FFA15A",
           "#19d3f3",
           "#FF6692",
           "#B6E880",
           "#FF97FF",
           "#FECB52"
          ],
          "font": {
           "color": "#2a3f5f"
          },
          "geo": {
           "bgcolor": "white",
           "lakecolor": "white",
           "landcolor": "white",
           "showlakes": true,
           "showland": true,
           "subunitcolor": "#C8D4E3"
          },
          "hoverlabel": {
           "align": "left"
          },
          "hovermode": "closest",
          "mapbox": {
           "style": "light"
          },
          "paper_bgcolor": "white",
          "plot_bgcolor": "white",
          "polar": {
           "angularaxis": {
            "gridcolor": "#EBF0F8",
            "linecolor": "#EBF0F8",
            "ticks": ""
           },
           "bgcolor": "white",
           "radialaxis": {
            "gridcolor": "#EBF0F8",
            "linecolor": "#EBF0F8",
            "ticks": ""
           }
          },
          "scene": {
           "xaxis": {
            "backgroundcolor": "white",
            "gridcolor": "#DFE8F3",
            "gridwidth": 2,
            "linecolor": "#EBF0F8",
            "showbackground": true,
            "ticks": "",
            "zerolinecolor": "#EBF0F8"
           },
           "yaxis": {
            "backgroundcolor": "white",
            "gridcolor": "#DFE8F3",
            "gridwidth": 2,
            "linecolor": "#EBF0F8",
            "showbackground": true,
            "ticks": "",
            "zerolinecolor": "#EBF0F8"
           },
           "zaxis": {
            "backgroundcolor": "white",
            "gridcolor": "#DFE8F3",
            "gridwidth": 2,
            "linecolor": "#EBF0F8",
            "showbackground": true,
            "ticks": "",
            "zerolinecolor": "#EBF0F8"
           }
          },
          "shapedefaults": {
           "line": {
            "color": "#2a3f5f"
           }
          },
          "ternary": {
           "aaxis": {
            "gridcolor": "#DFE8F3",
            "linecolor": "#A2B1C6",
            "ticks": ""
           },
           "baxis": {
            "gridcolor": "#DFE8F3",
            "linecolor": "#A2B1C6",
            "ticks": ""
           },
           "bgcolor": "white",
           "caxis": {
            "gridcolor": "#DFE8F3",
            "linecolor": "#A2B1C6",
            "ticks": ""
           }
          },
          "title": {
           "x": 0.05
          },
          "xaxis": {
           "automargin": true,
           "gridcolor": "#EBF0F8",
           "linecolor": "#EBF0F8",
           "ticks": "",
           "title": {
            "standoff": 15
           },
           "zerolinecolor": "#EBF0F8",
           "zerolinewidth": 2
          },
          "yaxis": {
           "automargin": true,
           "gridcolor": "#EBF0F8",
           "linecolor": "#EBF0F8",
           "ticks": "",
           "title": {
            "standoff": 15
           },
           "zerolinecolor": "#EBF0F8",
           "zerolinewidth": 2
          }
         }
        },
        "title": {
         "font": {
          "color": "Black",
          "size": 22
         },
         "text": "<b>Hierarchical Clustering</b>",
         "x": 0.5,
         "xanchor": "center",
         "yanchor": "top"
        },
        "width": 1000,
        "xaxis": {
         "mirror": "allticks",
         "rangemode": "tozero",
         "showgrid": false,
         "showline": true,
         "showticklabels": true,
         "ticks": "outside",
         "type": "linear",
         "zeroline": false
        },
        "yaxis": {
         "mirror": "allticks",
         "range": [
          -330,
          0
         ],
         "rangemode": "tozero",
         "showgrid": false,
         "showline": true,
         "showticklabels": true,
         "tickmode": "array",
         "ticks": "outside",
         "ticktext": [
          "13_四妹_有个_兄弟",
          "15_四妹_兄弟_全是",
          "24_四妹_仙人_孩子",
          "31_民族_例子_审美",
          "17_原型_建模_美丽",
          "18_悟空_女性角色_组织",
          "23_韩国_视频_一条",
          "16_眯眯眼_外国_是因为",
          "32_乙游_一句_官方",
          "30_乙游_算是_原神",
          "10_爱国_为啥_营销",
          "8_黑神话_屁股_黑猴",
          "20_瑞幸_抵制_侮辱",
          "11_态度_联动_抵制",
          "25_大作_女玩家_微博",
          "0_特别_策划_星鸣特攻",
          "9_ign_指责_策划",
          "3_性别歧视_发布_媒体",
          "5_观点_报道_冯骥",
          "22_增加_相关_外媒",
          "28_西游记_多元_成立",
          "26_影响_言论_工作室",
          "12_记者_报道_目的",
          "19_讨论_照片_导致",
          "27_印度_希望_团队",
          "7_猴子_水平_恶心",
          "6_豆瓣_女拳_四处",
          "2_女权_权益_迎合",
          "21_正确_多元化_不到",
          "4_网友_美女_男性",
          "1_女人_长得_steam",
          "14_全女_评论_说话",
          "29_小时候_评论_终于"
         ],
         "tickvals": [
          -5,
          -15,
          -25,
          -35,
          -45,
          -55,
          -65,
          -75,
          -85,
          -95,
          -105,
          -115,
          -125,
          -135,
          -145,
          -155,
          -165,
          -175,
          -185,
          -195,
          -205,
          -215,
          -225,
          -235,
          -245,
          -255,
          -265,
          -275,
          -285,
          -295,
          -305,
          -315,
          -325
         ],
         "type": "linear",
         "zeroline": false
        }
       }
      }
     },
     "metadata": {},
     "output_type": "display_data"
    }
   ],
   "source": [
    "custom_distance_func = lambda X: np.maximum(0, 1 - cosine_similarity(X))\n",
    "hierarchical_topics = best_topic_model.hierarchical_topics(\n",
    "    docs_tokens,\n",
    "    distance_function=custom_distance_func\n",
    ")\n",
    "fig_hierarchy = best_topic_model.visualize_hierarchy(\n",
    "    hierarchical_topics=hierarchical_topics,\n",
    "    distance_function=custom_distance_func\n",
    ")\n",
    "fig_hierarchy_filename = f\"hierarchical_topics_auto_{suffix}.html\"\n",
    "fig_hierarchy.write_html(fig_hierarchy_filename)\n",
    "print(f\"自动聚类后的层次聚类结果已保存为 {fig_hierarchy_filename}\")\n",
    "fig_hierarchy.show()"
   ]
  },
  {
   "cell_type": "markdown",
   "metadata": {},
   "source": []
  }
 ],
 "metadata": {
  "kernelspec": {
   "display_name": "Python 3",
   "language": "python",
   "name": "python3"
  },
  "language_info": {
   "codemirror_mode": {
    "name": "ipython",
    "version": 3
   },
   "file_extension": ".py",
   "mimetype": "text/x-python",
   "name": "python",
   "nbconvert_exporter": "python",
   "pygments_lexer": "ipython3",
   "version": "3.10.15"
  }
 },
 "nbformat": 4,
 "nbformat_minor": 2
}
